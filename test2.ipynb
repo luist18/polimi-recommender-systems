{
 "cells": [
  {
   "cell_type": "code",
   "execution_count": 24,
   "metadata": {},
   "outputs": [
    {
     "name": "stdout",
     "output_type": "stream",
     "text": [
      "Unzipping dataset...\n",
      "Loading interactions...\n",
      "Loading features...\n",
      "Loading target ids...\n",
      "Cleaning up...\n",
      "Building URM and ICM with criteria ONE_INTERACTED...\n",
      "Unzipping dataset...\n",
      "Loading interactions...\n",
      "Loading features...\n",
      "Loading target ids...\n",
      "Cleaning up...\n",
      "Building URM and ICM with criteria SUM...\n",
      "Warning: 738 (1.77 %) of 41629 users have no sampled items\n",
      "Warning: 704 (1.69 %) of 41629 users have no sampled items\n",
      "EvaluatorHoldout: Ignoring 738 ( 1.8%) Users that have less than 1 test interactions\n",
      "EvaluatorHoldout: Ignoring 704 ( 1.7%) Users that have less than 1 test interactions\n",
      "Dataset loaded successfully with URM type: ONE_INTERACTED\n",
      "Fitting model RP3betaRecommender...\n",
      "Fit params: {'topK': 236, 'beta': 0.3635362818322568, 'alpha': 0.11616698155699168, 'normalize_similarity': True, 'implicit': True}\n",
      "RP3betaRecommender: Similarity column 19630 (100.0%), 2957.59 column/sec. Elapsed time 6.64 sec\n",
      "Computing evaluation...\n"
     ]
    },
    {
     "name": "stderr",
     "output_type": "stream",
     "text": [
      "/Users/luistavares/Desktop/recommender-systems/Evaluation/metrics.py:276: RuntimeWarning: overflow encountered in power\n",
      "  return np.sum(np.divide(np.power(2, scores) - 1, np.log2(np.arange(scores.shape[0], dtype=np.float64) + 2)),\n",
      "/Users/luistavares/Desktop/recommender-systems/Evaluation/metrics.py:270: RuntimeWarning: invalid value encountered in double_scalars\n",
      "  ndcg_ = rank_dcg / ideal_dcg\n"
     ]
    },
    {
     "name": "stdout",
     "output_type": "stream",
     "text": [
      "EvaluatorHoldout: Processed 40925 (100.0%) in 17.07 sec. Users per second: 2397\n",
      "MAP@10: 0.0248030\n"
     ]
    }
   ],
   "source": [
    "# importing this library so the seed stays the same\n",
    "import inspect\n",
    "\n",
    "import Utils.not_random\n",
    "import Utils.submission as submission\n",
    "from Data.RecSys2022 import RecSys2022, RecSys2022URMType\n",
    "from Data_manager.split_functions.split_train_validation_random_holdout import \\\n",
    "    split_train_in_two_percentage_global_sample\n",
    "from Evaluation.Evaluator import EvaluatorHoldout\n",
    "from Evaluator import Evaluator\n",
    "\n",
    "from Recommenders.GraphBased.RP3betaRecommender import RP3betaRecommender\n",
    "\n",
    "\n",
    "dataset = RecSys2022(feature_dummies=True)\n",
    "dataset.build(type=RecSys2022URMType.ONE_INTERACTED)\n",
    "\n",
    "dataset2 = RecSys2022(feature_dummies=True)\n",
    "dataset2.build(type=RecSys2022URMType.SUM)\n",
    "\n",
    "urm = dataset.get_urm()\n",
    "icm = dataset.get_icm()\n",
    "urm_summed = dataset2.get_urm()\n",
    "\n",
    "urm_type = dataset.get_urm_type()\n",
    "\n",
    "urm_train, urm_validation = split_train_in_two_percentage_global_sample(\n",
    "    urm, train_percentage=0.8)\n",
    "urm_train_summed, urm_validation_summed = split_train_in_two_percentage_global_sample(\n",
    "    urm_summed, train_percentage=0.8)\n",
    "\n",
    "evaluator_validation = EvaluatorHoldout(urm_validation, cutoff_list=[10])\n",
    "evaluator_validation_summed = EvaluatorHoldout(urm_validation_summed, cutoff_list=[10])\n",
    "\n",
    "print('Dataset loaded successfully with URM type:', urm_type.name)\n",
    "\n",
    "model = RP3betaRecommender(urm_train_summed)\n",
    "\n",
    "fit_params = {'topK': 236,\n",
    " 'beta': 0.3635362818322568,\n",
    " 'alpha': 0.11616698155699168,\n",
    " 'normalize_similarity': True,\n",
    " 'implicit': True}\n",
    "\n",
    "print(f'Fitting model {model.__class__.__name__}...')\n",
    "print(f'Fit params: {fit_params}')\n",
    "model.fit(**fit_params)\n",
    "\n",
    "print('Computing evaluation...')\n",
    "\n",
    "result_df, _ = evaluator_validation_summed.evaluateRecommender(model)\n",
    "\n",
    "map_value = result_df.loc[10][\"MAP\"]\n",
    "print(f'MAP@10: {map_value:.7f}')"
   ]
  },
  {
   "cell_type": "code",
   "execution_count": 4,
   "metadata": {},
   "outputs": [
    {
     "name": "stdout",
     "output_type": "stream",
     "text": [
      "Fitting model RP3betaRecommender...\n",
      "Fit params: {'alpha': 0.719514, 'beta': 0.229898, 'min_rating': 0, 'topK': 80, 'implicit': True, 'normalize_similarity': True}\n",
      "RP3betaRecommender: Similarity column 19630 (100.0%), 4744.53 column/sec. Elapsed time 4.14 sec\n",
      "EvaluatorHoldout: Processed 40856 (100.0%) in 14.21 sec. Users per second: 2874\n",
      "MAP@10: 0.0299137\n"
     ]
    }
   ],
   "source": [
    "model = RP3betaRecommender(urm_train)\n",
    "\n",
    "fit_params = {\n",
    "    'alpha': 0.719514,\n",
    "    'beta': 0.229898,\n",
    "    'min_rating': 0,\n",
    "    'topK': 80,\n",
    "    'implicit': True,\n",
    "    'normalize_similarity': True\n",
    "}\n",
    "\n",
    "print(f'Fitting model {model.__class__.__name__}...')\n",
    "print(f'Fit params: {fit_params}')\n",
    "model.fit(**fit_params)\n",
    "\n",
    "result_df, _ = evaluator_validation.evaluateRecommender(model)\n",
    "\n",
    "map_value = result_df.loc[10][\"MAP\"]\n",
    "print(f'MAP@10: {map_value:.7f}')\n"
   ]
  },
  {
   "cell_type": "code",
   "execution_count": 16,
   "metadata": {},
   "outputs": [
    {
     "name": "stdout",
     "output_type": "stream",
     "text": [
      "Unzipping dataset...\n",
      "Loading interactions...\n",
      "Loading features...\n",
      "Loading target ids...\n",
      "Cleaning up...\n",
      "Building URM and ICM with criteria SUM...\n",
      "Warning: 700 (1.68 %) of 41629 users have no sampled items\n",
      "Warning: 1415 (3.40 %) of 41629 users have no sampled items\n",
      "EvaluatorHoldout: Ignoring 1415 ( 3.4%) Users that have less than 1 test interactions\n",
      "EvaluatorHoldout: Ignoring 700 ( 1.7%) Users that have less than 1 test interactions\n",
      "Iteration No: 1 started. Evaluating function at random point.\n",
      "SearchBayesianSkopt: Testing config: {'topK': 241, 'beta': 0.3546717916038427, 'alpha': 0.11692790815242463, 'normalize_similarity': True, 'implicit': False}\n",
      "RP3betaRecommender: Similarity column 19630 (100.0%), 3105.74 column/sec. Elapsed time 6.32 sec\n"
     ]
    },
    {
     "name": "stderr",
     "output_type": "stream",
     "text": [
      "/Users/luistavares/Desktop/recommender-systems/Evaluation/metrics.py:276: RuntimeWarning: overflow encountered in power\n",
      "  return np.sum(np.divide(np.power(2, scores) - 1, np.log2(np.arange(scores.shape[0], dtype=np.float64) + 2)),\n",
      "/Users/luistavares/Desktop/recommender-systems/Evaluation/metrics.py:270: RuntimeWarning: invalid value encountered in double_scalars\n",
      "  ndcg_ = rank_dcg / ideal_dcg\n"
     ]
    },
    {
     "name": "stdout",
     "output_type": "stream",
     "text": [
      "EvaluatorHoldout: Processed 40929 (100.0%) in 16.89 sec. Users per second: 2423\n",
      "SearchBayesianSkopt: New best config found. Config 0: {'topK': 241, 'beta': 0.3546717916038427, 'alpha': 0.11692790815242463, 'normalize_similarity': True, 'implicit': False} - results: PRECISION: 0.0448386, PRECISION_RECALL_MIN_DEN: 0.0720398, RECALL: 0.0665477, MAP: 0.0216716, MAP_MIN_DEN: 0.0343299, MRR: 0.1526458, NDCG: nan, F1: 0.0535776, HIT_RATE: 0.3111974, ARHR_ALL_HITS: 0.1806118, NOVELTY: 0.0052687, AVERAGE_POPULARITY: 0.2250630, DIVERSITY_MEAN_INTER_LIST: 0.8930490, DIVERSITY_HERFINDAHL: 0.9893027, COVERAGE_ITEM: 0.7668365, COVERAGE_ITEM_HIT: 0.0624045, ITEMS_IN_GT: 0.9984717, COVERAGE_USER: 0.9831848, COVERAGE_USER_HIT: 0.3059646, USERS_IN_GT: 0.9831848, DIVERSITY_GINI: 0.0641627, SHANNON_ENTROPY: 8.8336379, RATIO_DIVERSITY_HERFINDAHL: 0.9897260, RATIO_DIVERSITY_GINI: 0.1291562, RATIO_SHANNON_ENTROPY: 0.6724387, RATIO_AVERAGE_POPULARITY: 4.1774269, RATIO_NOVELTY: 0.4049291, \n",
      "\n",
      "Iteration No: 1 ended. Evaluation done at random point.\n",
      "Time taken: 26.7972\n",
      "Function value obtained: -0.0217\n",
      "Current minimum: -0.0217\n",
      "Iteration No: 2 started. Evaluating function at random point.\n",
      "SearchBayesianSkopt: Testing config: {'topK': 228, 'beta': 0.36258119992876525, 'alpha': 0.10524815447364909, 'normalize_similarity': True, 'implicit': False}\n",
      "RP3betaRecommender: Similarity column 19630 (100.0%), 3171.30 column/sec. Elapsed time 6.19 sec\n"
     ]
    },
    {
     "name": "stderr",
     "output_type": "stream",
     "text": [
      "/Users/luistavares/Desktop/recommender-systems/Evaluation/metrics.py:276: RuntimeWarning: overflow encountered in power\n",
      "  return np.sum(np.divide(np.power(2, scores) - 1, np.log2(np.arange(scores.shape[0], dtype=np.float64) + 2)),\n",
      "/Users/luistavares/Desktop/recommender-systems/Evaluation/metrics.py:270: RuntimeWarning: invalid value encountered in double_scalars\n",
      "  ndcg_ = rank_dcg / ideal_dcg\n"
     ]
    },
    {
     "name": "stdout",
     "output_type": "stream",
     "text": [
      "EvaluatorHoldout: Processed 40929 (100.0%) in 16.71 sec. Users per second: 2450\n",
      "SearchBayesianSkopt: New best config found. Config 1: {'topK': 228, 'beta': 0.36258119992876525, 'alpha': 0.10524815447364909, 'normalize_similarity': True, 'implicit': False} - results: PRECISION: 0.0448191, PRECISION_RECALL_MIN_DEN: 0.0719776, RECALL: 0.0664828, MAP: 0.0216856, MAP_MIN_DEN: 0.0343294, MRR: 0.1527303, NDCG: nan, F1: 0.0535426, HIT_RATE: 0.3110264, ARHR_ALL_HITS: 0.1807051, NOVELTY: 0.0052929, AVERAGE_POPULARITY: 0.2204348, DIVERSITY_MEAN_INTER_LIST: 0.8982732, DIVERSITY_HERFINDAHL: 0.9898251, COVERAGE_ITEM: 0.7717779, COVERAGE_ITEM_HIT: 0.0637290, ITEMS_IN_GT: 0.9984717, COVERAGE_USER: 0.9831848, COVERAGE_USER_HIT: 0.3057964, USERS_IN_GT: 0.9831848, DIVERSITY_GINI: 0.0663797, SHANNON_ENTROPY: 8.9151995, RATIO_DIVERSITY_HERFINDAHL: 0.9902487, RATIO_DIVERSITY_GINI: 0.1336189, RATIO_SHANNON_ENTROPY: 0.6786473, RATIO_AVERAGE_POPULARITY: 4.0915231, RATIO_NOVELTY: 0.4067887, \n",
      "\n",
      "Iteration No: 2 ended. Evaluation done at random point.\n",
      "Time taken: 26.5115\n",
      "Function value obtained: -0.0217\n",
      "Current minimum: -0.0217\n",
      "Iteration No: 3 started. Evaluating function at random point.\n",
      "SearchBayesianSkopt: Testing config: {'topK': 201, 'beta': 0.33073762356089725, 'alpha': 0.10866537466691342, 'normalize_similarity': True, 'implicit': False}\n",
      "RP3betaRecommender: Similarity column 19630 (100.0%), 3460.57 column/sec. Elapsed time 5.67 sec\n"
     ]
    },
    {
     "name": "stderr",
     "output_type": "stream",
     "text": [
      "/Users/luistavares/Desktop/recommender-systems/Evaluation/metrics.py:276: RuntimeWarning: overflow encountered in power\n",
      "  return np.sum(np.divide(np.power(2, scores) - 1, np.log2(np.arange(scores.shape[0], dtype=np.float64) + 2)),\n",
      "/Users/luistavares/Desktop/recommender-systems/Evaluation/metrics.py:270: RuntimeWarning: invalid value encountered in double_scalars\n",
      "  ndcg_ = rank_dcg / ideal_dcg\n"
     ]
    },
    {
     "name": "stdout",
     "output_type": "stream",
     "text": [
      "EvaluatorHoldout: Processed 40929 (100.0%) in 16.28 sec. Users per second: 2514\n",
      "SearchBayesianSkopt: Config 2 is suboptimal. Config: {'topK': 201, 'beta': 0.33073762356089725, 'alpha': 0.10866537466691342, 'normalize_similarity': True, 'implicit': False} - results: PRECISION: 0.0447849, PRECISION_RECALL_MIN_DEN: 0.0719334, RECALL: 0.0664682, MAP: 0.0216203, MAP_MIN_DEN: 0.0341873, MRR: 0.1525400, NDCG: nan, F1: 0.0535135, HIT_RATE: 0.3113440, ARHR_ALL_HITS: 0.1803462, NOVELTY: 0.0052710, AVERAGE_POPULARITY: 0.2209915, DIVERSITY_MEAN_INTER_LIST: 0.8985855, DIVERSITY_HERFINDAHL: 0.9898563, COVERAGE_ITEM: 0.7417219, COVERAGE_ITEM_HIT: 0.0634743, ITEMS_IN_GT: 0.9984717, COVERAGE_USER: 0.9831848, COVERAGE_USER_HIT: 0.3061087, USERS_IN_GT: 0.9831848, DIVERSITY_GINI: 0.0608470, SHANNON_ENTROPY: 8.8504589, RATIO_DIVERSITY_HERFINDAHL: 0.9902799, RATIO_DIVERSITY_GINI: 0.1224818, RATIO_SHANNON_ENTROPY: 0.6737191, RATIO_AVERAGE_POPULARITY: 4.1018552, RATIO_NOVELTY: 0.4051108, \n",
      "\n",
      "Iteration No: 3 ended. Evaluation done at random point.\n",
      "Time taken: 25.0277\n",
      "Function value obtained: -0.0216\n",
      "Current minimum: -0.0217\n",
      "Iteration No: 4 started. Evaluating function at random point.\n",
      "SearchBayesianSkopt: Testing config: {'topK': 296, 'beta': 0.3544282837290153, 'alpha': 0.10949789472632322, 'normalize_similarity': True, 'implicit': True}\n",
      "RP3betaRecommender: Similarity column 19630 (100.0%), 2764.89 column/sec. Elapsed time 7.10 sec\n"
     ]
    },
    {
     "name": "stderr",
     "output_type": "stream",
     "text": [
      "/Users/luistavares/Desktop/recommender-systems/Evaluation/metrics.py:276: RuntimeWarning: overflow encountered in power\n",
      "  return np.sum(np.divide(np.power(2, scores) - 1, np.log2(np.arange(scores.shape[0], dtype=np.float64) + 2)),\n",
      "/Users/luistavares/Desktop/recommender-systems/Evaluation/metrics.py:270: RuntimeWarning: invalid value encountered in double_scalars\n",
      "  ndcg_ = rank_dcg / ideal_dcg\n"
     ]
    },
    {
     "name": "stdout",
     "output_type": "stream",
     "text": [
      "EvaluatorHoldout: Processed 40929 (100.0%) in 17.84 sec. Users per second: 2295\n",
      "SearchBayesianSkopt: New best config found. Config 3: {'topK': 296, 'beta': 0.3544282837290153, 'alpha': 0.10949789472632322, 'normalize_similarity': True, 'implicit': True} - results: PRECISION: 0.0449315, PRECISION_RECALL_MIN_DEN: 0.0723396, RECALL: 0.0668554, MAP: 0.0217138, MAP_MIN_DEN: 0.0344427, MRR: 0.1533064, NDCG: nan, F1: 0.0537435, HIT_RATE: 0.3125901, ARHR_ALL_HITS: 0.1812162, NOVELTY: 0.0052413, AVERAGE_POPULARITY: 0.2330983, DIVERSITY_MEAN_INTER_LIST: 0.8839165, DIVERSITY_HERFINDAHL: 0.9883895, COVERAGE_ITEM: 0.7720326, COVERAGE_ITEM_HIT: 0.0609272, ITEMS_IN_GT: 0.9984717, COVERAGE_USER: 0.9831848, COVERAGE_USER_HIT: 0.3073338, USERS_IN_GT: 0.9831848, DIVERSITY_GINI: 0.0641977, SHANNON_ENTROPY: 8.7403736, RATIO_DIVERSITY_HERFINDAHL: 0.9888124, RATIO_DIVERSITY_GINI: 0.1292266, RATIO_SHANNON_ENTROPY: 0.6653391, RATIO_AVERAGE_POPULARITY: 4.3265725, RATIO_NOVELTY: 0.4028249, \n",
      "\n",
      "Iteration No: 4 ended. Evaluation done at random point.\n",
      "Time taken: 29.1308\n",
      "Function value obtained: -0.0217\n",
      "Current minimum: -0.0217\n",
      "Iteration No: 5 started. Evaluating function at random point.\n",
      "SearchBayesianSkopt: Testing config: {'topK': 224, 'beta': 0.3698233365082677, 'alpha': 0.09046234777218255, 'normalize_similarity': True, 'implicit': True}\n",
      "RP3betaRecommender: Similarity column 19630 (100.0%), 3222.82 column/sec. Elapsed time 6.09 sec\n"
     ]
    },
    {
     "name": "stderr",
     "output_type": "stream",
     "text": [
      "/Users/luistavares/Desktop/recommender-systems/Evaluation/metrics.py:276: RuntimeWarning: overflow encountered in power\n",
      "  return np.sum(np.divide(np.power(2, scores) - 1, np.log2(np.arange(scores.shape[0], dtype=np.float64) + 2)),\n",
      "/Users/luistavares/Desktop/recommender-systems/Evaluation/metrics.py:270: RuntimeWarning: invalid value encountered in double_scalars\n",
      "  ndcg_ = rank_dcg / ideal_dcg\n"
     ]
    },
    {
     "name": "stdout",
     "output_type": "stream",
     "text": [
      "EvaluatorHoldout: Processed 40929 (100.0%) in 17.40 sec. Users per second: 2352\n",
      "SearchBayesianSkopt: Config 4 is suboptimal. Config: {'topK': 224, 'beta': 0.3698233365082677, 'alpha': 0.09046234777218255, 'normalize_similarity': True, 'implicit': True} - results: PRECISION: 0.0447971, PRECISION_RECALL_MIN_DEN: 0.0719499, RECALL: 0.0664575, MAP: 0.0216915, MAP_MIN_DEN: 0.0343382, MRR: 0.1528294, NDCG: nan, F1: 0.0535187, HIT_RATE: 0.3107332, ARHR_ALL_HITS: 0.1807989, NOVELTY: 0.0053108, AVERAGE_POPULARITY: 0.2173605, DIVERSITY_MEAN_INTER_LIST: 0.9015440, DIVERSITY_HERFINDAHL: 0.9901522, COVERAGE_ITEM: 0.7738156, COVERAGE_ITEM_HIT: 0.0646969, ITEMS_IN_GT: 0.9984717, COVERAGE_USER: 0.9831848, COVERAGE_USER_HIT: 0.3055082, USERS_IN_GT: 0.9831848, DIVERSITY_GINI: 0.0682086, SHANNON_ENTROPY: 8.9745561, RATIO_DIVERSITY_HERFINDAHL: 0.9905759, RATIO_DIVERSITY_GINI: 0.1373004, RATIO_SHANNON_ENTROPY: 0.6831657, RATIO_AVERAGE_POPULARITY: 4.0344610, RATIO_NOVELTY: 0.4081677, \n",
      "\n",
      "Iteration No: 5 ended. Evaluation done at random point.\n",
      "Time taken: 26.9060\n",
      "Function value obtained: -0.0217\n",
      "Current minimum: -0.0217\n",
      "Iteration No: 6 started. Evaluating function at random point.\n",
      "SearchBayesianSkopt: Testing config: {'topK': 256, 'beta': 0.3609901028041365, 'alpha': 0.12292464036811541, 'normalize_similarity': True, 'implicit': True}\n",
      "RP3betaRecommender: Similarity column 19630 (100.0%), 2926.37 column/sec. Elapsed time 6.71 sec\n"
     ]
    },
    {
     "name": "stderr",
     "output_type": "stream",
     "text": [
      "/Users/luistavares/Desktop/recommender-systems/Evaluation/metrics.py:276: RuntimeWarning: overflow encountered in power\n",
      "  return np.sum(np.divide(np.power(2, scores) - 1, np.log2(np.arange(scores.shape[0], dtype=np.float64) + 2)),\n",
      "/Users/luistavares/Desktop/recommender-systems/Evaluation/metrics.py:270: RuntimeWarning: invalid value encountered in double_scalars\n",
      "  ndcg_ = rank_dcg / ideal_dcg\n"
     ]
    },
    {
     "name": "stdout",
     "output_type": "stream",
     "text": [
      "EvaluatorHoldout: Processed 40929 (100.0%) in 16.61 sec. Users per second: 2465\n",
      "SearchBayesianSkopt: Config 5 is suboptimal. Config: {'topK': 256, 'beta': 0.3609901028041365, 'alpha': 0.12292464036811541, 'normalize_similarity': True, 'implicit': True} - results: PRECISION: 0.0449339, PRECISION_RECALL_MIN_DEN: 0.0723007, RECALL: 0.0668021, MAP: 0.0217027, MAP_MIN_DEN: 0.0343782, MRR: 0.1525523, NDCG: nan, F1: 0.0537281, HIT_RATE: 0.3119548, ARHR_ALL_HITS: 0.1806817, NOVELTY: 0.0052671, AVERAGE_POPULARITY: 0.2267220, DIVERSITY_MEAN_INTER_LIST: 0.8910830, DIVERSITY_HERFINDAHL: 0.9891061, COVERAGE_ITEM: 0.7726949, COVERAGE_ITEM_HIT: 0.0627101, ITEMS_IN_GT: 0.9984717, COVERAGE_USER: 0.9831848, COVERAGE_USER_HIT: 0.3067093, USERS_IN_GT: 0.9831848, DIVERSITY_GINI: 0.0652931, SHANNON_ENTROPY: 8.8256045, RATIO_DIVERSITY_HERFINDAHL: 0.9895294, RATIO_DIVERSITY_GINI: 0.1314316, RATIO_SHANNON_ENTROPY: 0.6718271, RATIO_AVERAGE_POPULARITY: 4.2082208, RATIO_NOVELTY: 0.4048078, \n",
      "\n",
      "Iteration No: 6 ended. Evaluation done at random point.\n",
      "Time taken: 27.1550\n",
      "Function value obtained: -0.0217\n",
      "Current minimum: -0.0217\n",
      "Iteration No: 7 started. Evaluating function at random point.\n",
      "SearchBayesianSkopt: Testing config: {'topK': 174, 'beta': 0.3372187929337929, 'alpha': 0.09619877311077901, 'normalize_similarity': True, 'implicit': False}\n",
      "RP3betaRecommender: Similarity column 19630 (100.0%), 3754.48 column/sec. Elapsed time 5.23 sec\n"
     ]
    },
    {
     "name": "stderr",
     "output_type": "stream",
     "text": [
      "/Users/luistavares/Desktop/recommender-systems/Evaluation/metrics.py:276: RuntimeWarning: overflow encountered in power\n",
      "  return np.sum(np.divide(np.power(2, scores) - 1, np.log2(np.arange(scores.shape[0], dtype=np.float64) + 2)),\n",
      "/Users/luistavares/Desktop/recommender-systems/Evaluation/metrics.py:270: RuntimeWarning: invalid value encountered in double_scalars\n",
      "  ndcg_ = rank_dcg / ideal_dcg\n"
     ]
    },
    {
     "name": "stdout",
     "output_type": "stream",
     "text": [
      "EvaluatorHoldout: Processed 40929 (100.0%) in 15.39 sec. Users per second: 2659\n",
      "SearchBayesianSkopt: Config 6 is suboptimal. Config: {'topK': 174, 'beta': 0.3372187929337929, 'alpha': 0.09619877311077901, 'normalize_similarity': True, 'implicit': False} - results: PRECISION: 0.0445528, PRECISION_RECALL_MIN_DEN: 0.0714330, RECALL: 0.0659587, MAP: 0.0215985, MAP_MIN_DEN: 0.0341290, MRR: 0.1518174, NDCG: nan, F1: 0.0531826, HIT_RATE: 0.3091207, ARHR_ALL_HITS: 0.1797879, NOVELTY: 0.0053129, AVERAGE_POPULARITY: 0.2124099, DIVERSITY_MEAN_INTER_LIST: 0.9077185, DIVERSITY_HERFINDAHL: 0.9907696, COVERAGE_ITEM: 0.7497198, COVERAGE_ITEM_HIT: 0.0648497, ITEMS_IN_GT: 0.9984717, COVERAGE_USER: 0.9831848, COVERAGE_USER_HIT: 0.3039227, USERS_IN_GT: 0.9831848, DIVERSITY_GINI: 0.0644640, SHANNON_ENTROPY: 8.9907197, RATIO_DIVERSITY_HERFINDAHL: 0.9911936, RATIO_DIVERSITY_GINI: 0.1297628, RATIO_SHANNON_ENTROPY: 0.6843961, RATIO_AVERAGE_POPULARITY: 3.9425715, RATIO_NOVELTY: 0.4083274, \n",
      "\n",
      "Iteration No: 7 ended. Evaluation done at random point.\n",
      "Time taken: 23.3218\n",
      "Function value obtained: -0.0216\n",
      "Current minimum: -0.0217\n",
      "Iteration No: 8 started. Evaluating function at random point.\n",
      "SearchBayesianSkopt: Testing config: {'topK': 307, 'beta': 0.35067130753952674, 'alpha': 0.10801070329840223, 'normalize_similarity': True, 'implicit': True}\n",
      "RP3betaRecommender: Similarity column 19630 (100.0%), 2756.64 column/sec. Elapsed time 7.12 sec\n"
     ]
    },
    {
     "name": "stderr",
     "output_type": "stream",
     "text": [
      "/Users/luistavares/Desktop/recommender-systems/Evaluation/metrics.py:276: RuntimeWarning: overflow encountered in power\n",
      "  return np.sum(np.divide(np.power(2, scores) - 1, np.log2(np.arange(scores.shape[0], dtype=np.float64) + 2)),\n",
      "/Users/luistavares/Desktop/recommender-systems/Evaluation/metrics.py:270: RuntimeWarning: invalid value encountered in double_scalars\n",
      "  ndcg_ = rank_dcg / ideal_dcg\n"
     ]
    },
    {
     "name": "stdout",
     "output_type": "stream",
     "text": [
      "EvaluatorHoldout: Processed 40929 (100.0%) in 16.74 sec. Users per second: 2445\n",
      "SearchBayesianSkopt: Config 7 is suboptimal. Config: {'topK': 307, 'beta': 0.35067130753952674, 'alpha': 0.10801070329840223, 'normalize_similarity': True, 'implicit': True} - results: PRECISION: 0.0448435, PRECISION_RECALL_MIN_DEN: 0.0722565, RECALL: 0.0667993, MAP: 0.0217042, MAP_MIN_DEN: 0.0344519, MRR: 0.1533476, NDCG: nan, F1: 0.0536625, HIT_RATE: 0.3122725, ARHR_ALL_HITS: 0.1811936, NOVELTY: 0.0052317, AVERAGE_POPULARITY: 0.2350834, DIVERSITY_MEAN_INTER_LIST: 0.8816522, DIVERSITY_HERFINDAHL: 0.9881631, COVERAGE_ITEM: 0.7720835, COVERAGE_ITEM_HIT: 0.0605196, ITEMS_IN_GT: 0.9984717, COVERAGE_USER: 0.9831848, COVERAGE_USER_HIT: 0.3070215, USERS_IN_GT: 0.9831848, DIVERSITY_GINI: 0.0636152, SHANNON_ENTROPY: 8.7085808, RATIO_DIVERSITY_HERFINDAHL: 0.9885859, RATIO_DIVERSITY_GINI: 0.1280540, RATIO_SHANNON_ENTROPY: 0.6629190, RATIO_AVERAGE_POPULARITY: 4.3634172, RATIO_NOVELTY: 0.4020885, \n",
      "\n",
      "Iteration No: 8 ended. Evaluation done at random point.\n",
      "Time taken: 27.9581\n",
      "Function value obtained: -0.0217\n",
      "Current minimum: -0.0217\n",
      "Iteration No: 9 started. Evaluating function at random point.\n",
      "SearchBayesianSkopt: Testing config: {'topK': 228, 'beta': 0.36511116192829984, 'alpha': 0.12168510550912984, 'normalize_similarity': True, 'implicit': False}\n",
      "RP3betaRecommender: Similarity column 19630 (100.0%), 3200.28 column/sec. Elapsed time 6.13 sec\n"
     ]
    },
    {
     "name": "stderr",
     "output_type": "stream",
     "text": [
      "/Users/luistavares/Desktop/recommender-systems/Evaluation/metrics.py:276: RuntimeWarning: overflow encountered in power\n",
      "  return np.sum(np.divide(np.power(2, scores) - 1, np.log2(np.arange(scores.shape[0], dtype=np.float64) + 2)),\n",
      "/Users/luistavares/Desktop/recommender-systems/Evaluation/metrics.py:270: RuntimeWarning: invalid value encountered in double_scalars\n",
      "  ndcg_ = rank_dcg / ideal_dcg\n"
     ]
    },
    {
     "name": "stdout",
     "output_type": "stream",
     "text": [
      "EvaluatorHoldout: Processed 40929 (100.0%) in 17.29 sec. Users per second: 2368\n",
      "SearchBayesianSkopt: Config 8 is suboptimal. Config: {'topK': 228, 'beta': 0.36511116192829984, 'alpha': 0.12168510550912984, 'normalize_similarity': True, 'implicit': False} - results: PRECISION: 0.0448631, PRECISION_RECALL_MIN_DEN: 0.0721060, RECALL: 0.0666302, MAP: 0.0217048, MAP_MIN_DEN: 0.0343700, MRR: 0.1528887, NDCG: nan, F1: 0.0536218, HIT_RATE: 0.3113685, ARHR_ALL_HITS: 0.1808858, NOVELTY: 0.0052914, AVERAGE_POPULARITY: 0.2211405, DIVERSITY_MEAN_INTER_LIST: 0.8972554, DIVERSITY_HERFINDAHL: 0.9897233, COVERAGE_ITEM: 0.7744269, COVERAGE_ITEM_HIT: 0.0632705, ITEMS_IN_GT: 0.9984717, COVERAGE_USER: 0.9831848, COVERAGE_USER_HIT: 0.3061327, USERS_IN_GT: 0.9831848, DIVERSITY_GINI: 0.0666952, SHANNON_ENTROPY: 8.9076579, RATIO_DIVERSITY_HERFINDAHL: 0.9901469, RATIO_DIVERSITY_GINI: 0.1342540, RATIO_SHANNON_ENTROPY: 0.6780733, RATIO_AVERAGE_POPULARITY: 4.1046216, RATIO_NOVELTY: 0.4066739, \n",
      "\n",
      "Iteration No: 9 ended. Evaluation done at random point.\n",
      "Time taken: 26.9524\n",
      "Function value obtained: -0.0217\n",
      "Current minimum: -0.0217\n",
      "Iteration No: 10 started. Evaluating function at random point.\n",
      "SearchBayesianSkopt: Testing config: {'topK': 249, 'beta': 0.38177147425460056, 'alpha': 0.11627808946095444, 'normalize_similarity': True, 'implicit': False}\n",
      "RP3betaRecommender: Similarity column 19630 (100.0%), 3066.89 column/sec. Elapsed time 6.40 sec\n"
     ]
    },
    {
     "name": "stderr",
     "output_type": "stream",
     "text": [
      "/Users/luistavares/Desktop/recommender-systems/Evaluation/metrics.py:276: RuntimeWarning: overflow encountered in power\n",
      "  return np.sum(np.divide(np.power(2, scores) - 1, np.log2(np.arange(scores.shape[0], dtype=np.float64) + 2)),\n",
      "/Users/luistavares/Desktop/recommender-systems/Evaluation/metrics.py:270: RuntimeWarning: invalid value encountered in double_scalars\n",
      "  ndcg_ = rank_dcg / ideal_dcg\n"
     ]
    },
    {
     "name": "stdout",
     "output_type": "stream",
     "text": [
      "EvaluatorHoldout: Processed 40929 (100.0%) in 16.47 sec. Users per second: 2485\n",
      "SearchBayesianSkopt: Config 9 is suboptimal. Config: {'topK': 249, 'beta': 0.38177147425460056, 'alpha': 0.11627808946095444, 'normalize_similarity': True, 'implicit': False} - results: PRECISION: 0.0448850, PRECISION_RECALL_MIN_DEN: 0.0721632, RECALL: 0.0666819, MAP: 0.0216800, MAP_MIN_DEN: 0.0342899, MRR: 0.1523469, NDCG: nan, F1: 0.0536542, HIT_RATE: 0.3113929, ARHR_ALL_HITS: 0.1804828, NOVELTY: 0.0053046, AVERAGE_POPULARITY: 0.2206843, DIVERSITY_MEAN_INTER_LIST: 0.8972794, DIVERSITY_HERFINDAHL: 0.9897257, COVERAGE_ITEM: 0.7884361, COVERAGE_ITEM_HIT: 0.0638309, ITEMS_IN_GT: 0.9984717, COVERAGE_USER: 0.9831848, COVERAGE_USER_HIT: 0.3061568, USERS_IN_GT: 0.9831848, DIVERSITY_GINI: 0.0700265, SHANNON_ENTROPY: 8.9462573, RATIO_DIVERSITY_HERFINDAHL: 0.9901493, RATIO_DIVERSITY_GINI: 0.1409598, RATIO_SHANNON_ENTROPY: 0.6810115, RATIO_AVERAGE_POPULARITY: 4.0961531, RATIO_NOVELTY: 0.4076892, \n",
      "\n",
      "Iteration No: 10 ended. Evaluation done at random point.\n",
      "Time taken: 26.4911\n",
      "Function value obtained: -0.0217\n",
      "Current minimum: -0.0217\n",
      "Iteration No: 11 started. Evaluating function at random point.\n",
      "SearchBayesianSkopt: Testing config: {'topK': 348, 'beta': 0.33349828440226187, 'alpha': 0.10791825534223427, 'normalize_similarity': True, 'implicit': True}\n",
      "RP3betaRecommender: Similarity column 19630 (100.0%), 2549.03 column/sec. Elapsed time 7.70 sec\n"
     ]
    },
    {
     "name": "stderr",
     "output_type": "stream",
     "text": [
      "/Users/luistavares/Desktop/recommender-systems/Evaluation/metrics.py:276: RuntimeWarning: overflow encountered in power\n",
      "  return np.sum(np.divide(np.power(2, scores) - 1, np.log2(np.arange(scores.shape[0], dtype=np.float64) + 2)),\n",
      "/Users/luistavares/Desktop/recommender-systems/Evaluation/metrics.py:270: RuntimeWarning: invalid value encountered in double_scalars\n",
      "  ndcg_ = rank_dcg / ideal_dcg\n"
     ]
    },
    {
     "name": "stdout",
     "output_type": "stream",
     "text": [
      "EvaluatorHoldout: Processed 40929 (100.0%) in 17.03 sec. Users per second: 2404\n",
      "SearchBayesianSkopt: Config 10 is suboptimal. Config: {'topK': 348, 'beta': 0.33349828440226187, 'alpha': 0.10791825534223427, 'normalize_similarity': True, 'implicit': True} - results: PRECISION: 0.0448606, PRECISION_RECALL_MIN_DEN: 0.0724167, RECALL: 0.0669647, MAP: 0.0215865, MAP_MIN_DEN: 0.0343721, MRR: 0.1526671, NDCG: nan, F1: 0.0537280, HIT_RATE: 0.3132498, ARHR_ALL_HITS: 0.1803082, NOVELTY: 0.0051936, AVERAGE_POPULARITY: 0.2427316, DIVERSITY_MEAN_INTER_LIST: 0.8726042, DIVERSITY_HERFINDAHL: 0.9872583, COVERAGE_ITEM: 0.7650025, COVERAGE_ITEM_HIT: 0.0597045, ITEMS_IN_GT: 0.9984717, COVERAGE_USER: 0.9831848, COVERAGE_USER_HIT: 0.3079824, USERS_IN_GT: 0.9831848, DIVERSITY_GINI: 0.0606386, SHANNON_ENTROPY: 8.5804194, RATIO_DIVERSITY_HERFINDAHL: 0.9876807, RATIO_DIVERSITY_GINI: 0.1220623, RATIO_SHANNON_ENTROPY: 0.6531630, RATIO_AVERAGE_POPULARITY: 4.5053768, RATIO_NOVELTY: 0.3991597, \n",
      "\n",
      "Iteration No: 11 ended. Evaluation done at random point.\n",
      "Time taken: 29.2971\n",
      "Function value obtained: -0.0216\n",
      "Current minimum: -0.0217\n",
      "Iteration No: 12 started. Evaluating function at random point.\n",
      "SearchBayesianSkopt: Testing config: {'topK': 331, 'beta': 0.37856288094819274, 'alpha': 0.09340764368017435, 'normalize_similarity': True, 'implicit': True}\n",
      "RP3betaRecommender: Similarity column 19630 (100.0%), 2613.76 column/sec. Elapsed time 7.51 sec\n"
     ]
    },
    {
     "name": "stderr",
     "output_type": "stream",
     "text": [
      "/Users/luistavares/Desktop/recommender-systems/Evaluation/metrics.py:276: RuntimeWarning: overflow encountered in power\n",
      "  return np.sum(np.divide(np.power(2, scores) - 1, np.log2(np.arange(scores.shape[0], dtype=np.float64) + 2)),\n",
      "/Users/luistavares/Desktop/recommender-systems/Evaluation/metrics.py:270: RuntimeWarning: invalid value encountered in double_scalars\n",
      "  ndcg_ = rank_dcg / ideal_dcg\n"
     ]
    },
    {
     "name": "stdout",
     "output_type": "stream",
     "text": [
      "EvaluatorHoldout: Processed 40929 (100.0%) in 17.36 sec. Users per second: 2357\n",
      "SearchBayesianSkopt: Config 11 is suboptimal. Config: {'topK': 331, 'beta': 0.37856288094819274, 'alpha': 0.09340764368017435, 'normalize_similarity': True, 'implicit': True} - results: PRECISION: 0.0450023, PRECISION_RECALL_MIN_DEN: 0.0722350, RECALL: 0.0667398, MAP: 0.0216786, MAP_MIN_DEN: 0.0343601, MRR: 0.1527675, NDCG: nan, F1: 0.0537567, HIT_RATE: 0.3126634, ARHR_ALL_HITS: 0.1807212, NOVELTY: 0.0052767, AVERAGE_POPULARITY: 0.2292647, DIVERSITY_MEAN_INTER_LIST: 0.8879081, DIVERSITY_HERFINDAHL: 0.9887886, COVERAGE_ITEM: 0.8041773, COVERAGE_ITEM_HIT: 0.0618441, ITEMS_IN_GT: 0.9984717, COVERAGE_USER: 0.9831848, COVERAGE_USER_HIT: 0.3074059, USERS_IN_GT: 0.9831848, DIVERSITY_GINI: 0.0715721, SHANNON_ENTROPY: 8.8525244, RATIO_DIVERSITY_HERFINDAHL: 0.9892117, RATIO_DIVERSITY_GINI: 0.1440708, RATIO_SHANNON_ENTROPY: 0.6738763, RATIO_AVERAGE_POPULARITY: 4.2554149, RATIO_NOVELTY: 0.4055445, \n",
      "\n",
      "Iteration No: 12 ended. Evaluation done at random point.\n",
      "Time taken: 29.3786\n",
      "Function value obtained: -0.0217\n",
      "Current minimum: -0.0217\n",
      "Iteration No: 13 started. Evaluating function at random point.\n",
      "SearchBayesianSkopt: Testing config: {'topK': 327, 'beta': 0.36486135563062366, 'alpha': 0.10831159126769152, 'normalize_similarity': True, 'implicit': True}\n",
      "RP3betaRecommender: Similarity column 19630 (100.0%), 2624.05 column/sec. Elapsed time 7.48 sec\n"
     ]
    },
    {
     "name": "stderr",
     "output_type": "stream",
     "text": [
      "/Users/luistavares/Desktop/recommender-systems/Evaluation/metrics.py:276: RuntimeWarning: overflow encountered in power\n",
      "  return np.sum(np.divide(np.power(2, scores) - 1, np.log2(np.arange(scores.shape[0], dtype=np.float64) + 2)),\n",
      "/Users/luistavares/Desktop/recommender-systems/Evaluation/metrics.py:270: RuntimeWarning: invalid value encountered in double_scalars\n",
      "  ndcg_ = rank_dcg / ideal_dcg\n"
     ]
    },
    {
     "name": "stdout",
     "output_type": "stream",
     "text": [
      "EvaluatorHoldout: Processed 40929 (100.0%) in 17.22 sec. Users per second: 2376\n",
      "SearchBayesianSkopt: Config 12 is suboptimal. Config: {'topK': 327, 'beta': 0.36486135563062366, 'alpha': 0.10831159126769152, 'normalize_similarity': True, 'implicit': True} - results: PRECISION: 0.0449119, PRECISION_RECALL_MIN_DEN: 0.0721932, RECALL: 0.0667239, MAP: 0.0216624, MAP_MIN_DEN: 0.0343606, MRR: 0.1527555, NDCG: nan, F1: 0.0536870, HIT_RATE: 0.3124924, ARHR_ALL_HITS: 0.1806577, NOVELTY: 0.0052498, AVERAGE_POPULARITY: 0.2333791, DIVERSITY_MEAN_INTER_LIST: 0.8830818, DIVERSITY_HERFINDAHL: 0.9883060, COVERAGE_ITEM: 0.7907794, COVERAGE_ITEM_HIT: 0.0607743, ITEMS_IN_GT: 0.9984717, COVERAGE_USER: 0.9831848, COVERAGE_USER_HIT: 0.3072377, USERS_IN_GT: 0.9831848, DIVERSITY_GINI: 0.0677027, SHANNON_ENTROPY: 8.7642648, RATIO_DIVERSITY_HERFINDAHL: 0.9887289, RATIO_DIVERSITY_GINI: 0.1362820, RATIO_SHANNON_ENTROPY: 0.6671578, RATIO_AVERAGE_POPULARITY: 4.3317831, RATIO_NOVELTY: 0.4034811, \n",
      "\n",
      "Iteration No: 13 ended. Evaluation done at random point.\n",
      "Time taken: 29.0437\n",
      "Function value obtained: -0.0217\n",
      "Current minimum: -0.0217\n",
      "Iteration No: 14 started. Evaluating function at random point.\n",
      "SearchBayesianSkopt: Testing config: {'topK': 260, 'beta': 0.31787692003928847, 'alpha': 0.10686107940962004, 'normalize_similarity': True, 'implicit': False}\n",
      "RP3betaRecommender: Similarity column 19630 (100.0%), 2989.55 column/sec. Elapsed time 6.57 sec\n"
     ]
    },
    {
     "name": "stderr",
     "output_type": "stream",
     "text": [
      "/Users/luistavares/Desktop/recommender-systems/Evaluation/metrics.py:276: RuntimeWarning: overflow encountered in power\n",
      "  return np.sum(np.divide(np.power(2, scores) - 1, np.log2(np.arange(scores.shape[0], dtype=np.float64) + 2)),\n",
      "/Users/luistavares/Desktop/recommender-systems/Evaluation/metrics.py:270: RuntimeWarning: invalid value encountered in double_scalars\n",
      "  ndcg_ = rank_dcg / ideal_dcg\n"
     ]
    },
    {
     "name": "stdout",
     "output_type": "stream",
     "text": [
      "EvaluatorHoldout: Processed 40929 (100.0%) in 16.30 sec. Users per second: 2510\n",
      "SearchBayesianSkopt: Config 13 is suboptimal. Config: {'topK': 260, 'beta': 0.31787692003928847, 'alpha': 0.10686107940962004, 'normalize_similarity': True, 'implicit': False} - results: PRECISION: 0.0448288, PRECISION_RECALL_MIN_DEN: 0.0722688, RECALL: 0.0667884, MAP: 0.0216611, MAP_MIN_DEN: 0.0343816, MRR: 0.1533112, NDCG: nan, F1: 0.0536485, HIT_RATE: 0.3129322, ARHR_ALL_HITS: 0.1809754, NOVELTY: 0.0052069, AVERAGE_POPULARITY: 0.2348512, DIVERSITY_MEAN_INTER_LIST: 0.8828377, DIVERSITY_HERFINDAHL: 0.9882816, COVERAGE_ITEM: 0.7303617, COVERAGE_ITEM_HIT: 0.0604177, ITEMS_IN_GT: 0.9984717, COVERAGE_USER: 0.9831848, COVERAGE_USER_HIT: 0.3076701, USERS_IN_GT: 0.9831848, DIVERSITY_GINI: 0.0559735, SHANNON_ENTROPY: 8.6324868, RATIO_DIVERSITY_HERFINDAHL: 0.9887045, RATIO_DIVERSITY_GINI: 0.1126718, RATIO_SHANNON_ENTROPY: 0.6571265, RATIO_AVERAGE_POPULARITY: 4.3591078, RATIO_NOVELTY: 0.4001826, \n",
      "\n",
      "Iteration No: 14 ended. Evaluation done at random point.\n",
      "Time taken: 26.5460\n",
      "Function value obtained: -0.0217\n",
      "Current minimum: -0.0217\n",
      "Iteration No: 15 started. Evaluating function at random point.\n",
      "SearchBayesianSkopt: Testing config: {'topK': 328, 'beta': 0.3932732548049407, 'alpha': 0.09868054159750754, 'normalize_similarity': True, 'implicit': True}\n",
      "RP3betaRecommender: Similarity column 19630 (100.0%), 2645.65 column/sec. Elapsed time 7.42 sec\n"
     ]
    },
    {
     "name": "stderr",
     "output_type": "stream",
     "text": [
      "/Users/luistavares/Desktop/recommender-systems/Evaluation/metrics.py:276: RuntimeWarning: overflow encountered in power\n",
      "  return np.sum(np.divide(np.power(2, scores) - 1, np.log2(np.arange(scores.shape[0], dtype=np.float64) + 2)),\n",
      "/Users/luistavares/Desktop/recommender-systems/Evaluation/metrics.py:270: RuntimeWarning: invalid value encountered in double_scalars\n",
      "  ndcg_ = rank_dcg / ideal_dcg\n"
     ]
    },
    {
     "name": "stdout",
     "output_type": "stream",
     "text": [
      "EvaluatorHoldout: Processed 40929 (100.0%) in 17.47 sec. Users per second: 2343\n",
      "SearchBayesianSkopt: Config 14 is suboptimal. Config: {'topK': 328, 'beta': 0.3932732548049407, 'alpha': 0.09868054159750754, 'normalize_similarity': True, 'implicit': True} - results: PRECISION: 0.0451049, PRECISION_RECALL_MIN_DEN: 0.0723704, RECALL: 0.0668416, MAP: 0.0216911, MAP_MIN_DEN: 0.0343049, MRR: 0.1523929, NDCG: nan, F1: 0.0538630, HIT_RATE: 0.3125901, ARHR_ALL_HITS: 0.1805351, NOVELTY: 0.0053017, AVERAGE_POPULARITY: 0.2254101, DIVERSITY_MEAN_INTER_LIST: 0.8918573, DIVERSITY_HERFINDAHL: 0.9891836, COVERAGE_ITEM: 0.8147224, COVERAGE_ITEM_HIT: 0.0627611, ITEMS_IN_GT: 0.9984717, COVERAGE_USER: 0.9831848, COVERAGE_USER_HIT: 0.3073338, USERS_IN_GT: 0.9831848, DIVERSITY_GINI: 0.0750728, SHANNON_ENTROPY: 8.9302085, RATIO_DIVERSITY_HERFINDAHL: 0.9896068, RATIO_DIVERSITY_GINI: 0.1511176, RATIO_SHANNON_ENTROPY: 0.6797899, RATIO_AVERAGE_POPULARITY: 4.1838696, RATIO_NOVELTY: 0.4074655, \n",
      "\n",
      "Iteration No: 15 ended. Evaluation done at random point.\n",
      "Time taken: 29.2522\n",
      "Function value obtained: -0.0217\n",
      "Current minimum: -0.0217\n",
      "Iteration No: 16 started. Evaluating function at random point.\n",
      "SearchBayesianSkopt: Testing config: {'topK': 339, 'beta': 0.31335201803299495, 'alpha': 0.12032609074903926, 'normalize_similarity': True, 'implicit': True}\n",
      "RP3betaRecommender: Similarity column 19630 (100.0%), 2519.82 column/sec. Elapsed time 7.79 sec\n"
     ]
    },
    {
     "name": "stderr",
     "output_type": "stream",
     "text": [
      "/Users/luistavares/Desktop/recommender-systems/Evaluation/metrics.py:276: RuntimeWarning: overflow encountered in power\n",
      "  return np.sum(np.divide(np.power(2, scores) - 1, np.log2(np.arange(scores.shape[0], dtype=np.float64) + 2)),\n",
      "/Users/luistavares/Desktop/recommender-systems/Evaluation/metrics.py:270: RuntimeWarning: invalid value encountered in double_scalars\n",
      "  ndcg_ = rank_dcg / ideal_dcg\n"
     ]
    },
    {
     "name": "stdout",
     "output_type": "stream",
     "text": [
      "EvaluatorHoldout: Processed 40929 (100.0%) in 16.86 sec. Users per second: 2427\n",
      "SearchBayesianSkopt: Config 15 is suboptimal. Config: {'topK': 339, 'beta': 0.31335201803299495, 'alpha': 0.12032609074903926, 'normalize_similarity': True, 'implicit': True} - results: PRECISION: 0.0448777, PRECISION_RECALL_MIN_DEN: 0.0726305, RECALL: 0.0671872, MAP: 0.0215404, MAP_MIN_DEN: 0.0343476, MRR: 0.1526744, NDCG: nan, F1: 0.0538118, HIT_RATE: 0.3140560, ARHR_ALL_HITS: 0.1801888, NOVELTY: 0.0051616, AVERAGE_POPULARITY: 0.2470348, DIVERSITY_MEAN_INTER_LIST: 0.8674262, DIVERSITY_HERFINDAHL: 0.9867405, COVERAGE_ITEM: 0.7392257, COVERAGE_ITEM_HIT: 0.0590423, ITEMS_IN_GT: 0.9984717, COVERAGE_USER: 0.9831848, COVERAGE_USER_HIT: 0.3087751, USERS_IN_GT: 0.9831848, DIVERSITY_GINI: 0.0554268, SHANNON_ENTROPY: 8.4724845, RATIO_DIVERSITY_HERFINDAHL: 0.9871627, RATIO_DIVERSITY_GINI: 0.1115713, RATIO_SHANNON_ENTROPY: 0.6449468, RATIO_AVERAGE_POPULARITY: 4.5852489, RATIO_NOVELTY: 0.3966999, \n",
      "\n",
      "Iteration No: 16 ended. Evaluation done at random point.\n",
      "Time taken: 29.0326\n",
      "Function value obtained: -0.0215\n",
      "Current minimum: -0.0217\n",
      "Iteration No: 17 started. Evaluating function at random point.\n",
      "SearchBayesianSkopt: Testing config: {'topK': 225, 'beta': 0.3969253897281088, 'alpha': 0.12959869340774563, 'normalize_similarity': True, 'implicit': False}\n",
      "RP3betaRecommender: Similarity column 19630 (100.0%), 3275.63 column/sec. Elapsed time 5.99 sec\n"
     ]
    },
    {
     "name": "stderr",
     "output_type": "stream",
     "text": [
      "/Users/luistavares/Desktop/recommender-systems/Evaluation/metrics.py:276: RuntimeWarning: overflow encountered in power\n",
      "  return np.sum(np.divide(np.power(2, scores) - 1, np.log2(np.arange(scores.shape[0], dtype=np.float64) + 2)),\n",
      "/Users/luistavares/Desktop/recommender-systems/Evaluation/metrics.py:270: RuntimeWarning: invalid value encountered in double_scalars\n",
      "  ndcg_ = rank_dcg / ideal_dcg\n"
     ]
    },
    {
     "name": "stdout",
     "output_type": "stream",
     "text": [
      "EvaluatorHoldout: Processed 40929 (100.0%) in 16.20 sec. Users per second: 2526\n",
      "SearchBayesianSkopt: Config 16 is suboptimal. Config: {'topK': 225, 'beta': 0.3969253897281088, 'alpha': 0.12959869340774563, 'normalize_similarity': True, 'implicit': False} - results: PRECISION: 0.0448215, PRECISION_RECALL_MIN_DEN: 0.0718368, RECALL: 0.0663160, MAP: 0.0216636, MAP_MIN_DEN: 0.0342003, MRR: 0.1520204, NDCG: nan, F1: 0.0534902, HIT_RATE: 0.3102934, ARHR_ALL_HITS: 0.1801699, NOVELTY: 0.0053392, AVERAGE_POPULARITY: 0.2144104, DIVERSITY_MEAN_INTER_LIST: 0.9038381, DIVERSITY_HERFINDAHL: 0.9903816, COVERAGE_ITEM: 0.7959755, COVERAGE_ITEM_HIT: 0.0647478, ITEMS_IN_GT: 0.9984717, COVERAGE_USER: 0.9831848, COVERAGE_USER_HIT: 0.3050758, USERS_IN_GT: 0.9831848, DIVERSITY_GINI: 0.0735593, SHANNON_ENTROPY: 9.0565169, RATIO_DIVERSITY_HERFINDAHL: 0.9908054, RATIO_DIVERSITY_GINI: 0.1480710, RATIO_SHANNON_ENTROPY: 0.6894048, RATIO_AVERAGE_POPULARITY: 3.9797024, RATIO_NOVELTY: 0.4103495, \n",
      "\n",
      "Iteration No: 17 ended. Evaluation done at random point.\n",
      "Time taken: 25.5269\n",
      "Function value obtained: -0.0217\n",
      "Current minimum: -0.0217\n",
      "Iteration No: 18 started. Evaluating function at random point.\n",
      "SearchBayesianSkopt: Testing config: {'topK': 194, 'beta': 0.3513832434022008, 'alpha': 0.11046879232529694, 'normalize_similarity': True, 'implicit': False}\n",
      "RP3betaRecommender: Similarity column 19630 (100.0%), 3538.31 column/sec. Elapsed time 5.55 sec\n"
     ]
    },
    {
     "name": "stderr",
     "output_type": "stream",
     "text": [
      "/Users/luistavares/Desktop/recommender-systems/Evaluation/metrics.py:276: RuntimeWarning: overflow encountered in power\n",
      "  return np.sum(np.divide(np.power(2, scores) - 1, np.log2(np.arange(scores.shape[0], dtype=np.float64) + 2)),\n",
      "/Users/luistavares/Desktop/recommender-systems/Evaluation/metrics.py:270: RuntimeWarning: invalid value encountered in double_scalars\n",
      "  ndcg_ = rank_dcg / ideal_dcg\n"
     ]
    },
    {
     "name": "stdout",
     "output_type": "stream",
     "text": [
      "EvaluatorHoldout: Processed 40929 (100.0%) in 15.69 sec. Users per second: 2609\n",
      "SearchBayesianSkopt: Config 17 is suboptimal. Config: {'topK': 194, 'beta': 0.3513832434022008, 'alpha': 0.11046879232529694, 'normalize_similarity': True, 'implicit': False} - results: PRECISION: 0.0446212, PRECISION_RECALL_MIN_DEN: 0.0716241, RECALL: 0.0661597, MAP: 0.0215688, MAP_MIN_DEN: 0.0341182, MRR: 0.1520881, NDCG: nan, F1: 0.0532966, HIT_RATE: 0.3103912, ARHR_ALL_HITS: 0.1798794, NOVELTY: 0.0053039, AVERAGE_POPULARITY: 0.2163959, DIVERSITY_MEAN_INTER_LIST: 0.9031487, DIVERSITY_HERFINDAHL: 0.9903127, COVERAGE_ITEM: 0.7595517, COVERAGE_ITEM_HIT: 0.0646460, ITEMS_IN_GT: 0.9984717, COVERAGE_USER: 0.9831848, COVERAGE_USER_HIT: 0.3051719, USERS_IN_GT: 0.9831848, DIVERSITY_GINI: 0.0654392, SHANNON_ENTROPY: 8.9563695, RATIO_DIVERSITY_HERFINDAHL: 0.9907364, RATIO_DIVERSITY_GINI: 0.1317257, RATIO_SHANNON_ENTROPY: 0.6817813, RATIO_AVERAGE_POPULARITY: 4.0165566, RATIO_NOVELTY: 0.4076399, \n",
      "\n",
      "Iteration No: 18 ended. Evaluation done at random point.\n",
      "Time taken: 24.1770\n",
      "Function value obtained: -0.0216\n",
      "Current minimum: -0.0217\n",
      "Iteration No: 19 started. Evaluating function at random point.\n",
      "SearchBayesianSkopt: Testing config: {'topK': 194, 'beta': 0.37509985000681095, 'alpha': 0.1171311448944752, 'normalize_similarity': True, 'implicit': False}\n",
      "RP3betaRecommender: Similarity column 19630 (100.0%), 3552.29 column/sec. Elapsed time 5.53 sec\n"
     ]
    },
    {
     "name": "stderr",
     "output_type": "stream",
     "text": [
      "/Users/luistavares/Desktop/recommender-systems/Evaluation/metrics.py:276: RuntimeWarning: overflow encountered in power\n",
      "  return np.sum(np.divide(np.power(2, scores) - 1, np.log2(np.arange(scores.shape[0], dtype=np.float64) + 2)),\n",
      "/Users/luistavares/Desktop/recommender-systems/Evaluation/metrics.py:270: RuntimeWarning: invalid value encountered in double_scalars\n",
      "  ndcg_ = rank_dcg / ideal_dcg\n"
     ]
    },
    {
     "name": "stdout",
     "output_type": "stream",
     "text": [
      "EvaluatorHoldout: Processed 40929 (100.0%) in 15.77 sec. Users per second: 2596\n",
      "SearchBayesianSkopt: Config 18 is suboptimal. Config: {'topK': 194, 'beta': 0.37509985000681095, 'alpha': 0.1171311448944752, 'normalize_similarity': True, 'implicit': False} - results: PRECISION: 0.0447433, PRECISION_RECALL_MIN_DEN: 0.0717408, RECALL: 0.0662409, MAP: 0.0216264, MAP_MIN_DEN: 0.0341912, MRR: 0.1519040, NDCG: nan, F1: 0.0534101, HIT_RATE: 0.3100247, ARHR_ALL_HITS: 0.1799825, NOVELTY: 0.0053347, AVERAGE_POPULARITY: 0.2126343, DIVERSITY_MEAN_INTER_LIST: 0.9066026, DIVERSITY_HERFINDAHL: 0.9906580, COVERAGE_ITEM: 0.7776872, COVERAGE_ITEM_HIT: 0.0654101, ITEMS_IN_GT: 0.9984717, COVERAGE_USER: 0.9831848, COVERAGE_USER_HIT: 0.3048115, USERS_IN_GT: 0.9831848, DIVERSITY_GINI: 0.0702775, SHANNON_ENTROPY: 9.0526269, RATIO_DIVERSITY_HERFINDAHL: 0.9910820, RATIO_DIVERSITY_GINI: 0.1414649, RATIO_SHANNON_ENTROPY: 0.6891087, RATIO_AVERAGE_POPULARITY: 3.9467356, RATIO_NOVELTY: 0.4100046, \n",
      "\n",
      "Iteration No: 19 ended. Evaluation done at random point.\n",
      "Time taken: 24.2510\n",
      "Function value obtained: -0.0216\n",
      "Current minimum: -0.0217\n",
      "Iteration No: 20 started. Evaluating function at random point.\n",
      "SearchBayesianSkopt: Testing config: {'topK': 328, 'beta': 0.318547530068572, 'alpha': 0.12895169155052133, 'normalize_similarity': True, 'implicit': True}\n",
      "RP3betaRecommender: Similarity column 19630 (100.0%), 2642.48 column/sec. Elapsed time 7.43 sec\n"
     ]
    },
    {
     "name": "stderr",
     "output_type": "stream",
     "text": [
      "/Users/luistavares/Desktop/recommender-systems/Evaluation/metrics.py:276: RuntimeWarning: overflow encountered in power\n",
      "  return np.sum(np.divide(np.power(2, scores) - 1, np.log2(np.arange(scores.shape[0], dtype=np.float64) + 2)),\n",
      "/Users/luistavares/Desktop/recommender-systems/Evaluation/metrics.py:270: RuntimeWarning: invalid value encountered in double_scalars\n",
      "  ndcg_ = rank_dcg / ideal_dcg\n"
     ]
    },
    {
     "name": "stdout",
     "output_type": "stream",
     "text": [
      "EvaluatorHoldout: Processed 40929 (100.0%) in 16.83 sec. Users per second: 2432\n",
      "SearchBayesianSkopt: Config 19 is suboptimal. Config: {'topK': 328, 'beta': 0.318547530068572, 'alpha': 0.12895169155052133, 'normalize_similarity': True, 'implicit': True} - results: PRECISION: 0.0448411, PRECISION_RECALL_MIN_DEN: 0.0724875, RECALL: 0.0670539, MAP: 0.0215462, MAP_MIN_DEN: 0.0343305, MRR: 0.1527042, NDCG: nan, F1: 0.0537427, HIT_RATE: 0.3133475, ARHR_ALL_HITS: 0.1802332, NOVELTY: 0.0051709, AVERAGE_POPULARITY: 0.2453474, DIVERSITY_MEAN_INTER_LIST: 0.8692666, DIVERSITY_HERFINDAHL: 0.9869245, COVERAGE_ITEM: 0.7448803, COVERAGE_ITEM_HIT: 0.0590423, ITEMS_IN_GT: 0.9984717, COVERAGE_USER: 0.9831848, COVERAGE_USER_HIT: 0.3080785, USERS_IN_GT: 0.9831848, DIVERSITY_GINI: 0.0564242, SHANNON_ENTROPY: 8.5017142, RATIO_DIVERSITY_HERFINDAHL: 0.9873468, RATIO_DIVERSITY_GINI: 0.1135790, RATIO_SHANNON_ENTROPY: 0.6471718, RATIO_AVERAGE_POPULARITY: 4.5539291, RATIO_NOVELTY: 0.3974153, \n",
      "\n",
      "Iteration No: 20 ended. Evaluation done at random point.\n",
      "Time taken: 28.4334\n",
      "Function value obtained: -0.0215\n",
      "Current minimum: -0.0217\n",
      "Iteration No: 21 started. Evaluating function at random point.\n",
      "SearchBayesianSkopt: Testing config: {'topK': 231, 'beta': 0.32969213274601405, 'alpha': 0.09875179854752537, 'normalize_similarity': True, 'implicit': True}\n",
      "RP3betaRecommender: Similarity column 19630 (100.0%), 3224.19 column/sec. Elapsed time 6.09 sec\n"
     ]
    },
    {
     "name": "stderr",
     "output_type": "stream",
     "text": [
      "/Users/luistavares/Desktop/recommender-systems/Evaluation/metrics.py:276: RuntimeWarning: overflow encountered in power\n",
      "  return np.sum(np.divide(np.power(2, scores) - 1, np.log2(np.arange(scores.shape[0], dtype=np.float64) + 2)),\n",
      "/Users/luistavares/Desktop/recommender-systems/Evaluation/metrics.py:270: RuntimeWarning: invalid value encountered in double_scalars\n",
      "  ndcg_ = rank_dcg / ideal_dcg\n"
     ]
    },
    {
     "name": "stdout",
     "output_type": "stream",
     "text": [
      "EvaluatorHoldout: Processed 40929 (100.0%) in 15.91 sec. Users per second: 2573\n",
      "SearchBayesianSkopt: Config 20 is suboptimal. Config: {'topK': 231, 'beta': 0.32969213274601405, 'alpha': 0.09875179854752537, 'normalize_similarity': True, 'implicit': True} - results: PRECISION: 0.0447800, PRECISION_RECALL_MIN_DEN: 0.0720411, RECALL: 0.0665519, MAP: 0.0216773, MAP_MIN_DEN: 0.0343766, MRR: 0.1530658, NDCG: nan, F1: 0.0535371, HIT_RATE: 0.3112952, ARHR_ALL_HITS: 0.1808926, NOVELTY: 0.0052464, AVERAGE_POPULARITY: 0.2267837, DIVERSITY_MEAN_INTER_LIST: 0.8922326, DIVERSITY_HERFINDAHL: 0.9892211, COVERAGE_ITEM: 0.7413653, COVERAGE_ITEM_HIT: 0.0622517, ITEMS_IN_GT: 0.9984717, COVERAGE_USER: 0.9831848, COVERAGE_USER_HIT: 0.3060607, USERS_IN_GT: 0.9831848, DIVERSITY_GINI: 0.0593595, SHANNON_ENTROPY: 8.7678243, RATIO_DIVERSITY_HERFINDAHL: 0.9896444, RATIO_DIVERSITY_GINI: 0.1194877, RATIO_SHANNON_ENTROPY: 0.6674288, RATIO_AVERAGE_POPULARITY: 4.2093654, RATIO_NOVELTY: 0.4032161, \n",
      "\n",
      "Iteration No: 21 ended. Evaluation done at random point.\n",
      "Time taken: 25.3426\n",
      "Function value obtained: -0.0217\n",
      "Current minimum: -0.0217\n",
      "Iteration No: 22 started. Evaluating function at random point.\n",
      "SearchBayesianSkopt: Testing config: {'topK': 182, 'beta': 0.32084519292419983, 'alpha': 0.09605337206246074, 'normalize_similarity': True, 'implicit': True}\n",
      "RP3betaRecommender: Similarity column 19630 (100.0%), 3682.59 column/sec. Elapsed time 5.33 sec\n"
     ]
    },
    {
     "name": "stderr",
     "output_type": "stream",
     "text": [
      "/Users/luistavares/Desktop/recommender-systems/Evaluation/metrics.py:276: RuntimeWarning: overflow encountered in power\n",
      "  return np.sum(np.divide(np.power(2, scores) - 1, np.log2(np.arange(scores.shape[0], dtype=np.float64) + 2)),\n",
      "/Users/luistavares/Desktop/recommender-systems/Evaluation/metrics.py:270: RuntimeWarning: invalid value encountered in double_scalars\n",
      "  ndcg_ = rank_dcg / ideal_dcg\n"
     ]
    },
    {
     "name": "stdout",
     "output_type": "stream",
     "text": [
      "EvaluatorHoldout: Processed 40929 (100.0%) in 15.33 sec. Users per second: 2670\n",
      "SearchBayesianSkopt: Config 21 is suboptimal. Config: {'topK': 182, 'beta': 0.32084519292419983, 'alpha': 0.09605337206246074, 'normalize_similarity': True, 'implicit': True} - results: PRECISION: 0.0445430, PRECISION_RECALL_MIN_DEN: 0.0714897, RECALL: 0.0660319, MAP: 0.0215978, MAP_MIN_DEN: 0.0341500, MRR: 0.1522383, NDCG: nan, F1: 0.0531994, HIT_RATE: 0.3100491, ARHR_ALL_HITS: 0.1800497, NOVELTY: 0.0052835, AVERAGE_POPULARITY: 0.2166507, DIVERSITY_MEAN_INTER_LIST: 0.9035250, DIVERSITY_HERFINDAHL: 0.9903503, COVERAGE_ITEM: 0.7351503, COVERAGE_ITEM_HIT: 0.0638309, ITEMS_IN_GT: 0.9984717, COVERAGE_USER: 0.9831848, COVERAGE_USER_HIT: 0.3048356, USERS_IN_GT: 0.9831848, DIVERSITY_GINI: 0.0605917, SHANNON_ENTROPY: 8.8951745, RATIO_DIVERSITY_HERFINDAHL: 0.9907741, RATIO_DIVERSITY_GINI: 0.1219679, RATIO_SHANNON_ENTROPY: 0.6771230, RATIO_AVERAGE_POPULARITY: 4.0212852, RATIO_NOVELTY: 0.4060676, \n",
      "\n",
      "Iteration No: 22 ended. Evaluation done at random point.\n",
      "Time taken: 23.4578\n",
      "Function value obtained: -0.0216\n",
      "Current minimum: -0.0217\n",
      "Iteration No: 23 started. Evaluating function at random point.\n",
      "SearchBayesianSkopt: Testing config: {'topK': 274, 'beta': 0.3667056884756137, 'alpha': 0.1251789395663518, 'normalize_similarity': True, 'implicit': True}\n",
      "RP3betaRecommender: Similarity column 19630 (100.0%), 2941.31 column/sec. Elapsed time 6.67 sec\n"
     ]
    },
    {
     "name": "stderr",
     "output_type": "stream",
     "text": [
      "/Users/luistavares/Desktop/recommender-systems/Evaluation/metrics.py:276: RuntimeWarning: overflow encountered in power\n",
      "  return np.sum(np.divide(np.power(2, scores) - 1, np.log2(np.arange(scores.shape[0], dtype=np.float64) + 2)),\n",
      "/Users/luistavares/Desktop/recommender-systems/Evaluation/metrics.py:270: RuntimeWarning: invalid value encountered in double_scalars\n",
      "  ndcg_ = rank_dcg / ideal_dcg\n"
     ]
    },
    {
     "name": "stdout",
     "output_type": "stream",
     "text": [
      "EvaluatorHoldout: Processed 40929 (100.0%) in 16.39 sec. Users per second: 2498\n",
      "SearchBayesianSkopt: Config 22 is suboptimal. Config: {'topK': 274, 'beta': 0.3667056884756137, 'alpha': 0.1251789395663518, 'normalize_similarity': True, 'implicit': True} - results: PRECISION: 0.0448142, PRECISION_RECALL_MIN_DEN: 0.0721192, RECALL: 0.0666691, MAP: 0.0216267, MAP_MIN_DEN: 0.0343057, MRR: 0.1525066, NDCG: nan, F1: 0.0535995, HIT_RATE: 0.3116128, ARHR_ALL_HITS: 0.1804002, NOVELTY: 0.0052663, AVERAGE_POPULARITY: 0.2281674, DIVERSITY_MEAN_INTER_LIST: 0.8891824, DIVERSITY_HERFINDAHL: 0.9889161, COVERAGE_ITEM: 0.7801834, COVERAGE_ITEM_HIT: 0.0620988, ITEMS_IN_GT: 0.9984717, COVERAGE_USER: 0.9831848, COVERAGE_USER_HIT: 0.3063730, USERS_IN_GT: 0.9831848, DIVERSITY_GINI: 0.0666183, SHANNON_ENTROPY: 8.8203545, RATIO_DIVERSITY_HERFINDAHL: 0.9893392, RATIO_DIVERSITY_GINI: 0.1340991, RATIO_SHANNON_ENTROPY: 0.6714275, RATIO_AVERAGE_POPULARITY: 4.2350487, RATIO_NOVELTY: 0.4047443, \n",
      "\n",
      "Iteration No: 23 ended. Evaluation done at random point.\n",
      "Time taken: 26.8675\n",
      "Function value obtained: -0.0216\n",
      "Current minimum: -0.0217\n",
      "Iteration No: 24 started. Evaluating function at random point.\n",
      "SearchBayesianSkopt: Testing config: {'topK': 309, 'beta': 0.3971654785236488, 'alpha': 0.09454204704573471, 'normalize_similarity': True, 'implicit': True}\n",
      "RP3betaRecommender: Similarity column 19630 (100.0%), 2698.56 column/sec. Elapsed time 7.27 sec\n"
     ]
    },
    {
     "name": "stderr",
     "output_type": "stream",
     "text": [
      "/Users/luistavares/Desktop/recommender-systems/Evaluation/metrics.py:276: RuntimeWarning: overflow encountered in power\n",
      "  return np.sum(np.divide(np.power(2, scores) - 1, np.log2(np.arange(scores.shape[0], dtype=np.float64) + 2)),\n",
      "/Users/luistavares/Desktop/recommender-systems/Evaluation/metrics.py:270: RuntimeWarning: invalid value encountered in double_scalars\n",
      "  ndcg_ = rank_dcg / ideal_dcg\n"
     ]
    },
    {
     "name": "stdout",
     "output_type": "stream",
     "text": [
      "EvaluatorHoldout: Processed 40929 (100.0%) in 17.08 sec. Users per second: 2396\n",
      "SearchBayesianSkopt: Config 23 is suboptimal. Config: {'topK': 309, 'beta': 0.3971654785236488, 'alpha': 0.09454204704573471, 'normalize_similarity': True, 'implicit': True} - results: PRECISION: 0.0450072, PRECISION_RECALL_MIN_DEN: 0.0722585, RECALL: 0.0667447, MAP: 0.0216930, MAP_MIN_DEN: 0.0342801, MRR: 0.1524307, NDCG: nan, F1: 0.0537618, HIT_RATE: 0.3121014, ARHR_ALL_HITS: 0.1805785, NOVELTY: 0.0053145, AVERAGE_POPULARITY: 0.2223815, DIVERSITY_MEAN_INTER_LIST: 0.8952464, DIVERSITY_HERFINDAHL: 0.9895224, COVERAGE_ITEM: 0.8126847, COVERAGE_ITEM_HIT: 0.0634233, ITEMS_IN_GT: 0.9984717, COVERAGE_USER: 0.9831848, COVERAGE_USER_HIT: 0.3068534, USERS_IN_GT: 0.9831848, DIVERSITY_GINI: 0.0753112, SHANNON_ENTROPY: 8.9730228, RATIO_DIVERSITY_HERFINDAHL: 0.9899459, RATIO_DIVERSITY_GINI: 0.1515976, RATIO_SHANNON_ENTROPY: 0.6830490, RATIO_AVERAGE_POPULARITY: 4.1276558, RATIO_NOVELTY: 0.4084505, \n",
      "\n",
      "Iteration No: 24 ended. Evaluation done at random point.\n",
      "Time taken: 28.6299\n",
      "Function value obtained: -0.0217\n",
      "Current minimum: -0.0217\n",
      "Iteration No: 25 started. Evaluating function at random point.\n",
      "SearchBayesianSkopt: Testing config: {'topK': 240, 'beta': 0.34960175830011686, 'alpha': 0.09825564232290791, 'normalize_similarity': True, 'implicit': False}\n",
      "RP3betaRecommender: Similarity column 19630 (100.0%), 3137.35 column/sec. Elapsed time 6.26 sec\n"
     ]
    },
    {
     "name": "stderr",
     "output_type": "stream",
     "text": [
      "/Users/luistavares/Desktop/recommender-systems/Evaluation/metrics.py:276: RuntimeWarning: overflow encountered in power\n",
      "  return np.sum(np.divide(np.power(2, scores) - 1, np.log2(np.arange(scores.shape[0], dtype=np.float64) + 2)),\n",
      "/Users/luistavares/Desktop/recommender-systems/Evaluation/metrics.py:270: RuntimeWarning: invalid value encountered in double_scalars\n",
      "  ndcg_ = rank_dcg / ideal_dcg\n"
     ]
    },
    {
     "name": "stdout",
     "output_type": "stream",
     "text": [
      "EvaluatorHoldout: Processed 40929 (100.0%) in 16.13 sec. Users per second: 2538\n",
      "SearchBayesianSkopt: Config 24 is suboptimal. Config: {'topK': 240, 'beta': 0.34960175830011686, 'alpha': 0.09825564232290791, 'normalize_similarity': True, 'implicit': False} - results: PRECISION: 0.0447824, PRECISION_RECALL_MIN_DEN: 0.0719613, RECALL: 0.0664641, MAP: 0.0216743, MAP_MIN_DEN: 0.0343344, MRR: 0.1528429, NDCG: nan, F1: 0.0535104, HIT_RATE: 0.3110020, ARHR_ALL_HITS: 0.1807484, NOVELTY: 0.0052676, AVERAGE_POPULARITY: 0.2246963, DIVERSITY_MEAN_INTER_LIST: 0.8939347, DIVERSITY_HERFINDAHL: 0.9893913, COVERAGE_ITEM: 0.7588895, COVERAGE_ITEM_HIT: 0.0626592, ITEMS_IN_GT: 0.9984717, COVERAGE_USER: 0.9831848, COVERAGE_USER_HIT: 0.3057724, USERS_IN_GT: 0.9831848, DIVERSITY_GINI: 0.0632546, SHANNON_ENTROPY: 8.8337209, RATIO_DIVERSITY_HERFINDAHL: 0.9898146, RATIO_DIVERSITY_GINI: 0.1273282, RATIO_SHANNON_ENTROPY: 0.6724450, RATIO_AVERAGE_POPULARITY: 4.1706216, RATIO_NOVELTY: 0.4048459, \n",
      "\n",
      "Iteration No: 25 ended. Evaluation done at random point.\n",
      "Time taken: 25.8293\n",
      "Function value obtained: -0.0217\n",
      "Current minimum: -0.0217\n",
      "Iteration No: 26 started. Evaluating function at random point.\n",
      "SearchBayesianSkopt: Testing config: {'topK': 333, 'beta': 0.37849546817831425, 'alpha': 0.12587040402305127, 'normalize_similarity': True, 'implicit': True}\n",
      "RP3betaRecommender: Similarity column 19630 (100.0%), 2618.46 column/sec. Elapsed time 7.50 sec\n"
     ]
    },
    {
     "name": "stderr",
     "output_type": "stream",
     "text": [
      "/Users/luistavares/Desktop/recommender-systems/Evaluation/metrics.py:276: RuntimeWarning: overflow encountered in power\n",
      "  return np.sum(np.divide(np.power(2, scores) - 1, np.log2(np.arange(scores.shape[0], dtype=np.float64) + 2)),\n",
      "/Users/luistavares/Desktop/recommender-systems/Evaluation/metrics.py:270: RuntimeWarning: invalid value encountered in double_scalars\n",
      "  ndcg_ = rank_dcg / ideal_dcg\n"
     ]
    },
    {
     "name": "stdout",
     "output_type": "stream",
     "text": [
      "EvaluatorHoldout: Processed 40929 (100.0%) in 17.06 sec. Users per second: 2398\n",
      "SearchBayesianSkopt: Config 25 is suboptimal. Config: {'topK': 333, 'beta': 0.37849546817831425, 'alpha': 0.12587040402305127, 'normalize_similarity': True, 'implicit': True} - results: PRECISION: 0.0450439, PRECISION_RECALL_MIN_DEN: 0.0723968, RECALL: 0.0669107, MAP: 0.0216967, MAP_MIN_DEN: 0.0343774, MRR: 0.1528955, NDCG: nan, F1: 0.0538418, HIT_RATE: 0.3127611, ARHR_ALL_HITS: 0.1808814, NOVELTY: 0.0052657, AVERAGE_POPULARITY: 0.2319484, DIVERSITY_MEAN_INTER_LIST: 0.8842521, DIVERSITY_HERFINDAHL: 0.9884231, COVERAGE_ITEM: 0.8068263, COVERAGE_ITEM_HIT: 0.0611309, ITEMS_IN_GT: 0.9984717, COVERAGE_USER: 0.9831848, COVERAGE_USER_HIT: 0.3075020, USERS_IN_GT: 0.9831848, DIVERSITY_GINI: 0.0711456, SHANNON_ENTROPY: 8.8116074, RATIO_DIVERSITY_HERFINDAHL: 0.9888460, RATIO_DIVERSITY_GINI: 0.1432124, RATIO_SHANNON_ENTROPY: 0.6707616, RATIO_AVERAGE_POPULARITY: 4.3052292, RATIO_NOVELTY: 0.4046978, \n",
      "\n",
      "Iteration No: 26 ended. Evaluation done at random point.\n",
      "Time taken: 28.8893\n",
      "Function value obtained: -0.0217\n",
      "Current minimum: -0.0217\n",
      "Iteration No: 27 started. Evaluating function at random point.\n",
      "SearchBayesianSkopt: Testing config: {'topK': 236, 'beta': 0.37340170415233587, 'alpha': 0.1135453370590554, 'normalize_similarity': True, 'implicit': True}\n",
      "RP3betaRecommender: Similarity column 19630 (100.0%), 3178.70 column/sec. Elapsed time 6.18 sec\n"
     ]
    },
    {
     "name": "stderr",
     "output_type": "stream",
     "text": [
      "/Users/luistavares/Desktop/recommender-systems/Evaluation/metrics.py:276: RuntimeWarning: overflow encountered in power\n",
      "  return np.sum(np.divide(np.power(2, scores) - 1, np.log2(np.arange(scores.shape[0], dtype=np.float64) + 2)),\n",
      "/Users/luistavares/Desktop/recommender-systems/Evaluation/metrics.py:270: RuntimeWarning: invalid value encountered in double_scalars\n",
      "  ndcg_ = rank_dcg / ideal_dcg\n"
     ]
    },
    {
     "name": "stdout",
     "output_type": "stream",
     "text": [
      "EvaluatorHoldout: Processed 40929 (100.0%) in 16.25 sec. Users per second: 2519\n",
      "SearchBayesianSkopt: Config 26 is suboptimal. Config: {'topK': 236, 'beta': 0.37340170415233587, 'alpha': 0.1135453370590554, 'normalize_similarity': True, 'implicit': True} - results: PRECISION: 0.0448215, PRECISION_RECALL_MIN_DEN: 0.0719760, RECALL: 0.0664834, MAP: 0.0217008, MAP_MIN_DEN: 0.0343476, MRR: 0.1526308, NDCG: nan, F1: 0.0535446, HIT_RATE: 0.3109287, ARHR_ALL_HITS: 0.1807107, NOVELTY: 0.0053006, AVERAGE_POPULARITY: 0.2201706, DIVERSITY_MEAN_INTER_LIST: 0.8981875, DIVERSITY_HERFINDAHL: 0.9898166, COVERAGE_ITEM: 0.7812022, COVERAGE_ITEM_HIT: 0.0636780, ITEMS_IN_GT: 0.9984717, COVERAGE_USER: 0.9831848, COVERAGE_USER_HIT: 0.3057004, USERS_IN_GT: 0.9831848, DIVERSITY_GINI: 0.0683891, SHANNON_ENTROPY: 8.9368992, RATIO_DIVERSITY_HERFINDAHL: 0.9902401, RATIO_DIVERSITY_GINI: 0.1376637, RATIO_SHANNON_ENTROPY: 0.6802992, RATIO_AVERAGE_POPULARITY: 4.0866182, RATIO_NOVELTY: 0.4073867, \n",
      "\n",
      "Iteration No: 27 ended. Evaluation done at random point.\n",
      "Time taken: 25.8320\n",
      "Function value obtained: -0.0217\n",
      "Current minimum: -0.0217\n",
      "Iteration No: 28 started. Evaluating function at random point.\n",
      "SearchBayesianSkopt: Testing config: {'topK': 314, 'beta': 0.33778980966348143, 'alpha': 0.09687070315882372, 'normalize_similarity': True, 'implicit': False}\n",
      "RP3betaRecommender: Similarity column 19630 (100.0%), 2716.04 column/sec. Elapsed time 7.23 sec\n"
     ]
    },
    {
     "name": "stderr",
     "output_type": "stream",
     "text": [
      "/Users/luistavares/Desktop/recommender-systems/Evaluation/metrics.py:276: RuntimeWarning: overflow encountered in power\n",
      "  return np.sum(np.divide(np.power(2, scores) - 1, np.log2(np.arange(scores.shape[0], dtype=np.float64) + 2)),\n",
      "/Users/luistavares/Desktop/recommender-systems/Evaluation/metrics.py:270: RuntimeWarning: invalid value encountered in double_scalars\n",
      "  ndcg_ = rank_dcg / ideal_dcg\n"
     ]
    },
    {
     "name": "stdout",
     "output_type": "stream",
     "text": [
      "EvaluatorHoldout: Processed 40929 (100.0%) in 16.88 sec. Users per second: 2425\n",
      "SearchBayesianSkopt: Config 27 is suboptimal. Config: {'topK': 314, 'beta': 0.33778980966348143, 'alpha': 0.09687070315882372, 'normalize_similarity': True, 'implicit': False} - results: PRECISION: 0.0448973, PRECISION_RECALL_MIN_DEN: 0.0723887, RECALL: 0.0669067, MAP: 0.0216630, MAP_MIN_DEN: 0.0344279, MRR: 0.1532058, NDCG: nan, F1: 0.0537356, HIT_RATE: 0.3130787, ARHR_ALL_HITS: 0.1809444, NOVELTY: 0.0052125, AVERAGE_POPULARITY: 0.2378374, DIVERSITY_MEAN_INTER_LIST: 0.8787249, DIVERSITY_HERFINDAHL: 0.9878703, COVERAGE_ITEM: 0.7603668, COVERAGE_ITEM_HIT: 0.0601630, ITEMS_IN_GT: 0.9984717, COVERAGE_USER: 0.9831848, COVERAGE_USER_HIT: 0.3078143, USERS_IN_GT: 0.9831848, DIVERSITY_GINI: 0.0608381, SHANNON_ENTROPY: 8.6469816, RATIO_DIVERSITY_HERFINDAHL: 0.9882931, RATIO_DIVERSITY_GINI: 0.1224640, RATIO_SHANNON_ENTROPY: 0.6582299, RATIO_AVERAGE_POPULARITY: 4.4145354, RATIO_NOVELTY: 0.4006110, \n",
      "\n",
      "Iteration No: 28 ended. Evaluation done at random point.\n",
      "Time taken: 28.2443\n",
      "Function value obtained: -0.0217\n",
      "Current minimum: -0.0217\n",
      "Iteration No: 29 started. Evaluating function at random point.\n",
      "SearchBayesianSkopt: Testing config: {'topK': 212, 'beta': 0.3526320837406528, 'alpha': 0.1053023366859813, 'normalize_similarity': True, 'implicit': True}\n",
      "RP3betaRecommender: Similarity column 19630 (100.0%), 3365.39 column/sec. Elapsed time 5.83 sec\n"
     ]
    },
    {
     "name": "stderr",
     "output_type": "stream",
     "text": [
      "/Users/luistavares/Desktop/recommender-systems/Evaluation/metrics.py:276: RuntimeWarning: overflow encountered in power\n",
      "  return np.sum(np.divide(np.power(2, scores) - 1, np.log2(np.arange(scores.shape[0], dtype=np.float64) + 2)),\n",
      "/Users/luistavares/Desktop/recommender-systems/Evaluation/metrics.py:270: RuntimeWarning: invalid value encountered in double_scalars\n",
      "  ndcg_ = rank_dcg / ideal_dcg\n"
     ]
    },
    {
     "name": "stdout",
     "output_type": "stream",
     "text": [
      "EvaluatorHoldout: Processed 40929 (100.0%) in 15.87 sec. Users per second: 2579\n",
      "SearchBayesianSkopt: Config 28 is suboptimal. Config: {'topK': 212, 'beta': 0.3526320837406528, 'alpha': 0.1053023366859813, 'normalize_similarity': True, 'implicit': True} - results: PRECISION: 0.0447189, PRECISION_RECALL_MIN_DEN: 0.0718282, RECALL: 0.0663534, MAP: 0.0216387, MAP_MIN_DEN: 0.0342348, MRR: 0.1525475, NDCG: nan, F1: 0.0534292, HIT_RATE: 0.3109775, ARHR_ALL_HITS: 0.1804238, NOVELTY: 0.0052912, AVERAGE_POPULARITY: 0.2194875, DIVERSITY_MEAN_INTER_LIST: 0.8999662, DIVERSITY_HERFINDAHL: 0.9899944, COVERAGE_ITEM: 0.7607234, COVERAGE_ITEM_HIT: 0.0635762, ITEMS_IN_GT: 0.9984717, COVERAGE_USER: 0.9831848, COVERAGE_USER_HIT: 0.3057484, USERS_IN_GT: 0.9831848, DIVERSITY_GINI: 0.0647658, SHANNON_ENTROPY: 8.9136100, RATIO_DIVERSITY_HERFINDAHL: 0.9904180, RATIO_DIVERSITY_GINI: 0.1303701, RATIO_SHANNON_ENTROPY: 0.6785263, RATIO_AVERAGE_POPULARITY: 4.0739405, RATIO_NOVELTY: 0.4066603, \n",
      "\n",
      "Iteration No: 29 ended. Evaluation done at random point.\n",
      "Time taken: 24.8967\n",
      "Function value obtained: -0.0216\n",
      "Current minimum: -0.0217\n",
      "Iteration No: 30 started. Evaluating function at random point.\n",
      "SearchBayesianSkopt: Testing config: {'topK': 231, 'beta': 0.31368978450153, 'alpha': 0.099224549699937, 'normalize_similarity': True, 'implicit': True}\n",
      "RP3betaRecommender: Similarity column 19630 (100.0%), 3226.83 column/sec. Elapsed time 6.08 sec\n"
     ]
    },
    {
     "name": "stderr",
     "output_type": "stream",
     "text": [
      "/Users/luistavares/Desktop/recommender-systems/Evaluation/metrics.py:276: RuntimeWarning: overflow encountered in power\n",
      "  return np.sum(np.divide(np.power(2, scores) - 1, np.log2(np.arange(scores.shape[0], dtype=np.float64) + 2)),\n",
      "/Users/luistavares/Desktop/recommender-systems/Evaluation/metrics.py:270: RuntimeWarning: invalid value encountered in double_scalars\n",
      "  ndcg_ = rank_dcg / ideal_dcg\n"
     ]
    },
    {
     "name": "stdout",
     "output_type": "stream",
     "text": [
      "EvaluatorHoldout: Processed 40929 (100.0%) in 15.86 sec. Users per second: 2580\n",
      "SearchBayesianSkopt: Config 29 is suboptimal. Config: {'topK': 231, 'beta': 0.31368978450153, 'alpha': 0.099224549699937, 'normalize_similarity': True, 'implicit': True} - results: PRECISION: 0.0447262, PRECISION_RECALL_MIN_DEN: 0.0720285, RECALL: 0.0665627, MAP: 0.0216672, MAP_MIN_DEN: 0.0343973, MRR: 0.1532302, NDCG: nan, F1: 0.0535022, HIT_RATE: 0.3114418, ARHR_ALL_HITS: 0.1809566, NOVELTY: 0.0052252, AVERAGE_POPULARITY: 0.2295814, DIVERSITY_MEAN_INTER_LIST: 0.8895963, DIVERSITY_HERFINDAHL: 0.9889575, COVERAGE_ITEM: 0.7245033, COVERAGE_ITEM_HIT: 0.0614875, ITEMS_IN_GT: 0.9984717, COVERAGE_USER: 0.9831848, COVERAGE_USER_HIT: 0.3062048, USERS_IN_GT: 0.9831848, DIVERSITY_GINI: 0.0561113, SHANNON_ENTROPY: 8.6990487, RATIO_DIVERSITY_HERFINDAHL: 0.9893806, RATIO_DIVERSITY_GINI: 0.1129492, RATIO_SHANNON_ENTROPY: 0.6621934, RATIO_AVERAGE_POPULARITY: 4.2612948, RATIO_NOVELTY: 0.4015869, \n",
      "\n",
      "Iteration No: 30 ended. Evaluation done at random point.\n",
      "Time taken: 25.5019\n",
      "Function value obtained: -0.0217\n",
      "Current minimum: -0.0217\n",
      "Iteration No: 31 started. Searching for the next optimal point.\n",
      "SearchBayesianSkopt: Testing config: {'topK': 294, 'beta': 0.3347939139729218, 'alpha': 0.09048015214186808, 'normalize_similarity': True, 'implicit': False}\n",
      "RP3betaRecommender: Similarity column 19630 (100.0%), 2843.58 column/sec. Elapsed time 6.90 sec\n"
     ]
    },
    {
     "name": "stderr",
     "output_type": "stream",
     "text": [
      "/Users/luistavares/Desktop/recommender-systems/Evaluation/metrics.py:276: RuntimeWarning: overflow encountered in power\n",
      "  return np.sum(np.divide(np.power(2, scores) - 1, np.log2(np.arange(scores.shape[0], dtype=np.float64) + 2)),\n",
      "/Users/luistavares/Desktop/recommender-systems/Evaluation/metrics.py:270: RuntimeWarning: invalid value encountered in double_scalars\n",
      "  ndcg_ = rank_dcg / ideal_dcg\n"
     ]
    },
    {
     "name": "stdout",
     "output_type": "stream",
     "text": [
      "EvaluatorHoldout: Processed 40929 (100.0%) in 16.48 sec. Users per second: 2483\n",
      "SearchBayesianSkopt: Config 30 is suboptimal. Config: {'topK': 294, 'beta': 0.3347939139729218, 'alpha': 0.09048015214186808, 'normalize_similarity': True, 'implicit': False} - results: PRECISION: 0.0448631, PRECISION_RECALL_MIN_DEN: 0.0722565, RECALL: 0.0667783, MAP: 0.0216835, MAP_MIN_DEN: 0.0344243, MRR: 0.1532966, NDCG: nan, F1: 0.0536697, HIT_RATE: 0.3125412, ARHR_ALL_HITS: 0.1811103, NOVELTY: 0.0052184, AVERAGE_POPULARITY: 0.2354611, DIVERSITY_MEAN_INTER_LIST: 0.8818075, DIVERSITY_HERFINDAHL: 0.9881786, COVERAGE_ITEM: 0.7514519, COVERAGE_ITEM_HIT: 0.0608762, ITEMS_IN_GT: 0.9984717, COVERAGE_USER: 0.9831848, COVERAGE_USER_HIT: 0.3072858, USERS_IN_GT: 0.9831848, DIVERSITY_GINI: 0.0598484, SHANNON_ENTROPY: 8.6690682, RATIO_DIVERSITY_HERFINDAHL: 0.9886014, RATIO_DIVERSITY_GINI: 0.1204717, RATIO_SHANNON_ENTROPY: 0.6599112, RATIO_AVERAGE_POPULARITY: 4.3704273, RATIO_NOVELTY: 0.4010658, \n",
      "\n",
      "Iteration No: 31 ended. Search finished for the next optimal point.\n",
      "Time taken: 27.5691\n",
      "Function value obtained: -0.0217\n",
      "Current minimum: -0.0217\n",
      "Iteration No: 32 started. Searching for the next optimal point.\n",
      "SearchBayesianSkopt: Testing config: {'topK': 349, 'beta': 0.3653898223799359, 'alpha': 0.12021260241360651, 'normalize_similarity': True, 'implicit': True}\n",
      "RP3betaRecommender: Similarity column 19630 (100.0%), 2568.37 column/sec. Elapsed time 7.64 sec\n"
     ]
    },
    {
     "name": "stderr",
     "output_type": "stream",
     "text": [
      "/Users/luistavares/Desktop/recommender-systems/Evaluation/metrics.py:276: RuntimeWarning: overflow encountered in power\n",
      "  return np.sum(np.divide(np.power(2, scores) - 1, np.log2(np.arange(scores.shape[0], dtype=np.float64) + 2)),\n",
      "/Users/luistavares/Desktop/recommender-systems/Evaluation/metrics.py:270: RuntimeWarning: invalid value encountered in double_scalars\n",
      "  ndcg_ = rank_dcg / ideal_dcg\n"
     ]
    },
    {
     "name": "stdout",
     "output_type": "stream",
     "text": [
      "EvaluatorHoldout: Processed 40929 (100.0%) in 17.03 sec. Users per second: 2404\n",
      "SearchBayesianSkopt: Config 31 is suboptimal. Config: {'topK': 349, 'beta': 0.3653898223799359, 'alpha': 0.12021260241360651, 'normalize_similarity': True, 'implicit': True} - results: PRECISION: 0.0450390, PRECISION_RECALL_MIN_DEN: 0.0723908, RECALL: 0.0668936, MAP: 0.0216551, MAP_MIN_DEN: 0.0343631, MRR: 0.1527823, NDCG: nan, F1: 0.0538328, HIT_RATE: 0.3133719, ARHR_ALL_HITS: 0.1806616, NOVELTY: 0.0052427, AVERAGE_POPULARITY: 0.2360414, DIVERSITY_MEAN_INTER_LIST: 0.8797474, DIVERSITY_HERFINDAHL: 0.9879726, COVERAGE_ITEM: 0.7998981, COVERAGE_ITEM_HIT: 0.0606215, ITEMS_IN_GT: 0.9984717, COVERAGE_USER: 0.9831848, COVERAGE_USER_HIT: 0.3081025, USERS_IN_GT: 0.9831848, DIVERSITY_GINI: 0.0687185, SHANNON_ENTROPY: 8.7379082, RATIO_DIVERSITY_HERFINDAHL: 0.9883953, RATIO_DIVERSITY_GINI: 0.1383267, RATIO_SHANNON_ENTROPY: 0.6651515, RATIO_AVERAGE_POPULARITY: 4.3811991, RATIO_NOVELTY: 0.4029324, \n",
      "\n",
      "Iteration No: 32 ended. Search finished for the next optimal point.\n",
      "Time taken: 29.4201\n",
      "Function value obtained: -0.0217\n",
      "Current minimum: -0.0217\n",
      "Iteration No: 33 started. Searching for the next optimal point.\n",
      "SearchBayesianSkopt: Testing config: {'topK': 208, 'beta': 0.3141373500579233, 'alpha': 0.09401787334567444, 'normalize_similarity': True, 'implicit': False}\n",
      "RP3betaRecommender: Similarity column 19630 (100.0%), 3459.34 column/sec. Elapsed time 5.67 sec\n"
     ]
    },
    {
     "name": "stderr",
     "output_type": "stream",
     "text": [
      "/Users/luistavares/Desktop/recommender-systems/Evaluation/metrics.py:276: RuntimeWarning: overflow encountered in power\n",
      "  return np.sum(np.divide(np.power(2, scores) - 1, np.log2(np.arange(scores.shape[0], dtype=np.float64) + 2)),\n",
      "/Users/luistavares/Desktop/recommender-systems/Evaluation/metrics.py:270: RuntimeWarning: invalid value encountered in double_scalars\n",
      "  ndcg_ = rank_dcg / ideal_dcg\n"
     ]
    },
    {
     "name": "stdout",
     "output_type": "stream",
     "text": [
      "EvaluatorHoldout: Processed 40929 (100.0%) in 15.62 sec. Users per second: 2621\n",
      "SearchBayesianSkopt: Config 32 is suboptimal. Config: {'topK': 208, 'beta': 0.3141373500579233, 'alpha': 0.09401787334567444, 'normalize_similarity': True, 'implicit': False} - results: PRECISION: 0.0447580, PRECISION_RECALL_MIN_DEN: 0.0719746, RECALL: 0.0665081, MAP: 0.0216499, MAP_MIN_DEN: 0.0343018, MRR: 0.1530752, NDCG: nan, F1: 0.0535072, HIT_RATE: 0.3116128, ARHR_ALL_HITS: 0.1808002, NOVELTY: 0.0052464, AVERAGE_POPULARITY: 0.2246050, DIVERSITY_MEAN_INTER_LIST: 0.8950521, DIVERSITY_HERFINDAHL: 0.9895030, COVERAGE_ITEM: 0.7262354, COVERAGE_ITEM_HIT: 0.0624045, ITEMS_IN_GT: 0.9984717, COVERAGE_USER: 0.9831848, COVERAGE_USER_HIT: 0.3063730, USERS_IN_GT: 0.9831848, DIVERSITY_GINI: 0.0574043, SHANNON_ENTROPY: 8.7710971, RATIO_DIVERSITY_HERFINDAHL: 0.9899264, RATIO_DIVERSITY_GINI: 0.1155519, RATIO_SHANNON_ENTROPY: 0.6676779, RATIO_AVERAGE_POPULARITY: 4.1689269, RATIO_NOVELTY: 0.4032148, \n",
      "\n",
      "Iteration No: 33 ended. Search finished for the next optimal point.\n",
      "Time taken: 24.6059\n",
      "Function value obtained: -0.0216\n",
      "Current minimum: -0.0217\n",
      "Iteration No: 34 started. Searching for the next optimal point.\n",
      "SearchBayesianSkopt: Testing config: {'topK': 266, 'beta': 0.33430907776017316, 'alpha': 0.1179833207166477, 'normalize_similarity': True, 'implicit': True}\n",
      "RP3betaRecommender: Similarity column 19630 (100.0%), 3024.67 column/sec. Elapsed time 6.49 sec\n"
     ]
    },
    {
     "name": "stderr",
     "output_type": "stream",
     "text": [
      "/Users/luistavares/Desktop/recommender-systems/Evaluation/metrics.py:276: RuntimeWarning: overflow encountered in power\n",
      "  return np.sum(np.divide(np.power(2, scores) - 1, np.log2(np.arange(scores.shape[0], dtype=np.float64) + 2)),\n",
      "/Users/luistavares/Desktop/recommender-systems/Evaluation/metrics.py:270: RuntimeWarning: invalid value encountered in double_scalars\n",
      "  ndcg_ = rank_dcg / ideal_dcg\n"
     ]
    },
    {
     "name": "stdout",
     "output_type": "stream",
     "text": [
      "EvaluatorHoldout: Processed 40929 (100.0%) in 16.12 sec. Users per second: 2540\n",
      "SearchBayesianSkopt: Config 33 is suboptimal. Config: {'topK': 266, 'beta': 0.33430907776017316, 'alpha': 0.1179833207166477, 'normalize_similarity': True, 'implicit': True} - results: PRECISION: 0.0448240, PRECISION_RECALL_MIN_DEN: 0.0722087, RECALL: 0.0667470, MAP: 0.0216762, MAP_MIN_DEN: 0.0344072, MRR: 0.1529362, NDCG: nan, F1: 0.0536316, HIT_RATE: 0.3122236, ARHR_ALL_HITS: 0.1808461, NOVELTY: 0.0052235, AVERAGE_POPULARITY: 0.2334007, DIVERSITY_MEAN_INTER_LIST: 0.8840810, DIVERSITY_HERFINDAHL: 0.9884059, COVERAGE_ITEM: 0.7510953, COVERAGE_ITEM_HIT: 0.0608253, ITEMS_IN_GT: 0.9984717, COVERAGE_USER: 0.9831848, COVERAGE_USER_HIT: 0.3069735, USERS_IN_GT: 0.9831848, DIVERSITY_GINI: 0.0594468, SHANNON_ENTROPY: 8.6849101, RATIO_DIVERSITY_HERFINDAHL: 0.9888289, RATIO_DIVERSITY_GINI: 0.1196633, RATIO_SHANNON_ENTROPY: 0.6611171, RATIO_AVERAGE_POPULARITY: 4.3321855, RATIO_NOVELTY: 0.4014555, \n",
      "\n",
      "Iteration No: 34 ended. Search finished for the next optimal point.\n",
      "Time taken: 26.4666\n",
      "Function value obtained: -0.0217\n",
      "Current minimum: -0.0217\n",
      "Iteration No: 35 started. Searching for the next optimal point.\n",
      "SearchBayesianSkopt: Testing config: {'topK': 302, 'beta': 0.3686657991930431, 'alpha': 0.09, 'normalize_similarity': True, 'implicit': False}\n",
      "RP3betaRecommender: Similarity column 19630 (100.0%), 2804.26 column/sec. Elapsed time 7.00 sec\n"
     ]
    },
    {
     "name": "stderr",
     "output_type": "stream",
     "text": [
      "/Users/luistavares/Desktop/recommender-systems/Evaluation/metrics.py:276: RuntimeWarning: overflow encountered in power\n",
      "  return np.sum(np.divide(np.power(2, scores) - 1, np.log2(np.arange(scores.shape[0], dtype=np.float64) + 2)),\n",
      "/Users/luistavares/Desktop/recommender-systems/Evaluation/metrics.py:270: RuntimeWarning: invalid value encountered in double_scalars\n",
      "  ndcg_ = rank_dcg / ideal_dcg\n"
     ]
    },
    {
     "name": "stdout",
     "output_type": "stream",
     "text": [
      "EvaluatorHoldout: Processed 40929 (100.0%) in 16.65 sec. Users per second: 2457\n",
      "SearchBayesianSkopt: Config 34 is suboptimal. Config: {'topK': 302, 'beta': 0.3686657991930431, 'alpha': 0.09, 'normalize_similarity': True, 'implicit': False} - results: PRECISION: 0.0448435, PRECISION_RECALL_MIN_DEN: 0.0721585, RECALL: 0.0666921, MAP: 0.0217041, MAP_MIN_DEN: 0.0344343, MRR: 0.1531596, NDCG: nan, F1: 0.0536279, HIT_RATE: 0.3116372, ARHR_ALL_HITS: 0.1810807, NOVELTY: 0.0052686, AVERAGE_POPULARITY: 0.2288193, DIVERSITY_MEAN_INTER_LIST: 0.8888213, DIVERSITY_HERFINDAHL: 0.9888800, COVERAGE_ITEM: 0.7890983, COVERAGE_ITEM_HIT: 0.0618951, ITEMS_IN_GT: 0.9984717, COVERAGE_USER: 0.9831848, COVERAGE_USER_HIT: 0.3063970, USERS_IN_GT: 0.9831848, DIVERSITY_GINI: 0.0681322, SHANNON_ENTROPY: 8.8313495, RATIO_DIVERSITY_HERFINDAHL: 0.9893031, RATIO_DIVERSITY_GINI: 0.1371466, RATIO_SHANNON_ENTROPY: 0.6722645, RATIO_AVERAGE_POPULARITY: 4.2471480, RATIO_NOVELTY: 0.4049216, \n",
      "\n",
      "Iteration No: 35 ended. Search finished for the next optimal point.\n",
      "Time taken: 28.0408\n",
      "Function value obtained: -0.0217\n",
      "Current minimum: -0.0217\n",
      "Iteration No: 36 started. Searching for the next optimal point.\n",
      "SearchBayesianSkopt: Testing config: {'topK': 203, 'beta': 0.3718651246164581, 'alpha': 0.12015218665606611, 'normalize_similarity': True, 'implicit': False}\n",
      "RP3betaRecommender: Similarity column 19630 (100.0%), 3494.33 column/sec. Elapsed time 5.62 sec\n"
     ]
    },
    {
     "name": "stderr",
     "output_type": "stream",
     "text": [
      "/Users/luistavares/Desktop/recommender-systems/Evaluation/metrics.py:276: RuntimeWarning: overflow encountered in power\n",
      "  return np.sum(np.divide(np.power(2, scores) - 1, np.log2(np.arange(scores.shape[0], dtype=np.float64) + 2)),\n",
      "/Users/luistavares/Desktop/recommender-systems/Evaluation/metrics.py:270: RuntimeWarning: invalid value encountered in double_scalars\n",
      "  ndcg_ = rank_dcg / ideal_dcg\n"
     ]
    },
    {
     "name": "stdout",
     "output_type": "stream",
     "text": [
      "EvaluatorHoldout: Processed 40929 (100.0%) in 15.72 sec. Users per second: 2603\n",
      "SearchBayesianSkopt: Config 35 is suboptimal. Config: {'topK': 203, 'beta': 0.3718651246164581, 'alpha': 0.12015218665606611, 'normalize_similarity': True, 'implicit': False} - results: PRECISION: 0.0447824, PRECISION_RECALL_MIN_DEN: 0.0719360, RECALL: 0.0664456, MAP: 0.0216697, MAP_MIN_DEN: 0.0342526, MRR: 0.1523554, NDCG: nan, F1: 0.0535044, HIT_RATE: 0.3108065, ARHR_ALL_HITS: 0.1804236, NOVELTY: 0.0053207, AVERAGE_POPULARITY: 0.2153331, DIVERSITY_MEAN_INTER_LIST: 0.9038698, DIVERSITY_HERFINDAHL: 0.9903848, COVERAGE_ITEM: 0.7765155, COVERAGE_ITEM_HIT: 0.0649007, ITEMS_IN_GT: 0.9984717, COVERAGE_USER: 0.9831848, COVERAGE_USER_HIT: 0.3055802, USERS_IN_GT: 0.9831848, DIVERSITY_GINI: 0.0690617, SHANNON_ENTROPY: 9.0066998, RATIO_DIVERSITY_HERFINDAHL: 0.9908086, RATIO_DIVERSITY_GINI: 0.1390176, RATIO_SHANNON_ENTROPY: 0.6856126, RATIO_AVERAGE_POPULARITY: 3.9968301, RATIO_NOVELTY: 0.4089290, \n",
      "\n",
      "Iteration No: 36 ended. Search finished for the next optimal point.\n",
      "Time taken: 24.6260\n",
      "Function value obtained: -0.0217\n",
      "Current minimum: -0.0217\n",
      "Iteration No: 37 started. Searching for the next optimal point.\n",
      "SearchBayesianSkopt: Testing config: {'topK': 246, 'beta': 0.31302969935752417, 'alpha': 0.11631302521376967, 'normalize_similarity': True, 'implicit': False}\n",
      "RP3betaRecommender: Similarity column 19630 (100.0%), 3161.28 column/sec. Elapsed time 6.21 sec\n"
     ]
    },
    {
     "name": "stderr",
     "output_type": "stream",
     "text": [
      "/Users/luistavares/Desktop/recommender-systems/Evaluation/metrics.py:276: RuntimeWarning: overflow encountered in power\n",
      "  return np.sum(np.divide(np.power(2, scores) - 1, np.log2(np.arange(scores.shape[0], dtype=np.float64) + 2)),\n",
      "/Users/luistavares/Desktop/recommender-systems/Evaluation/metrics.py:270: RuntimeWarning: invalid value encountered in double_scalars\n",
      "  ndcg_ = rank_dcg / ideal_dcg\n"
     ]
    },
    {
     "name": "stdout",
     "output_type": "stream",
     "text": [
      "EvaluatorHoldout: Processed 40929 (100.0%) in 15.91 sec. Users per second: 2573\n",
      "SearchBayesianSkopt: Config 36 is suboptimal. Config: {'topK': 246, 'beta': 0.31302969935752417, 'alpha': 0.11631302521376967, 'normalize_similarity': True, 'implicit': False} - results: PRECISION: 0.0448020, PRECISION_RECALL_MIN_DEN: 0.0723001, RECALL: 0.0668304, MAP: 0.0216671, MAP_MIN_DEN: 0.0343974, MRR: 0.1532513, NDCG: nan, F1: 0.0536428, HIT_RATE: 0.3124435, ARHR_ALL_HITS: 0.1809791, NOVELTY: 0.0052080, AVERAGE_POPULARITY: 0.2337336, DIVERSITY_MEAN_INTER_LIST: 0.8844214, DIVERSITY_HERFINDAHL: 0.9884400, COVERAGE_ITEM: 0.7256750, COVERAGE_ITEM_HIT: 0.0606724, ITEMS_IN_GT: 0.9984717, COVERAGE_USER: 0.9831848, COVERAGE_USER_HIT: 0.3071897, USERS_IN_GT: 0.9831848, DIVERSITY_GINI: 0.0552668, SHANNON_ENTROPY: 8.6374817, RATIO_DIVERSITY_HERFINDAHL: 0.9888629, RATIO_DIVERSITY_GINI: 0.1112493, RATIO_SHANNON_ENTROPY: 0.6575068, RATIO_AVERAGE_POPULARITY: 4.3383637, RATIO_NOVELTY: 0.4002679, \n",
      "\n",
      "Iteration No: 37 ended. Search finished for the next optimal point.\n",
      "Time taken: 25.7520\n",
      "Function value obtained: -0.0217\n",
      "Current minimum: -0.0217\n",
      "Iteration No: 38 started. Searching for the next optimal point.\n",
      "SearchBayesianSkopt: Testing config: {'topK': 244, 'beta': 0.31130577671555426, 'alpha': 0.1196720286218509, 'normalize_similarity': True, 'implicit': False}\n",
      "RP3betaRecommender: Similarity column 19630 (100.0%), 3175.81 column/sec. Elapsed time 6.18 sec\n"
     ]
    },
    {
     "name": "stderr",
     "output_type": "stream",
     "text": [
      "/Users/luistavares/Desktop/recommender-systems/Evaluation/metrics.py:276: RuntimeWarning: overflow encountered in power\n",
      "  return np.sum(np.divide(np.power(2, scores) - 1, np.log2(np.arange(scores.shape[0], dtype=np.float64) + 2)),\n",
      "/Users/luistavares/Desktop/recommender-systems/Evaluation/metrics.py:270: RuntimeWarning: invalid value encountered in double_scalars\n",
      "  ndcg_ = rank_dcg / ideal_dcg\n"
     ]
    },
    {
     "name": "stdout",
     "output_type": "stream",
     "text": [
      "EvaluatorHoldout: Processed 40929 (100.0%) in 15.84 sec. Users per second: 2584\n",
      "SearchBayesianSkopt: Config 37 is suboptimal. Config: {'topK': 244, 'beta': 0.31130577671555426, 'alpha': 0.1196720286218509, 'normalize_similarity': True, 'implicit': False} - results: PRECISION: 0.0448802, PRECISION_RECALL_MIN_DEN: 0.0724256, RECALL: 0.0669410, MAP: 0.0216665, MAP_MIN_DEN: 0.0344091, MRR: 0.1531965, NDCG: nan, F1: 0.0537344, HIT_RATE: 0.3126878, ARHR_ALL_HITS: 0.1809390, NOVELTY: 0.0052058, AVERAGE_POPULARITY: 0.2340126, DIVERSITY_MEAN_INTER_LIST: 0.8841469, DIVERSITY_HERFINDAHL: 0.9884125, COVERAGE_ITEM: 0.7237901, COVERAGE_ITEM_HIT: 0.0605706, ITEMS_IN_GT: 0.9984717, COVERAGE_USER: 0.9831848, COVERAGE_USER_HIT: 0.3074299, USERS_IN_GT: 0.9831848, DIVERSITY_GINI: 0.0548568, SHANNON_ENTROPY: 8.6294408, RATIO_DIVERSITY_HERFINDAHL: 0.9888355, RATIO_DIVERSITY_GINI: 0.1104238, RATIO_SHANNON_ENTROPY: 0.6568947, RATIO_AVERAGE_POPULARITY: 4.3435417, RATIO_NOVELTY: 0.4001010, \n",
      "\n",
      "Iteration No: 38 ended. Search finished for the next optimal point.\n",
      "Time taken: 25.7147\n",
      "Function value obtained: -0.0217\n",
      "Current minimum: -0.0217\n",
      "Iteration No: 39 started. Searching for the next optimal point.\n",
      "SearchBayesianSkopt: Testing config: {'topK': 186, 'beta': 0.3595123976395321, 'alpha': 0.09245017415784396, 'normalize_similarity': True, 'implicit': False}\n",
      "RP3betaRecommender: Similarity column 19630 (100.0%), 3655.47 column/sec. Elapsed time 5.37 sec\n"
     ]
    },
    {
     "name": "stderr",
     "output_type": "stream",
     "text": [
      "/Users/luistavares/Desktop/recommender-systems/Evaluation/metrics.py:276: RuntimeWarning: overflow encountered in power\n",
      "  return np.sum(np.divide(np.power(2, scores) - 1, np.log2(np.arange(scores.shape[0], dtype=np.float64) + 2)),\n",
      "/Users/luistavares/Desktop/recommender-systems/Evaluation/metrics.py:270: RuntimeWarning: invalid value encountered in double_scalars\n",
      "  ndcg_ = rank_dcg / ideal_dcg\n"
     ]
    },
    {
     "name": "stdout",
     "output_type": "stream",
     "text": [
      "EvaluatorHoldout: Processed 40929 (100.0%) in 15.45 sec. Users per second: 2648\n",
      "SearchBayesianSkopt: Config 38 is suboptimal. Config: {'topK': 186, 'beta': 0.3595123976395321, 'alpha': 0.09245017415784396, 'normalize_similarity': True, 'implicit': False} - results: PRECISION: 0.0446236, PRECISION_RECALL_MIN_DEN: 0.0715257, RECALL: 0.0660566, MAP: 0.0215670, MAP_MIN_DEN: 0.0340567, MRR: 0.1518769, NDCG: nan, F1: 0.0532649, HIT_RATE: 0.3101957, ARHR_ALL_HITS: 0.1797267, NOVELTY: 0.0053287, AVERAGE_POPULARITY: 0.2119040, DIVERSITY_MEAN_INTER_LIST: 0.9077732, DIVERSITY_HERFINDAHL: 0.9907751, COVERAGE_ITEM: 0.7635762, COVERAGE_ITEM_HIT: 0.0656139, ITEMS_IN_GT: 0.9984717, COVERAGE_USER: 0.9831848, COVERAGE_USER_HIT: 0.3049797, USERS_IN_GT: 0.9831848, DIVERSITY_GINI: 0.0678349, SHANNON_ENTROPY: 9.0383521, RATIO_DIVERSITY_HERFINDAHL: 0.9911991, RATIO_DIVERSITY_GINI: 0.1365481, RATIO_SHANNON_ENTROPY: 0.6880220, RATIO_AVERAGE_POPULARITY: 3.9331812, RATIO_NOVELTY: 0.4095441, \n",
      "\n",
      "Iteration No: 39 ended. Search finished for the next optimal point.\n",
      "Time taken: 23.9832\n",
      "Function value obtained: -0.0216\n",
      "Current minimum: -0.0217\n",
      "Iteration No: 40 started. Searching for the next optimal point.\n",
      "SearchBayesianSkopt: Testing config: {'topK': 318, 'beta': 0.3164883279949655, 'alpha': 0.10167914647791453, 'normalize_similarity': True, 'implicit': False}\n",
      "RP3betaRecommender: Similarity column 19630 (100.0%), 2713.87 column/sec. Elapsed time 7.23 sec\n"
     ]
    },
    {
     "name": "stderr",
     "output_type": "stream",
     "text": [
      "/Users/luistavares/Desktop/recommender-systems/Evaluation/metrics.py:276: RuntimeWarning: overflow encountered in power\n",
      "  return np.sum(np.divide(np.power(2, scores) - 1, np.log2(np.arange(scores.shape[0], dtype=np.float64) + 2)),\n",
      "/Users/luistavares/Desktop/recommender-systems/Evaluation/metrics.py:270: RuntimeWarning: invalid value encountered in double_scalars\n",
      "  ndcg_ = rank_dcg / ideal_dcg\n"
     ]
    },
    {
     "name": "stdout",
     "output_type": "stream",
     "text": [
      "EvaluatorHoldout: Processed 40929 (100.0%) in 16.58 sec. Users per second: 2468\n",
      "SearchBayesianSkopt: Config 39 is suboptimal. Config: {'topK': 318, 'beta': 0.3164883279949655, 'alpha': 0.10167914647791453, 'normalize_similarity': True, 'implicit': False} - results: PRECISION: 0.0448386, PRECISION_RECALL_MIN_DEN: 0.0724050, RECALL: 0.0669586, MAP: 0.0215783, MAP_MIN_DEN: 0.0343319, MRR: 0.1529134, NDCG: nan, F1: 0.0537103, HIT_RATE: 0.3133719, ARHR_ALL_HITS: 0.1804809, NOVELTY: 0.0051774, AVERAGE_POPULARITY: 0.2431508, DIVERSITY_MEAN_INTER_LIST: 0.8726219, DIVERSITY_HERFINDAHL: 0.9872601, COVERAGE_ITEM: 0.7372899, COVERAGE_ITEM_HIT: 0.0595517, ITEMS_IN_GT: 0.9984717, COVERAGE_USER: 0.9831848, COVERAGE_USER_HIT: 0.3081025, USERS_IN_GT: 0.9831848, DIVERSITY_GINI: 0.0558296, SHANNON_ENTROPY: 8.5292845, RATIO_DIVERSITY_HERFINDAHL: 0.9876825, RATIO_DIVERSITY_GINI: 0.1123820, RATIO_SHANNON_ENTROPY: 0.6492705, RATIO_AVERAGE_POPULARITY: 4.5131580, RATIO_NOVELTY: 0.3979126, \n",
      "\n",
      "Iteration No: 40 ended. Search finished for the next optimal point.\n",
      "Time taken: 28.1941\n",
      "Function value obtained: -0.0216\n",
      "Current minimum: -0.0217\n",
      "Iteration No: 41 started. Searching for the next optimal point.\n",
      "SearchBayesianSkopt: Testing config: {'topK': 350, 'beta': 0.4, 'alpha': 0.12941474033016315, 'normalize_similarity': True, 'implicit': True}\n",
      "RP3betaRecommender: Similarity column 19630 (100.0%), 2569.47 column/sec. Elapsed time 7.64 sec\n"
     ]
    },
    {
     "name": "stderr",
     "output_type": "stream",
     "text": [
      "/Users/luistavares/Desktop/recommender-systems/Evaluation/metrics.py:276: RuntimeWarning: overflow encountered in power\n",
      "  return np.sum(np.divide(np.power(2, scores) - 1, np.log2(np.arange(scores.shape[0], dtype=np.float64) + 2)),\n",
      "/Users/luistavares/Desktop/recommender-systems/Evaluation/metrics.py:270: RuntimeWarning: invalid value encountered in double_scalars\n",
      "  ndcg_ = rank_dcg / ideal_dcg\n"
     ]
    },
    {
     "name": "stdout",
     "output_type": "stream",
     "text": [
      "EvaluatorHoldout: Processed 40929 (100.0%) in 17.69 sec. Users per second: 2313\n",
      "SearchBayesianSkopt: Config 40 is suboptimal. Config: {'topK': 350, 'beta': 0.4, 'alpha': 0.12941474033016315, 'normalize_similarity': True, 'implicit': True} - results: PRECISION: 0.0450414, PRECISION_RECALL_MIN_DEN: 0.0723325, RECALL: 0.0668227, MAP: 0.0216399, MAP_MIN_DEN: 0.0342203, MRR: 0.1522073, NDCG: nan, F1: 0.0538115, HIT_RATE: 0.3128589, ARHR_ALL_HITS: 0.1801967, NOVELTY: 0.0053014, AVERAGE_POPULARITY: 0.2275414, DIVERSITY_MEAN_INTER_LIST: 0.8887034, DIVERSITY_HERFINDAHL: 0.9888682, COVERAGE_ITEM: 0.8257259, COVERAGE_ITEM_HIT: 0.0620479, ITEMS_IN_GT: 0.9984717, COVERAGE_USER: 0.9831848, COVERAGE_USER_HIT: 0.3075981, USERS_IN_GT: 0.9831848, DIVERSITY_GINI: 0.0774455, SHANNON_ENTROPY: 8.9204149, RATIO_DIVERSITY_HERFINDAHL: 0.9892913, RATIO_DIVERSITY_GINI: 0.1558938, RATIO_SHANNON_ENTROPY: 0.6790443, RATIO_AVERAGE_POPULARITY: 4.2234294, RATIO_NOVELTY: 0.4074428, \n",
      "\n",
      "Iteration No: 41 ended. Search finished for the next optimal point.\n",
      "Time taken: 30.2285\n",
      "Function value obtained: -0.0216\n",
      "Current minimum: -0.0217\n",
      "Iteration No: 42 started. Searching for the next optimal point.\n",
      "SearchBayesianSkopt: Testing config: {'topK': 219, 'beta': 0.3764782499174356, 'alpha': 0.13, 'normalize_similarity': True, 'implicit': True}\n",
      "RP3betaRecommender: Similarity column 19630 (100.0%), 3325.05 column/sec. Elapsed time 5.90 sec\n"
     ]
    },
    {
     "name": "stderr",
     "output_type": "stream",
     "text": [
      "/Users/luistavares/Desktop/recommender-systems/Evaluation/metrics.py:276: RuntimeWarning: overflow encountered in power\n",
      "  return np.sum(np.divide(np.power(2, scores) - 1, np.log2(np.arange(scores.shape[0], dtype=np.float64) + 2)),\n",
      "/Users/luistavares/Desktop/recommender-systems/Evaluation/metrics.py:270: RuntimeWarning: invalid value encountered in double_scalars\n",
      "  ndcg_ = rank_dcg / ideal_dcg\n"
     ]
    },
    {
     "name": "stdout",
     "output_type": "stream",
     "text": [
      "EvaluatorHoldout: Processed 40929 (100.0%) in 16.03 sec. Users per second: 2554\n",
      "SearchBayesianSkopt: Config 41 is suboptimal. Config: {'topK': 219, 'beta': 0.3764782499174356, 'alpha': 0.13, 'normalize_similarity': True, 'implicit': True} - results: PRECISION: 0.0448777, PRECISION_RECALL_MIN_DEN: 0.0720418, RECALL: 0.0665457, MAP: 0.0216843, MAP_MIN_DEN: 0.0342925, MRR: 0.1526070, NDCG: nan, F1: 0.0536049, HIT_RATE: 0.3111486, ARHR_ALL_HITS: 0.1806381, NOVELTY: 0.0053125, AVERAGE_POPULARITY: 0.2176795, DIVERSITY_MEAN_INTER_LIST: 0.9007977, DIVERSITY_HERFINDAHL: 0.9900776, COVERAGE_ITEM: 0.7812532, COVERAGE_ITEM_HIT: 0.0638818, ITEMS_IN_GT: 0.9984717, COVERAGE_USER: 0.9831848, COVERAGE_USER_HIT: 0.3059165, USERS_IN_GT: 0.9831848, DIVERSITY_GINI: 0.0692310, SHANNON_ENTROPY: 8.9745265, RATIO_DIVERSITY_HERFINDAHL: 0.9905012, RATIO_DIVERSITY_GINI: 0.1393585, RATIO_SHANNON_ENTROPY: 0.6831635, RATIO_AVERAGE_POPULARITY: 4.0403806, RATIO_NOVELTY: 0.4082988, \n",
      "\n",
      "Iteration No: 42 ended. Search finished for the next optimal point.\n",
      "Time taken: 25.4662\n",
      "Function value obtained: -0.0217\n",
      "Current minimum: -0.0217\n",
      "Iteration No: 43 started. Searching for the next optimal point.\n",
      "SearchBayesianSkopt: Testing config: {'topK': 312, 'beta': 0.3807162385815105, 'alpha': 0.13, 'normalize_similarity': True, 'implicit': False}\n",
      "RP3betaRecommender: Similarity column 19630 (100.0%), 2742.13 column/sec. Elapsed time 7.16 sec\n"
     ]
    },
    {
     "name": "stderr",
     "output_type": "stream",
     "text": [
      "/Users/luistavares/Desktop/recommender-systems/Evaluation/metrics.py:276: RuntimeWarning: overflow encountered in power\n",
      "  return np.sum(np.divide(np.power(2, scores) - 1, np.log2(np.arange(scores.shape[0], dtype=np.float64) + 2)),\n",
      "/Users/luistavares/Desktop/recommender-systems/Evaluation/metrics.py:270: RuntimeWarning: invalid value encountered in double_scalars\n",
      "  ndcg_ = rank_dcg / ideal_dcg\n"
     ]
    },
    {
     "name": "stdout",
     "output_type": "stream",
     "text": [
      "EvaluatorHoldout: Processed 40929 (100.0%) in 16.87 sec. Users per second: 2426\n",
      "SearchBayesianSkopt: Config 42 is suboptimal. Config: {'topK': 312, 'beta': 0.3807162385815105, 'alpha': 0.13, 'normalize_similarity': True, 'implicit': False} - results: PRECISION: 0.0449021, PRECISION_RECALL_MIN_DEN: 0.0721984, RECALL: 0.0667214, MAP: 0.0216784, MAP_MIN_DEN: 0.0343661, MRR: 0.1528749, NDCG: nan, F1: 0.0536792, HIT_RATE: 0.3120037, ARHR_ALL_HITS: 0.1807943, NOVELTY: 0.0052733, AVERAGE_POPULARITY: 0.2298317, DIVERSITY_MEAN_INTER_LIST: 0.8866728, DIVERSITY_HERFINDAHL: 0.9886651, COVERAGE_ITEM: 0.8015792, COVERAGE_ITEM_HIT: 0.0616913, ITEMS_IN_GT: 0.9984717, COVERAGE_USER: 0.9831848, COVERAGE_USER_HIT: 0.3067573, USERS_IN_GT: 0.9831848, DIVERSITY_GINI: 0.0708172, SHANNON_ENTROPY: 8.8373711, RATIO_DIVERSITY_HERFINDAHL: 0.9890882, RATIO_DIVERSITY_GINI: 0.1425514, RATIO_SHANNON_ENTROPY: 0.6727228, RATIO_AVERAGE_POPULARITY: 4.2659398, RATIO_NOVELTY: 0.4052857, \n",
      "\n",
      "Iteration No: 43 ended. Search finished for the next optimal point.\n",
      "Time taken: 28.5207\n",
      "Function value obtained: -0.0217\n",
      "Current minimum: -0.0217\n",
      "Iteration No: 44 started. Searching for the next optimal point.\n",
      "SearchBayesianSkopt: Testing config: {'topK': 232, 'beta': 0.35136628628167216, 'alpha': 0.11747653231264567, 'normalize_similarity': True, 'implicit': True}\n",
      "RP3betaRecommender: Similarity column 19630 (100.0%), 3234.86 column/sec. Elapsed time 6.07 sec\n"
     ]
    },
    {
     "name": "stderr",
     "output_type": "stream",
     "text": [
      "/Users/luistavares/Desktop/recommender-systems/Evaluation/metrics.py:276: RuntimeWarning: overflow encountered in power\n",
      "  return np.sum(np.divide(np.power(2, scores) - 1, np.log2(np.arange(scores.shape[0], dtype=np.float64) + 2)),\n",
      "/Users/luistavares/Desktop/recommender-systems/Evaluation/metrics.py:270: RuntimeWarning: invalid value encountered in double_scalars\n",
      "  ndcg_ = rank_dcg / ideal_dcg\n"
     ]
    },
    {
     "name": "stdout",
     "output_type": "stream",
     "text": [
      "EvaluatorHoldout: Processed 40929 (100.0%) in 16.04 sec. Users per second: 2552\n",
      "SearchBayesianSkopt: Config 43 is suboptimal. Config: {'topK': 232, 'beta': 0.35136628628167216, 'alpha': 0.11747653231264567, 'normalize_similarity': True, 'implicit': True} - results: PRECISION: 0.0447629, PRECISION_RECALL_MIN_DEN: 0.0719730, RECALL: 0.0664881, MAP: 0.0216830, MAP_MIN_DEN: 0.0343502, MRR: 0.1529570, NDCG: nan, F1: 0.0535042, HIT_RATE: 0.3109531, ARHR_ALL_HITS: 0.1808388, NOVELTY: 0.0052694, AVERAGE_POPULARITY: 0.2245289, DIVERSITY_MEAN_INTER_LIST: 0.8938391, DIVERSITY_HERFINDAHL: 0.9893817, COVERAGE_ITEM: 0.7641365, COVERAGE_ITEM_HIT: 0.0627611, ITEMS_IN_GT: 0.9984717, COVERAGE_USER: 0.9831848, COVERAGE_USER_HIT: 0.3057244, USERS_IN_GT: 0.9831848, DIVERSITY_GINI: 0.0637163, SHANNON_ENTROPY: 8.8375390, RATIO_DIVERSITY_HERFINDAHL: 0.9898051, RATIO_DIVERSITY_GINI: 0.1282576, RATIO_SHANNON_ENTROPY: 0.6727356, RATIO_AVERAGE_POPULARITY: 4.1675131, RATIO_NOVELTY: 0.4049848, \n",
      "\n",
      "Iteration No: 44 ended. Search finished for the next optimal point.\n",
      "Time taken: 25.7930\n",
      "Function value obtained: -0.0217\n",
      "Current minimum: -0.0217\n",
      "Iteration No: 45 started. Searching for the next optimal point.\n",
      "SearchBayesianSkopt: Testing config: {'topK': 186, 'beta': 0.3818676747988198, 'alpha': 0.12767360289525811, 'normalize_similarity': True, 'implicit': True}\n",
      "RP3betaRecommender: Similarity column 19630 (100.0%), 3636.02 column/sec. Elapsed time 5.40 sec\n"
     ]
    },
    {
     "name": "stderr",
     "output_type": "stream",
     "text": [
      "/Users/luistavares/Desktop/recommender-systems/Evaluation/metrics.py:276: RuntimeWarning: overflow encountered in power\n",
      "  return np.sum(np.divide(np.power(2, scores) - 1, np.log2(np.arange(scores.shape[0], dtype=np.float64) + 2)),\n",
      "/Users/luistavares/Desktop/recommender-systems/Evaluation/metrics.py:270: RuntimeWarning: invalid value encountered in double_scalars\n",
      "  ndcg_ = rank_dcg / ideal_dcg\n"
     ]
    },
    {
     "name": "stdout",
     "output_type": "stream",
     "text": [
      "EvaluatorHoldout: Processed 40929 (100.0%) in 15.69 sec. Users per second: 2608\n",
      "SearchBayesianSkopt: Config 44 is suboptimal. Config: {'topK': 186, 'beta': 0.3818676747988198, 'alpha': 0.12767360289525811, 'normalize_similarity': True, 'implicit': True} - results: PRECISION: 0.0446358, PRECISION_RECALL_MIN_DEN: 0.0716356, RECALL: 0.0661618, MAP: 0.0215564, MAP_MIN_DEN: 0.0340696, MRR: 0.1515103, NDCG: nan, F1: 0.0533078, HIT_RATE: 0.3100980, ARHR_ALL_HITS: 0.1794524, NOVELTY: 0.0053493, AVERAGE_POPULARITY: 0.2099827, DIVERSITY_MEAN_INTER_LIST: 0.9091616, DIVERSITY_HERFINDAHL: 0.9909139, COVERAGE_ITEM: 0.7833418, COVERAGE_ITEM_HIT: 0.0655629, ITEMS_IN_GT: 0.9984717, COVERAGE_USER: 0.9831848, COVERAGE_USER_HIT: 0.3048836, USERS_IN_GT: 0.9831848, DIVERSITY_GINI: 0.0720907, SHANNON_ENTROPY: 9.0989426, RATIO_DIVERSITY_HERFINDAHL: 0.9913380, RATIO_DIVERSITY_GINI: 0.1451149, RATIO_SHANNON_ENTROPY: 0.6926343, RATIO_AVERAGE_POPULARITY: 3.8975195, RATIO_NOVELTY: 0.4111289, \n",
      "\n",
      "Iteration No: 45 ended. Search finished for the next optimal point.\n",
      "Time taken: 24.3238\n",
      "Function value obtained: -0.0216\n",
      "Current minimum: -0.0217\n",
      "Iteration No: 46 started. Searching for the next optimal point.\n",
      "SearchBayesianSkopt: Testing config: {'topK': 230, 'beta': 0.33621199081574477, 'alpha': 0.12903038155985339, 'normalize_similarity': True, 'implicit': True}\n",
      "RP3betaRecommender: Similarity column 19630 (100.0%), 3240.09 column/sec. Elapsed time 6.06 sec\n"
     ]
    },
    {
     "name": "stderr",
     "output_type": "stream",
     "text": [
      "/Users/luistavares/Desktop/recommender-systems/Evaluation/metrics.py:276: RuntimeWarning: overflow encountered in power\n",
      "  return np.sum(np.divide(np.power(2, scores) - 1, np.log2(np.arange(scores.shape[0], dtype=np.float64) + 2)),\n",
      "/Users/luistavares/Desktop/recommender-systems/Evaluation/metrics.py:270: RuntimeWarning: invalid value encountered in double_scalars\n",
      "  ndcg_ = rank_dcg / ideal_dcg\n"
     ]
    },
    {
     "name": "stdout",
     "output_type": "stream",
     "text": [
      "EvaluatorHoldout: Processed 40929 (100.0%) in 15.99 sec. Users per second: 2559\n",
      "SearchBayesianSkopt: Config 45 is suboptimal. Config: {'topK': 230, 'beta': 0.33621199081574477, 'alpha': 0.12903038155985339, 'normalize_similarity': True, 'implicit': True} - results: PRECISION: 0.0447946, PRECISION_RECALL_MIN_DEN: 0.0721172, RECALL: 0.0666454, MAP: 0.0216484, MAP_MIN_DEN: 0.0343427, MRR: 0.1527509, NDCG: nan, F1: 0.0535778, HIT_RATE: 0.3114906, ARHR_ALL_HITS: 0.1805954, NOVELTY: 0.0052477, AVERAGE_POPULARITY: 0.2273986, DIVERSITY_MEAN_INTER_LIST: 0.8910846, DIVERSITY_HERFINDAHL: 0.9891063, COVERAGE_ITEM: 0.7509424, COVERAGE_ITEM_HIT: 0.0618951, ITEMS_IN_GT: 0.9984717, COVERAGE_USER: 0.9831848, COVERAGE_USER_HIT: 0.3062529, USERS_IN_GT: 0.9831848, DIVERSITY_GINI: 0.0605110, SHANNON_ENTROPY: 8.7674042, RATIO_DIVERSITY_HERFINDAHL: 0.9895295, RATIO_DIVERSITY_GINI: 0.1218054, RATIO_SHANNON_ENTROPY: 0.6673968, RATIO_AVERAGE_POPULARITY: 4.2207781, RATIO_NOVELTY: 0.4033143, \n",
      "\n",
      "Iteration No: 46 ended. Search finished for the next optimal point.\n",
      "Time taken: 25.7328\n",
      "Function value obtained: -0.0216\n",
      "Current minimum: -0.0217\n",
      "Iteration No: 47 started. Searching for the next optimal point.\n",
      "SearchBayesianSkopt: Testing config: {'topK': 253, 'beta': 0.35285384458936914, 'alpha': 0.09, 'normalize_similarity': True, 'implicit': True}\n",
      "RP3betaRecommender: Similarity column 19630 (100.0%), 3051.58 column/sec. Elapsed time 6.43 sec\n"
     ]
    },
    {
     "name": "stderr",
     "output_type": "stream",
     "text": [
      "/Users/luistavares/Desktop/recommender-systems/Evaluation/metrics.py:276: RuntimeWarning: overflow encountered in power\n",
      "  return np.sum(np.divide(np.power(2, scores) - 1, np.log2(np.arange(scores.shape[0], dtype=np.float64) + 2)),\n",
      "/Users/luistavares/Desktop/recommender-systems/Evaluation/metrics.py:270: RuntimeWarning: invalid value encountered in double_scalars\n",
      "  ndcg_ = rank_dcg / ideal_dcg\n"
     ]
    },
    {
     "name": "stdout",
     "output_type": "stream",
     "text": [
      "EvaluatorHoldout: Processed 40929 (100.0%) in 16.29 sec. Users per second: 2512\n",
      "SearchBayesianSkopt: Config 46 is suboptimal. Config: {'topK': 253, 'beta': 0.35285384458936914, 'alpha': 0.09, 'normalize_similarity': True, 'implicit': True} - results: PRECISION: 0.0448508, PRECISION_RECALL_MIN_DEN: 0.0721158, RECALL: 0.0666238, MAP: 0.0216776, MAP_MIN_DEN: 0.0343312, MRR: 0.1526057, NDCG: nan, F1: 0.0536110, HIT_RATE: 0.3113685, ARHR_ALL_HITS: 0.1806468, NOVELTY: 0.0052664, AVERAGE_POPULARITY: 0.2258188, DIVERSITY_MEAN_INTER_LIST: 0.8927670, DIVERSITY_HERFINDAHL: 0.9892745, COVERAGE_ITEM: 0.7647988, COVERAGE_ITEM_HIT: 0.0625573, ITEMS_IN_GT: 0.9984717, COVERAGE_USER: 0.9831848, COVERAGE_USER_HIT: 0.3061327, USERS_IN_GT: 0.9831848, DIVERSITY_GINI: 0.0640707, SHANNON_ENTROPY: 8.8301396, RATIO_DIVERSITY_HERFINDAHL: 0.9896978, RATIO_DIVERSITY_GINI: 0.1289710, RATIO_SHANNON_ENTROPY: 0.6721724, RATIO_AVERAGE_POPULARITY: 4.1914557, RATIO_NOVELTY: 0.4047580, \n",
      "\n",
      "Iteration No: 47 ended. Search finished for the next optimal point.\n",
      "Time taken: 26.7299\n",
      "Function value obtained: -0.0217\n",
      "Current minimum: -0.0217\n",
      "Iteration No: 48 started. Searching for the next optimal point.\n",
      "SearchBayesianSkopt: Testing config: {'topK': 245, 'beta': 0.31846947239256357, 'alpha': 0.09296065334187757, 'normalize_similarity': True, 'implicit': True}\n",
      "RP3betaRecommender: Similarity column 19630 (100.0%), 3113.71 column/sec. Elapsed time 6.30 sec\n"
     ]
    },
    {
     "name": "stderr",
     "output_type": "stream",
     "text": [
      "/Users/luistavares/Desktop/recommender-systems/Evaluation/metrics.py:276: RuntimeWarning: overflow encountered in power\n",
      "  return np.sum(np.divide(np.power(2, scores) - 1, np.log2(np.arange(scores.shape[0], dtype=np.float64) + 2)),\n",
      "/Users/luistavares/Desktop/recommender-systems/Evaluation/metrics.py:270: RuntimeWarning: invalid value encountered in double_scalars\n",
      "  ndcg_ = rank_dcg / ideal_dcg\n"
     ]
    },
    {
     "name": "stdout",
     "output_type": "stream",
     "text": [
      "EvaluatorHoldout: Processed 40929 (100.0%) in 16.06 sec. Users per second: 2548\n",
      "SearchBayesianSkopt: Config 47 is suboptimal. Config: {'topK': 245, 'beta': 0.31846947239256357, 'alpha': 0.09296065334187757, 'normalize_similarity': True, 'implicit': True} - results: PRECISION: 0.0447873, PRECISION_RECALL_MIN_DEN: 0.0721172, RECALL: 0.0666265, MAP: 0.0216876, MAP_MIN_DEN: 0.0344009, MRR: 0.1532277, NDCG: nan, F1: 0.0535665, HIT_RATE: 0.3117105, ARHR_ALL_HITS: 0.1810278, NOVELTY: 0.0052217, AVERAGE_POPULARITY: 0.2313770, DIVERSITY_MEAN_INTER_LIST: 0.8872277, DIVERSITY_HERFINDAHL: 0.9887206, COVERAGE_ITEM: 0.7283749, COVERAGE_ITEM_HIT: 0.0611819, ITEMS_IN_GT: 0.9984717, COVERAGE_USER: 0.9831848, COVERAGE_USER_HIT: 0.3064690, USERS_IN_GT: 0.9831848, DIVERSITY_GINI: 0.0566832, SHANNON_ENTROPY: 8.6854704, RATIO_DIVERSITY_HERFINDAHL: 0.9891437, RATIO_DIVERSITY_GINI: 0.1141004, RATIO_SHANNON_ENTROPY: 0.6611598, RATIO_AVERAGE_POPULARITY: 4.2946223, RATIO_NOVELTY: 0.4013184, \n",
      "\n",
      "Iteration No: 48 ended. Search finished for the next optimal point.\n",
      "Time taken: 26.2167\n",
      "Function value obtained: -0.0217\n",
      "Current minimum: -0.0217\n",
      "Iteration No: 49 started. Searching for the next optimal point.\n",
      "SearchBayesianSkopt: Testing config: {'topK': 300, 'beta': 0.35412826574559264, 'alpha': 0.09, 'normalize_similarity': True, 'implicit': True}\n",
      "RP3betaRecommender: Similarity column 19630 (100.0%), 2795.15 column/sec. Elapsed time 7.02 sec\n"
     ]
    },
    {
     "name": "stderr",
     "output_type": "stream",
     "text": [
      "/Users/luistavares/Desktop/recommender-systems/Evaluation/metrics.py:276: RuntimeWarning: overflow encountered in power\n",
      "  return np.sum(np.divide(np.power(2, scores) - 1, np.log2(np.arange(scores.shape[0], dtype=np.float64) + 2)),\n",
      "/Users/luistavares/Desktop/recommender-systems/Evaluation/metrics.py:270: RuntimeWarning: invalid value encountered in double_scalars\n",
      "  ndcg_ = rank_dcg / ideal_dcg\n"
     ]
    },
    {
     "name": "stdout",
     "output_type": "stream",
     "text": [
      "EvaluatorHoldout: Processed 40929 (100.0%) in 16.73 sec. Users per second: 2447\n",
      "SearchBayesianSkopt: Config 48 is suboptimal. Config: {'topK': 300, 'beta': 0.35412826574559264, 'alpha': 0.09, 'normalize_similarity': True, 'implicit': True} - results: PRECISION: 0.0449266, PRECISION_RECALL_MIN_DEN: 0.0722482, RECALL: 0.0667547, MAP: 0.0216911, MAP_MIN_DEN: 0.0343988, MRR: 0.1530794, NDCG: nan, F1: 0.0537075, HIT_RATE: 0.3123946, ARHR_ALL_HITS: 0.1809656, NOVELTY: 0.0052457, AVERAGE_POPULARITY: 0.2321225, DIVERSITY_MEAN_INTER_LIST: 0.8853151, DIVERSITY_HERFINDAHL: 0.9885293, COVERAGE_ITEM: 0.7745288, COVERAGE_ITEM_HIT: 0.0615385, ITEMS_IN_GT: 0.9984717, COVERAGE_USER: 0.9831848, COVERAGE_USER_HIT: 0.3071417, USERS_IN_GT: 0.9831848, DIVERSITY_GINI: 0.0646415, SHANNON_ENTROPY: 8.7579438, RATIO_DIVERSITY_HERFINDAHL: 0.9889523, RATIO_DIVERSITY_GINI: 0.1301199, RATIO_SHANNON_ENTROPY: 0.6666766, RATIO_AVERAGE_POPULARITY: 4.3084597, RATIO_NOVELTY: 0.4031625, \n",
      "\n",
      "Iteration No: 49 ended. Search finished for the next optimal point.\n",
      "Time taken: 28.1681\n",
      "Function value obtained: -0.0217\n",
      "Current minimum: -0.0217\n",
      "Iteration No: 50 started. Searching for the next optimal point.\n",
      "SearchBayesianSkopt: Testing config: {'topK': 174, 'beta': 0.3272318195771923, 'alpha': 0.11796263211596408, 'normalize_similarity': True, 'implicit': True}\n",
      "RP3betaRecommender: Similarity column 19630 (100.0%), 3764.25 column/sec. Elapsed time 5.21 sec\n"
     ]
    },
    {
     "name": "stderr",
     "output_type": "stream",
     "text": [
      "/Users/luistavares/Desktop/recommender-systems/Evaluation/metrics.py:276: RuntimeWarning: overflow encountered in power\n",
      "  return np.sum(np.divide(np.power(2, scores) - 1, np.log2(np.arange(scores.shape[0], dtype=np.float64) + 2)),\n",
      "/Users/luistavares/Desktop/recommender-systems/Evaluation/metrics.py:270: RuntimeWarning: invalid value encountered in double_scalars\n",
      "  ndcg_ = rank_dcg / ideal_dcg\n"
     ]
    },
    {
     "name": "stdout",
     "output_type": "stream",
     "text": [
      "EvaluatorHoldout: Processed 40929 (100.0%) in 15.35 sec. Users per second: 2666\n",
      "SearchBayesianSkopt: Config 49 is suboptimal. Config: {'topK': 174, 'beta': 0.3272318195771923, 'alpha': 0.11796263211596408, 'normalize_similarity': True, 'implicit': True} - results: PRECISION: 0.0445625, PRECISION_RECALL_MIN_DEN: 0.0714973, RECALL: 0.0660415, MAP: 0.0215556, MAP_MIN_DEN: 0.0341238, MRR: 0.1520578, NDCG: nan, F1: 0.0532164, HIT_RATE: 0.3103912, ARHR_ALL_HITS: 0.1797786, NOVELTY: 0.0052951, AVERAGE_POPULARITY: 0.2147965, DIVERSITY_MEAN_INTER_LIST: 0.9051942, DIVERSITY_HERFINDAHL: 0.9905172, COVERAGE_ITEM: 0.7456444, COVERAGE_ITEM_HIT: 0.0640346, ITEMS_IN_GT: 0.9984717, COVERAGE_USER: 0.9831848, COVERAGE_USER_HIT: 0.3051719, USERS_IN_GT: 0.9831848, DIVERSITY_GINI: 0.0624028, SHANNON_ENTROPY: 8.9326786, RATIO_DIVERSITY_HERFINDAHL: 0.9909411, RATIO_DIVERSITY_GINI: 0.1256137, RATIO_SHANNON_ENTROPY: 0.6799779, RATIO_AVERAGE_POPULARITY: 3.9868686, RATIO_NOVELTY: 0.4069637, \n",
      "\n",
      "Iteration No: 50 ended. Search finished for the next optimal point.\n",
      "Time taken: 23.6465\n",
      "Function value obtained: -0.0216\n",
      "Current minimum: -0.0217\n",
      "Iteration No: 51 started. Searching for the next optimal point.\n",
      "SearchBayesianSkopt: Testing config: {'topK': 247, 'beta': 0.3134544687900024, 'alpha': 0.11715980122609011, 'normalize_similarity': True, 'implicit': False}\n",
      "RP3betaRecommender: Similarity column 19630 (100.0%), 3088.90 column/sec. Elapsed time 6.36 sec\n"
     ]
    },
    {
     "name": "stderr",
     "output_type": "stream",
     "text": [
      "/Users/luistavares/Desktop/recommender-systems/Evaluation/metrics.py:276: RuntimeWarning: overflow encountered in power\n",
      "  return np.sum(np.divide(np.power(2, scores) - 1, np.log2(np.arange(scores.shape[0], dtype=np.float64) + 2)),\n",
      "/Users/luistavares/Desktop/recommender-systems/Evaluation/metrics.py:270: RuntimeWarning: invalid value encountered in double_scalars\n",
      "  ndcg_ = rank_dcg / ideal_dcg\n"
     ]
    },
    {
     "name": "stdout",
     "output_type": "stream",
     "text": [
      "EvaluatorHoldout: Processed 40929 (100.0%) in 16.15 sec. Users per second: 2534\n",
      "SearchBayesianSkopt: Config 50 is suboptimal. Config: {'topK': 247, 'beta': 0.3134544687900024, 'alpha': 0.11715980122609011, 'normalize_similarity': True, 'implicit': False} - results: PRECISION: 0.0448166, PRECISION_RECALL_MIN_DEN: 0.0722730, RECALL: 0.0668050, MAP: 0.0216683, MAP_MIN_DEN: 0.0343969, MRR: 0.1532540, NDCG: nan, F1: 0.0536451, HIT_RATE: 0.3124679, ARHR_ALL_HITS: 0.1809804, NOVELTY: 0.0052076, AVERAGE_POPULARITY: 0.2339255, DIVERSITY_MEAN_INTER_LIST: 0.8841885, DIVERSITY_HERFINDAHL: 0.9884167, COVERAGE_ITEM: 0.7261844, COVERAGE_ITEM_HIT: 0.0607234, ITEMS_IN_GT: 0.9984717, COVERAGE_USER: 0.9831848, COVERAGE_USER_HIT: 0.3072137, USERS_IN_GT: 0.9831848, DIVERSITY_GINI: 0.0553242, SHANNON_ENTROPY: 8.6356481, RATIO_DIVERSITY_HERFINDAHL: 0.9888396, RATIO_DIVERSITY_GINI: 0.1113647, RATIO_SHANNON_ENTROPY: 0.6573672, RATIO_AVERAGE_POPULARITY: 4.3419253, RATIO_NOVELTY: 0.4002329, \n",
      "\n",
      "Iteration No: 51 ended. Search finished for the next optimal point.\n",
      "Time taken: 26.3829\n",
      "Function value obtained: -0.0217\n",
      "Current minimum: -0.0217\n",
      "Iteration No: 52 started. Searching for the next optimal point.\n",
      "SearchBayesianSkopt: Testing config: {'topK': 313, 'beta': 0.3570296656968145, 'alpha': 0.12113296746639549, 'normalize_similarity': True, 'implicit': True}\n",
      "RP3betaRecommender: Similarity column 19630 (100.0%), 2722.91 column/sec. Elapsed time 7.21 sec\n"
     ]
    },
    {
     "name": "stderr",
     "output_type": "stream",
     "text": [
      "/Users/luistavares/Desktop/recommender-systems/Evaluation/metrics.py:276: RuntimeWarning: overflow encountered in power\n",
      "  return np.sum(np.divide(np.power(2, scores) - 1, np.log2(np.arange(scores.shape[0], dtype=np.float64) + 2)),\n",
      "/Users/luistavares/Desktop/recommender-systems/Evaluation/metrics.py:270: RuntimeWarning: invalid value encountered in double_scalars\n",
      "  ndcg_ = rank_dcg / ideal_dcg\n"
     ]
    },
    {
     "name": "stdout",
     "output_type": "stream",
     "text": [
      "EvaluatorHoldout: Processed 40929 (100.0%) in 16.80 sec. Users per second: 2436\n",
      "SearchBayesianSkopt: Config 51 is suboptimal. Config: {'topK': 313, 'beta': 0.3570296656968145, 'alpha': 0.12113296746639549, 'normalize_similarity': True, 'implicit': True} - results: PRECISION: 0.0448411, PRECISION_RECALL_MIN_DEN: 0.0722509, RECALL: 0.0667971, MAP: 0.0216877, MAP_MIN_DEN: 0.0344365, MRR: 0.1532257, NDCG: nan, F1: 0.0536600, HIT_RATE: 0.3122236, ARHR_ALL_HITS: 0.1810690, NOVELTY: 0.0052365, AVERAGE_POPULARITY: 0.2349460, DIVERSITY_MEAN_INTER_LIST: 0.8813706, DIVERSITY_HERFINDAHL: 0.9881349, COVERAGE_ITEM: 0.7810494, COVERAGE_ITEM_HIT: 0.0604687, ITEMS_IN_GT: 0.9984717, COVERAGE_USER: 0.9831848, COVERAGE_USER_HIT: 0.3069735, USERS_IN_GT: 0.9831848, DIVERSITY_GINI: 0.0650960, SHANNON_ENTROPY: 8.7213307, RATIO_DIVERSITY_HERFINDAHL: 0.9885577, RATIO_DIVERSITY_GINI: 0.1310349, RATIO_SHANNON_ENTROPY: 0.6638896, RATIO_AVERAGE_POPULARITY: 4.3608679, RATIO_NOVELTY: 0.4024609, \n",
      "\n",
      "Iteration No: 52 ended. Search finished for the next optimal point.\n",
      "Time taken: 28.5924\n",
      "Function value obtained: -0.0217\n",
      "Current minimum: -0.0217\n",
      "Iteration No: 53 started. Searching for the next optimal point.\n",
      "SearchBayesianSkopt: Testing config: {'topK': 299, 'beta': 0.347963812958054, 'alpha': 0.13, 'normalize_similarity': True, 'implicit': False}\n",
      "RP3betaRecommender: Similarity column 19630 (100.0%), 2794.60 column/sec. Elapsed time 7.02 sec\n"
     ]
    },
    {
     "name": "stderr",
     "output_type": "stream",
     "text": [
      "/Users/luistavares/Desktop/recommender-systems/Evaluation/metrics.py:276: RuntimeWarning: overflow encountered in power\n",
      "  return np.sum(np.divide(np.power(2, scores) - 1, np.log2(np.arange(scores.shape[0], dtype=np.float64) + 2)),\n",
      "/Users/luistavares/Desktop/recommender-systems/Evaluation/metrics.py:270: RuntimeWarning: invalid value encountered in double_scalars\n",
      "  ndcg_ = rank_dcg / ideal_dcg\n"
     ]
    },
    {
     "name": "stdout",
     "output_type": "stream",
     "text": [
      "EvaluatorHoldout: Processed 40929 (100.0%) in 16.65 sec. Users per second: 2459\n",
      "SearchBayesianSkopt: Config 52 is suboptimal. Config: {'topK': 299, 'beta': 0.347963812958054, 'alpha': 0.13, 'normalize_similarity': True, 'implicit': False} - results: PRECISION: 0.0448777, PRECISION_RECALL_MIN_DEN: 0.0724175, RECALL: 0.0669616, MAP: 0.0216459, MAP_MIN_DEN: 0.0343842, MRR: 0.1530444, NDCG: nan, F1: 0.0537393, HIT_RATE: 0.3130299, ARHR_ALL_HITS: 0.1807964, NOVELTY: 0.0052252, AVERAGE_POPULARITY: 0.2360125, DIVERSITY_MEAN_INTER_LIST: 0.8802048, DIVERSITY_HERFINDAHL: 0.9880183, COVERAGE_ITEM: 0.7683138, COVERAGE_ITEM_HIT: 0.0606215, ITEMS_IN_GT: 0.9984717, COVERAGE_USER: 0.9831848, COVERAGE_USER_HIT: 0.3077662, USERS_IN_GT: 0.9831848, DIVERSITY_GINI: 0.0625119, SHANNON_ENTROPY: 8.6838766, RATIO_DIVERSITY_HERFINDAHL: 0.9884411, RATIO_DIVERSITY_GINI: 0.1258333, RATIO_SHANNON_ENTROPY: 0.6610385, RATIO_AVERAGE_POPULARITY: 4.3806627, RATIO_NOVELTY: 0.4015916, \n",
      "\n",
      "Iteration No: 53 ended. Search finished for the next optimal point.\n",
      "Time taken: 28.1204\n",
      "Function value obtained: -0.0216\n",
      "Current minimum: -0.0217\n",
      "Iteration No: 54 started. Searching for the next optimal point.\n",
      "SearchBayesianSkopt: Testing config: {'topK': 303, 'beta': 0.3550173038507209, 'alpha': 0.10384503864098445, 'normalize_similarity': True, 'implicit': True}\n",
      "RP3betaRecommender: Similarity column 19630 (100.0%), 2759.84 column/sec. Elapsed time 7.11 sec\n"
     ]
    },
    {
     "name": "stderr",
     "output_type": "stream",
     "text": [
      "/Users/luistavares/Desktop/recommender-systems/Evaluation/metrics.py:276: RuntimeWarning: overflow encountered in power\n",
      "  return np.sum(np.divide(np.power(2, scores) - 1, np.log2(np.arange(scores.shape[0], dtype=np.float64) + 2)),\n",
      "/Users/luistavares/Desktop/recommender-systems/Evaluation/metrics.py:270: RuntimeWarning: invalid value encountered in double_scalars\n",
      "  ndcg_ = rank_dcg / ideal_dcg\n"
     ]
    },
    {
     "name": "stdout",
     "output_type": "stream",
     "text": [
      "EvaluatorHoldout: Processed 40929 (100.0%) in 16.76 sec. Users per second: 2442\n",
      "SearchBayesianSkopt: Config 53 is suboptimal. Config: {'topK': 303, 'beta': 0.3550173038507209, 'alpha': 0.10384503864098445, 'normalize_similarity': True, 'implicit': True} - results: PRECISION: 0.0448460, PRECISION_RECALL_MIN_DEN: 0.0722733, RECALL: 0.0668131, MAP: 0.0216947, MAP_MIN_DEN: 0.0344272, MRR: 0.1533046, NDCG: nan, F1: 0.0536687, HIT_RATE: 0.3122236, ARHR_ALL_HITS: 0.1811199, NOVELTY: 0.0052413, AVERAGE_POPULARITY: 0.2332732, DIVERSITY_MEAN_INTER_LIST: 0.8837484, DIVERSITY_HERFINDAHL: 0.9883727, COVERAGE_ITEM: 0.7748854, COVERAGE_ITEM_HIT: 0.0611309, ITEMS_IN_GT: 0.9984717, COVERAGE_USER: 0.9831848, COVERAGE_USER_HIT: 0.3069735, USERS_IN_GT: 0.9831848, DIVERSITY_GINI: 0.0645576, SHANNON_ENTROPY: 8.7406611, RATIO_DIVERSITY_HERFINDAHL: 0.9887956, RATIO_DIVERSITY_GINI: 0.1299511, RATIO_SHANNON_ENTROPY: 0.6653610, RATIO_AVERAGE_POPULARITY: 4.3298184, RATIO_NOVELTY: 0.4028242, \n",
      "\n",
      "Iteration No: 54 ended. Search finished for the next optimal point.\n",
      "Time taken: 28.4061\n",
      "Function value obtained: -0.0217\n",
      "Current minimum: -0.0217\n",
      "Iteration No: 55 started. Searching for the next optimal point.\n",
      "SearchBayesianSkopt: Testing config: {'topK': 308, 'beta': 0.350453340168887, 'alpha': 0.09928450446223659, 'normalize_similarity': True, 'implicit': False}\n",
      "RP3betaRecommender: Similarity column 19630 (100.0%), 2712.98 column/sec. Elapsed time 7.24 sec\n"
     ]
    },
    {
     "name": "stderr",
     "output_type": "stream",
     "text": [
      "/Users/luistavares/Desktop/recommender-systems/Evaluation/metrics.py:276: RuntimeWarning: overflow encountered in power\n",
      "  return np.sum(np.divide(np.power(2, scores) - 1, np.log2(np.arange(scores.shape[0], dtype=np.float64) + 2)),\n",
      "/Users/luistavares/Desktop/recommender-systems/Evaluation/metrics.py:270: RuntimeWarning: invalid value encountered in double_scalars\n",
      "  ndcg_ = rank_dcg / ideal_dcg\n"
     ]
    },
    {
     "name": "stdout",
     "output_type": "stream",
     "text": [
      "EvaluatorHoldout: Processed 40929 (100.0%) in 16.83 sec. Users per second: 2432\n",
      "SearchBayesianSkopt: Config 54 is suboptimal. Config: {'topK': 308, 'beta': 0.350453340168887, 'alpha': 0.09928450446223659, 'normalize_similarity': True, 'implicit': False} - results: PRECISION: 0.0448777, PRECISION_RECALL_MIN_DEN: 0.0723291, RECALL: 0.0668595, MAP: 0.0216883, MAP_MIN_DEN: 0.0344173, MRR: 0.1533149, NDCG: nan, F1: 0.0537064, HIT_RATE: 0.3126390, ARHR_ALL_HITS: 0.1810992, NOVELTY: 0.0052337, AVERAGE_POPULARITY: 0.2345726, DIVERSITY_MEAN_INTER_LIST: 0.8823659, DIVERSITY_HERFINDAHL: 0.9882344, COVERAGE_ITEM: 0.7733571, COVERAGE_ITEM_HIT: 0.0609781, ITEMS_IN_GT: 0.9984717, COVERAGE_USER: 0.9831848, COVERAGE_USER_HIT: 0.3073819, USERS_IN_GT: 0.9831848, DIVERSITY_GINI: 0.0637886, SHANNON_ENTROPY: 8.7168800, RATIO_DIVERSITY_HERFINDAHL: 0.9886573, RATIO_DIVERSITY_GINI: 0.1284031, RATIO_SHANNON_ENTROPY: 0.6635508, RATIO_AVERAGE_POPULARITY: 4.3539359, RATIO_NOVELTY: 0.4022429, \n",
      "\n",
      "Iteration No: 55 ended. Search finished for the next optimal point.\n",
      "Time taken: 28.9471\n",
      "Function value obtained: -0.0217\n",
      "Current minimum: -0.0217\n",
      "Iteration No: 56 started. Searching for the next optimal point.\n",
      "SearchBayesianSkopt: Testing config: {'topK': 338, 'beta': 0.331396579542414, 'alpha': 0.12119522612136345, 'normalize_similarity': True, 'implicit': True}\n",
      "RP3betaRecommender: Similarity column 19630 (100.0%), 2601.37 column/sec. Elapsed time 7.55 sec\n"
     ]
    },
    {
     "name": "stderr",
     "output_type": "stream",
     "text": [
      "/Users/luistavares/Desktop/recommender-systems/Evaluation/metrics.py:276: RuntimeWarning: overflow encountered in power\n",
      "  return np.sum(np.divide(np.power(2, scores) - 1, np.log2(np.arange(scores.shape[0], dtype=np.float64) + 2)),\n",
      "/Users/luistavares/Desktop/recommender-systems/Evaluation/metrics.py:270: RuntimeWarning: invalid value encountered in double_scalars\n",
      "  ndcg_ = rank_dcg / ideal_dcg\n"
     ]
    },
    {
     "name": "stdout",
     "output_type": "stream",
     "text": [
      "EvaluatorHoldout: Processed 40929 (100.0%) in 16.93 sec. Users per second: 2417\n",
      "SearchBayesianSkopt: Config 55 is suboptimal. Config: {'topK': 338, 'beta': 0.331396579542414, 'alpha': 0.12119522612136345, 'normalize_similarity': True, 'implicit': True} - results: PRECISION: 0.0448850, PRECISION_RECALL_MIN_DEN: 0.0724239, RECALL: 0.0669609, MAP: 0.0215855, MAP_MIN_DEN: 0.0343631, MRR: 0.1528329, NDCG: nan, F1: 0.0537443, HIT_RATE: 0.3135674, ARHR_ALL_HITS: 0.1804070, NOVELTY: 0.0051893, AVERAGE_POPULARITY: 0.2431458, DIVERSITY_MEAN_INTER_LIST: 0.8719940, DIVERSITY_HERFINDAHL: 0.9871973, COVERAGE_ITEM: 0.7601121, COVERAGE_ITEM_HIT: 0.0596536, ITEMS_IN_GT: 0.9984717, COVERAGE_USER: 0.9831848, COVERAGE_USER_HIT: 0.3082947, USERS_IN_GT: 0.9831848, DIVERSITY_GINI: 0.0596197, SHANNON_ENTROPY: 8.5642810, RATIO_DIVERSITY_HERFINDAHL: 0.9876197, RATIO_DIVERSITY_GINI: 0.1200114, RATIO_SHANNON_ENTROPY: 0.6519345, RATIO_AVERAGE_POPULARITY: 4.5130659, RATIO_NOVELTY: 0.3988310, \n",
      "\n",
      "Iteration No: 56 ended. Search finished for the next optimal point.\n",
      "Time taken: 29.2224\n",
      "Function value obtained: -0.0216\n",
      "Current minimum: -0.0217\n",
      "Iteration No: 57 started. Searching for the next optimal point.\n",
      "SearchBayesianSkopt: Testing config: {'topK': 335, 'beta': 0.3530901932400372, 'alpha': 0.11024963602681168, 'normalize_similarity': True, 'implicit': False}\n",
      "RP3betaRecommender: Similarity column 19630 (100.0%), 2629.36 column/sec. Elapsed time 7.47 sec\n"
     ]
    },
    {
     "name": "stderr",
     "output_type": "stream",
     "text": [
      "/Users/luistavares/Desktop/recommender-systems/Evaluation/metrics.py:276: RuntimeWarning: overflow encountered in power\n",
      "  return np.sum(np.divide(np.power(2, scores) - 1, np.log2(np.arange(scores.shape[0], dtype=np.float64) + 2)),\n",
      "/Users/luistavares/Desktop/recommender-systems/Evaluation/metrics.py:270: RuntimeWarning: invalid value encountered in double_scalars\n",
      "  ndcg_ = rank_dcg / ideal_dcg\n"
     ]
    },
    {
     "name": "stdout",
     "output_type": "stream",
     "text": [
      "EvaluatorHoldout: Processed 40929 (100.0%) in 17.04 sec. Users per second: 2402\n",
      "SearchBayesianSkopt: Config 56 is suboptimal. Config: {'topK': 335, 'beta': 0.3530901932400372, 'alpha': 0.11024963602681168, 'normalize_similarity': True, 'implicit': False} - results: PRECISION: 0.0448850, PRECISION_RECALL_MIN_DEN: 0.0722552, RECALL: 0.0667997, MAP: 0.0216414, MAP_MIN_DEN: 0.0343719, MRR: 0.1529659, NDCG: nan, F1: 0.0536923, HIT_RATE: 0.3129322, ARHR_ALL_HITS: 0.1807222, NOVELTY: 0.0052264, AVERAGE_POPULARITY: 0.2375743, DIVERSITY_MEAN_INTER_LIST: 0.8783959, DIVERSITY_HERFINDAHL: 0.9878374, COVERAGE_ITEM: 0.7826286, COVERAGE_ITEM_HIT: 0.0601121, ITEMS_IN_GT: 0.9984717, COVERAGE_USER: 0.9831848, COVERAGE_USER_HIT: 0.3076701, USERS_IN_GT: 0.9831848, DIVERSITY_GINI: 0.0649658, SHANNON_ENTROPY: 8.6873534, RATIO_DIVERSITY_HERFINDAHL: 0.9882601, RATIO_DIVERSITY_GINI: 0.1307727, RATIO_SHANNON_ENTROPY: 0.6613031, RATIO_AVERAGE_POPULARITY: 4.4096519, RATIO_NOVELTY: 0.4016775, \n",
      "\n",
      "Iteration No: 57 ended. Search finished for the next optimal point.\n",
      "Time taken: 29.2732\n",
      "Function value obtained: -0.0216\n",
      "Current minimum: -0.0217\n",
      "Iteration No: 58 started. Searching for the next optimal point.\n",
      "SearchBayesianSkopt: Testing config: {'topK': 292, 'beta': 0.3417188395738238, 'alpha': 0.10540239753951182, 'normalize_similarity': True, 'implicit': True}\n",
      "RP3betaRecommender: Similarity column 19630 (100.0%), 2823.12 column/sec. Elapsed time 6.95 sec\n"
     ]
    },
    {
     "name": "stderr",
     "output_type": "stream",
     "text": [
      "/Users/luistavares/Desktop/recommender-systems/Evaluation/metrics.py:276: RuntimeWarning: overflow encountered in power\n",
      "  return np.sum(np.divide(np.power(2, scores) - 1, np.log2(np.arange(scores.shape[0], dtype=np.float64) + 2)),\n",
      "/Users/luistavares/Desktop/recommender-systems/Evaluation/metrics.py:270: RuntimeWarning: invalid value encountered in double_scalars\n",
      "  ndcg_ = rank_dcg / ideal_dcg\n"
     ]
    },
    {
     "name": "stdout",
     "output_type": "stream",
     "text": [
      "EvaluatorHoldout: Processed 40929 (100.0%) in 17.01 sec. Users per second: 2406\n",
      "SearchBayesianSkopt: Config 57 is suboptimal. Config: {'topK': 292, 'beta': 0.3417188395738238, 'alpha': 0.10540239753951182, 'normalize_similarity': True, 'implicit': True} - results: PRECISION: 0.0448533, PRECISION_RECALL_MIN_DEN: 0.0722790, RECALL: 0.0668047, MAP: 0.0216657, MAP_MIN_DEN: 0.0344162, MRR: 0.1532142, NDCG: nan, F1: 0.0536712, HIT_RATE: 0.3125168, ARHR_ALL_HITS: 0.1809784, NOVELTY: 0.0052252, AVERAGE_POPULARITY: 0.2347638, DIVERSITY_MEAN_INTER_LIST: 0.8822656, DIVERSITY_HERFINDAHL: 0.9882244, COVERAGE_ITEM: 0.7591951, COVERAGE_ITEM_HIT: 0.0606724, ITEMS_IN_GT: 0.9984717, COVERAGE_USER: 0.9831848, COVERAGE_USER_HIT: 0.3072618, USERS_IN_GT: 0.9831848, DIVERSITY_GINI: 0.0612059, SHANNON_ENTROPY: 8.6890765, RATIO_DIVERSITY_HERFINDAHL: 0.9886473, RATIO_DIVERSITY_GINI: 0.1232043, RATIO_SHANNON_ENTROPY: 0.6614343, RATIO_AVERAGE_POPULARITY: 4.3574855, RATIO_NOVELTY: 0.4015907, \n",
      "\n",
      "Iteration No: 58 ended. Search finished for the next optimal point.\n",
      "Time taken: 28.3790\n",
      "Function value obtained: -0.0217\n",
      "Current minimum: -0.0217\n",
      "Iteration No: 59 started. Searching for the next optimal point.\n",
      "SearchBayesianSkopt: Testing config: {'topK': 272, 'beta': 0.3497968312743261, 'alpha': 0.11074289184448734, 'normalize_similarity': True, 'implicit': True}\n",
      "RP3betaRecommender: Similarity column 19630 (100.0%), 2954.02 column/sec. Elapsed time 6.65 sec\n"
     ]
    },
    {
     "name": "stderr",
     "output_type": "stream",
     "text": [
      "/Users/luistavares/Desktop/recommender-systems/Evaluation/metrics.py:276: RuntimeWarning: overflow encountered in power\n",
      "  return np.sum(np.divide(np.power(2, scores) - 1, np.log2(np.arange(scores.shape[0], dtype=np.float64) + 2)),\n",
      "/Users/luistavares/Desktop/recommender-systems/Evaluation/metrics.py:270: RuntimeWarning: invalid value encountered in double_scalars\n",
      "  ndcg_ = rank_dcg / ideal_dcg\n"
     ]
    },
    {
     "name": "stdout",
     "output_type": "stream",
     "text": [
      "EvaluatorHoldout: Processed 40929 (100.0%) in 16.45 sec. Users per second: 2488\n",
      "SearchBayesianSkopt: Config 58 is suboptimal. Config: {'topK': 272, 'beta': 0.3497968312743261, 'alpha': 0.11074289184448734, 'normalize_similarity': True, 'implicit': True} - results: PRECISION: 0.0448850, PRECISION_RECALL_MIN_DEN: 0.0722992, RECALL: 0.0668173, MAP: 0.0216814, MAP_MIN_DEN: 0.0343820, MRR: 0.1528526, NDCG: nan, F1: 0.0536980, HIT_RATE: 0.3119793, ARHR_ALL_HITS: 0.1808155, NOVELTY: 0.0052450, AVERAGE_POPULARITY: 0.2307071, DIVERSITY_MEAN_INTER_LIST: 0.8868758, DIVERSITY_HERFINDAHL: 0.9886854, COVERAGE_ITEM: 0.7644931, COVERAGE_ITEM_HIT: 0.0615894, ITEMS_IN_GT: 0.9984717, COVERAGE_USER: 0.9831848, COVERAGE_USER_HIT: 0.3067333, USERS_IN_GT: 0.9831848, DIVERSITY_GINI: 0.0628697, SHANNON_ENTROPY: 8.7544087, RATIO_DIVERSITY_HERFINDAHL: 0.9891085, RATIO_DIVERSITY_GINI: 0.1265534, RATIO_SHANNON_ENTROPY: 0.6664075, RATIO_AVERAGE_POPULARITY: 4.2821892, RATIO_NOVELTY: 0.4031080, \n",
      "\n",
      "Iteration No: 59 ended. Search finished for the next optimal point.\n",
      "Time taken: 27.3066\n",
      "Function value obtained: -0.0217\n",
      "Current minimum: -0.0217\n",
      "Iteration No: 60 started. Searching for the next optimal point.\n",
      "SearchBayesianSkopt: Testing config: {'topK': 261, 'beta': 0.399879559316247, 'alpha': 0.10091256922130333, 'normalize_similarity': True, 'implicit': False}\n",
      "RP3betaRecommender: Similarity column 19630 (100.0%), 3020.53 column/sec. Elapsed time 6.50 sec\n"
     ]
    },
    {
     "name": "stderr",
     "output_type": "stream",
     "text": [
      "/Users/luistavares/Desktop/recommender-systems/Evaluation/metrics.py:276: RuntimeWarning: overflow encountered in power\n",
      "  return np.sum(np.divide(np.power(2, scores) - 1, np.log2(np.arange(scores.shape[0], dtype=np.float64) + 2)),\n",
      "/Users/luistavares/Desktop/recommender-systems/Evaluation/metrics.py:270: RuntimeWarning: invalid value encountered in double_scalars\n",
      "  ndcg_ = rank_dcg / ideal_dcg\n"
     ]
    },
    {
     "name": "stdout",
     "output_type": "stream",
     "text": [
      "EvaluatorHoldout: Processed 40929 (100.0%) in 16.60 sec. Users per second: 2465\n",
      "SearchBayesianSkopt: Config 59 is suboptimal. Config: {'topK': 261, 'beta': 0.399879559316247, 'alpha': 0.10091256922130333, 'normalize_similarity': True, 'implicit': False} - results: PRECISION: 0.0448948, PRECISION_RECALL_MIN_DEN: 0.0720916, RECALL: 0.0665893, MAP: 0.0216731, MAP_MIN_DEN: 0.0341940, MRR: 0.1521514, NDCG: nan, F1: 0.0536312, HIT_RATE: 0.3114173, ARHR_ALL_HITS: 0.1803284, NOVELTY: 0.0053341, AVERAGE_POPULARITY: 0.2167139, DIVERSITY_MEAN_INTER_LIST: 0.9012972, DIVERSITY_HERFINDAHL: 0.9901275, COVERAGE_ITEM: 0.8014773, COVERAGE_ITEM_HIT: 0.0649516, ITEMS_IN_GT: 0.9984717, COVERAGE_USER: 0.9831848, COVERAGE_USER_HIT: 0.3061808, USERS_IN_GT: 0.9831848, DIVERSITY_GINI: 0.0744967, SHANNON_ENTROPY: 9.0385797, RATIO_DIVERSITY_HERFINDAHL: 0.9905512, RATIO_DIVERSITY_GINI: 0.1499581, RATIO_SHANNON_ENTROPY: 0.6880393, RATIO_AVERAGE_POPULARITY: 4.0224591, RATIO_NOVELTY: 0.4099545, \n",
      "\n",
      "Iteration No: 60 ended. Search finished for the next optimal point.\n",
      "Time taken: 27.2649\n",
      "Function value obtained: -0.0217\n",
      "Current minimum: -0.0217\n",
      "Iteration No: 61 started. Searching for the next optimal point.\n",
      "SearchBayesianSkopt: Testing config: {'topK': 223, 'beta': 0.4, 'alpha': 0.10291805939337204, 'normalize_similarity': True, 'implicit': True}\n",
      "RP3betaRecommender: Similarity column 19630 (100.0%), 3315.05 column/sec. Elapsed time 5.92 sec\n"
     ]
    },
    {
     "name": "stderr",
     "output_type": "stream",
     "text": [
      "/Users/luistavares/Desktop/recommender-systems/Evaluation/metrics.py:276: RuntimeWarning: overflow encountered in power\n",
      "  return np.sum(np.divide(np.power(2, scores) - 1, np.log2(np.arange(scores.shape[0], dtype=np.float64) + 2)),\n",
      "/Users/luistavares/Desktop/recommender-systems/Evaluation/metrics.py:270: RuntimeWarning: invalid value encountered in double_scalars\n",
      "  ndcg_ = rank_dcg / ideal_dcg\n"
     ]
    },
    {
     "name": "stdout",
     "output_type": "stream",
     "text": [
      "EvaluatorHoldout: Processed 40929 (100.0%) in 16.26 sec. Users per second: 2517\n",
      "SearchBayesianSkopt: Config 60 is suboptimal. Config: {'topK': 223, 'beta': 0.4, 'alpha': 0.10291805939337204, 'normalize_similarity': True, 'implicit': True} - results: PRECISION: 0.0448704, PRECISION_RECALL_MIN_DEN: 0.0719404, RECALL: 0.0664198, MAP: 0.0216812, MAP_MIN_DEN: 0.0341809, MRR: 0.1520551, NDCG: nan, F1: 0.0535587, HIT_RATE: 0.3104645, ARHR_ALL_HITS: 0.1802876, NOVELTY: 0.0053550, AVERAGE_POPULARITY: 0.2113232, DIVERSITY_MEAN_INTER_LIST: 0.9071949, DIVERSITY_HERFINDAHL: 0.9907173, COVERAGE_ITEM: 0.7951095, COVERAGE_ITEM_HIT: 0.0661742, ITEMS_IN_GT: 0.9984717, COVERAGE_USER: 0.9831848, COVERAGE_USER_HIT: 0.3052439, USERS_IN_GT: 0.9831848, DIVERSITY_GINI: 0.0746304, SHANNON_ENTROPY: 9.1089281, RATIO_DIVERSITY_HERFINDAHL: 0.9911412, RATIO_DIVERSITY_GINI: 0.1502272, RATIO_SHANNON_ENTROPY: 0.6933944, RATIO_AVERAGE_POPULARITY: 3.9224004, RATIO_NOVELTY: 0.4115656, \n",
      "\n",
      "Iteration No: 61 ended. Search finished for the next optimal point.\n",
      "Time taken: 25.9740\n",
      "Function value obtained: -0.0217\n",
      "Current minimum: -0.0217\n",
      "Iteration No: 62 started. Searching for the next optimal point.\n",
      "SearchBayesianSkopt: Testing config: {'topK': 302, 'beta': 0.37339308603396554, 'alpha': 0.11226432525123523, 'normalize_similarity': True, 'implicit': False}\n",
      "RP3betaRecommender: Similarity column 19630 (100.0%), 2761.00 column/sec. Elapsed time 7.11 sec\n"
     ]
    },
    {
     "name": "stderr",
     "output_type": "stream",
     "text": [
      "/Users/luistavares/Desktop/recommender-systems/Evaluation/metrics.py:276: RuntimeWarning: overflow encountered in power\n",
      "  return np.sum(np.divide(np.power(2, scores) - 1, np.log2(np.arange(scores.shape[0], dtype=np.float64) + 2)),\n",
      "/Users/luistavares/Desktop/recommender-systems/Evaluation/metrics.py:270: RuntimeWarning: invalid value encountered in double_scalars\n",
      "  ndcg_ = rank_dcg / ideal_dcg\n"
     ]
    },
    {
     "name": "stdout",
     "output_type": "stream",
     "text": [
      "EvaluatorHoldout: Processed 40929 (100.0%) in 16.95 sec. Users per second: 2415\n",
      "SearchBayesianSkopt: Config 61 is suboptimal. Config: {'topK': 302, 'beta': 0.37339308603396554, 'alpha': 0.11226432525123523, 'normalize_similarity': True, 'implicit': False} - results: PRECISION: 0.0448728, PRECISION_RECALL_MIN_DEN: 0.0721086, RECALL: 0.0666369, MAP: 0.0217082, MAP_MIN_DEN: 0.0344169, MRR: 0.1531473, NDCG: nan, F1: 0.0536309, HIT_RATE: 0.3120037, ARHR_ALL_HITS: 0.1810885, NOVELTY: 0.0052692, AVERAGE_POPULARITY: 0.2292858, DIVERSITY_MEAN_INTER_LIST: 0.8878872, DIVERSITY_HERFINDAHL: 0.9887865, COVERAGE_ITEM: 0.7922058, COVERAGE_ITEM_HIT: 0.0614366, ITEMS_IN_GT: 0.9984717, COVERAGE_USER: 0.9831848, COVERAGE_USER_HIT: 0.3067573, USERS_IN_GT: 0.9831848, DIVERSITY_GINI: 0.0688390, SHANNON_ENTROPY: 8.8293353, RATIO_DIVERSITY_HERFINDAHL: 0.9892097, RATIO_DIVERSITY_GINI: 0.1385693, RATIO_SHANNON_ENTROPY: 0.6721111, RATIO_AVERAGE_POPULARITY: 4.2558082, RATIO_NOVELTY: 0.4049716, \n",
      "\n",
      "Iteration No: 62 ended. Search finished for the next optimal point.\n",
      "Time taken: 28.6661\n",
      "Function value obtained: -0.0217\n",
      "Current minimum: -0.0217\n",
      "Iteration No: 63 started. Searching for the next optimal point.\n",
      "SearchBayesianSkopt: Testing config: {'topK': 284, 'beta': 0.3176282195819792, 'alpha': 0.09516865710650473, 'normalize_similarity': True, 'implicit': False}\n",
      "RP3betaRecommender: Similarity column 19630 (100.0%), 2871.72 column/sec. Elapsed time 6.84 sec\n"
     ]
    },
    {
     "name": "stderr",
     "output_type": "stream",
     "text": [
      "/Users/luistavares/Desktop/recommender-systems/Evaluation/metrics.py:276: RuntimeWarning: overflow encountered in power\n",
      "  return np.sum(np.divide(np.power(2, scores) - 1, np.log2(np.arange(scores.shape[0], dtype=np.float64) + 2)),\n",
      "/Users/luistavares/Desktop/recommender-systems/Evaluation/metrics.py:270: RuntimeWarning: invalid value encountered in double_scalars\n",
      "  ndcg_ = rank_dcg / ideal_dcg\n"
     ]
    },
    {
     "name": "stdout",
     "output_type": "stream",
     "text": [
      "EvaluatorHoldout: Processed 40929 (100.0%) in 16.53 sec. Users per second: 2475\n",
      "SearchBayesianSkopt: Config 62 is suboptimal. Config: {'topK': 284, 'beta': 0.3176282195819792, 'alpha': 0.09516865710650473, 'normalize_similarity': True, 'implicit': False} - results: PRECISION: 0.0448435, PRECISION_RECALL_MIN_DEN: 0.0723401, RECALL: 0.0668807, MAP: 0.0216600, MAP_MIN_DEN: 0.0344281, MRR: 0.1532513, NDCG: nan, F1: 0.0536887, HIT_RATE: 0.3126634, ARHR_ALL_HITS: 0.1809766, NOVELTY: 0.0051966, AVERAGE_POPULARITY: 0.2376841, DIVERSITY_MEAN_INTER_LIST: 0.8795218, DIVERSITY_HERFINDAHL: 0.9879500, COVERAGE_ITEM: 0.7325013, COVERAGE_ITEM_HIT: 0.0602649, ITEMS_IN_GT: 0.9984717, COVERAGE_USER: 0.9831848, COVERAGE_USER_HIT: 0.3074059, USERS_IN_GT: 0.9831848, DIVERSITY_GINI: 0.0559214, SHANNON_ENTROPY: 8.5976410, RATIO_DIVERSITY_HERFINDAHL: 0.9883728, RATIO_DIVERSITY_GINI: 0.1125668, RATIO_SHANNON_ENTROPY: 0.6544740, RATIO_AVERAGE_POPULARITY: 4.4116896, RATIO_NOVELTY: 0.3993922, \n",
      "\n",
      "Iteration No: 63 ended. Search finished for the next optimal point.\n",
      "Time taken: 27.7547\n",
      "Function value obtained: -0.0217\n",
      "Current minimum: -0.0217\n",
      "Iteration No: 64 started. Searching for the next optimal point.\n",
      "SearchBayesianSkopt: Testing config: {'topK': 283, 'beta': 0.3848473544632448, 'alpha': 0.09, 'normalize_similarity': True, 'implicit': False}\n",
      "RP3betaRecommender: Similarity column 19630 (100.0%), 2883.19 column/sec. Elapsed time 6.81 sec\n"
     ]
    },
    {
     "name": "stderr",
     "output_type": "stream",
     "text": [
      "/Users/luistavares/Desktop/recommender-systems/Evaluation/metrics.py:276: RuntimeWarning: overflow encountered in power\n",
      "  return np.sum(np.divide(np.power(2, scores) - 1, np.log2(np.arange(scores.shape[0], dtype=np.float64) + 2)),\n",
      "/Users/luistavares/Desktop/recommender-systems/Evaluation/metrics.py:270: RuntimeWarning: invalid value encountered in double_scalars\n",
      "  ndcg_ = rank_dcg / ideal_dcg\n"
     ]
    },
    {
     "name": "stdout",
     "output_type": "stream",
     "text": [
      "EvaluatorHoldout: Processed 40929 (100.0%) in 16.70 sec. Users per second: 2452\n",
      "SearchBayesianSkopt: Config 63 is suboptimal. Config: {'topK': 283, 'beta': 0.3848473544632448, 'alpha': 0.09, 'normalize_similarity': True, 'implicit': False} - results: PRECISION: 0.0448215, PRECISION_RECALL_MIN_DEN: 0.0720686, RECALL: 0.0666005, MAP: 0.0216961, MAP_MIN_DEN: 0.0343600, MRR: 0.1528463, NDCG: nan, F1: 0.0535825, HIT_RATE: 0.3113196, ARHR_ALL_HITS: 0.1808736, NOVELTY: 0.0053018, AVERAGE_POPULARITY: 0.2228706, DIVERSITY_MEAN_INTER_LIST: 0.8951778, DIVERSITY_HERFINDAHL: 0.9895156, COVERAGE_ITEM: 0.7949567, COVERAGE_ITEM_HIT: 0.0631686, ITEMS_IN_GT: 0.9984717, COVERAGE_USER: 0.9831848, COVERAGE_USER_HIT: 0.3060847, USERS_IN_GT: 0.9831848, DIVERSITY_GINI: 0.0714019, SHANNON_ENTROPY: 8.9376850, RATIO_DIVERSITY_HERFINDAHL: 0.9899390, RATIO_DIVERSITY_GINI: 0.1437282, RATIO_SHANNON_ENTROPY: 0.6803590, RATIO_AVERAGE_POPULARITY: 4.1367345, RATIO_NOVELTY: 0.4074735, \n",
      "\n",
      "Iteration No: 64 ended. Search finished for the next optimal point.\n",
      "Time taken: 27.9207\n",
      "Function value obtained: -0.0217\n",
      "Current minimum: -0.0217\n",
      "Iteration No: 65 started. Searching for the next optimal point.\n",
      "SearchBayesianSkopt: Testing config: {'topK': 307, 'beta': 0.3943221915368358, 'alpha': 0.10622350945613711, 'normalize_similarity': True, 'implicit': True}\n",
      "RP3betaRecommender: Similarity column 19630 (100.0%), 2756.30 column/sec. Elapsed time 7.12 sec\n"
     ]
    },
    {
     "name": "stderr",
     "output_type": "stream",
     "text": [
      "/Users/luistavares/Desktop/recommender-systems/Evaluation/metrics.py:276: RuntimeWarning: overflow encountered in power\n",
      "  return np.sum(np.divide(np.power(2, scores) - 1, np.log2(np.arange(scores.shape[0], dtype=np.float64) + 2)),\n",
      "/Users/luistavares/Desktop/recommender-systems/Evaluation/metrics.py:270: RuntimeWarning: invalid value encountered in double_scalars\n",
      "  ndcg_ = rank_dcg / ideal_dcg\n"
     ]
    },
    {
     "name": "stdout",
     "output_type": "stream",
     "text": [
      "EvaluatorHoldout: Processed 40929 (100.0%) in 16.86 sec. Users per second: 2428\n",
      "SearchBayesianSkopt: Config 64 is suboptimal. Config: {'topK': 307, 'beta': 0.3943221915368358, 'alpha': 0.10622350945613711, 'normalize_similarity': True, 'implicit': True} - results: PRECISION: 0.0449241, PRECISION_RECALL_MIN_DEN: 0.0720899, RECALL: 0.0665819, MAP: 0.0216891, MAP_MIN_DEN: 0.0343047, MRR: 0.1525001, NDCG: nan, F1: 0.0536497, HIT_RATE: 0.3115884, ARHR_ALL_HITS: 0.1805975, NOVELTY: 0.0053058, AVERAGE_POPULARITY: 0.2239329, DIVERSITY_MEAN_INTER_LIST: 0.8934927, DIVERSITY_HERFINDAHL: 0.9893471, COVERAGE_ITEM: 0.8091187, COVERAGE_ITEM_HIT: 0.0626592, ITEMS_IN_GT: 0.9984717, COVERAGE_USER: 0.9831848, COVERAGE_USER_HIT: 0.3063489, USERS_IN_GT: 0.9831848, DIVERSITY_GINI: 0.0742354, SHANNON_ENTROPY: 8.9441564, RATIO_DIVERSITY_HERFINDAHL: 0.9897704, RATIO_DIVERSITY_GINI: 0.1494320, RATIO_SHANNON_ENTROPY: 0.6808516, RATIO_AVERAGE_POPULARITY: 4.1564508, RATIO_NOVELTY: 0.4077810, \n",
      "\n",
      "Iteration No: 65 ended. Search finished for the next optimal point.\n",
      "Time taken: 28.6962\n",
      "Function value obtained: -0.0217\n",
      "Current minimum: -0.0217\n",
      "Iteration No: 66 started. Searching for the next optimal point.\n",
      "SearchBayesianSkopt: Testing config: {'topK': 350, 'beta': 0.4, 'alpha': 0.09, 'normalize_similarity': True, 'implicit': False}\n",
      "RP3betaRecommender: Similarity column 19630 (100.0%), 2576.66 column/sec. Elapsed time 7.62 sec\n"
     ]
    },
    {
     "name": "stderr",
     "output_type": "stream",
     "text": [
      "/Users/luistavares/Desktop/recommender-systems/Evaluation/metrics.py:276: RuntimeWarning: overflow encountered in power\n",
      "  return np.sum(np.divide(np.power(2, scores) - 1, np.log2(np.arange(scores.shape[0], dtype=np.float64) + 2)),\n",
      "/Users/luistavares/Desktop/recommender-systems/Evaluation/metrics.py:270: RuntimeWarning: invalid value encountered in double_scalars\n",
      "  ndcg_ = rank_dcg / ideal_dcg\n"
     ]
    },
    {
     "name": "stdout",
     "output_type": "stream",
     "text": [
      "EvaluatorHoldout: Processed 40929 (100.0%) in 17.25 sec. Users per second: 2372\n",
      "SearchBayesianSkopt: Config 65 is suboptimal. Config: {'topK': 350, 'beta': 0.4, 'alpha': 0.09, 'normalize_similarity': True, 'implicit': False} - results: PRECISION: 0.0449559, PRECISION_RECALL_MIN_DEN: 0.0721039, RECALL: 0.0665800, MAP: 0.0216581, MAP_MIN_DEN: 0.0342104, MRR: 0.1524199, NDCG: nan, F1: 0.0536718, HIT_RATE: 0.3121259, ARHR_ALL_HITS: 0.1804104, NOVELTY: 0.0053145, AVERAGE_POPULARITY: 0.2241134, DIVERSITY_MEAN_INTER_LIST: 0.8932130, DIVERSITY_HERFINDAHL: 0.9893191, COVERAGE_ITEM: 0.8258278, COVERAGE_ITEM_HIT: 0.0630667, ITEMS_IN_GT: 0.9984717, COVERAGE_USER: 0.9831848, COVERAGE_USER_HIT: 0.3068774, USERS_IN_GT: 0.9831848, DIVERSITY_GINI: 0.0782303, SHANNON_ENTROPY: 8.9701655, RATIO_DIVERSITY_HERFINDAHL: 0.9897425, RATIO_DIVERSITY_GINI: 0.1574735, RATIO_SHANNON_ENTROPY: 0.6828315, RATIO_AVERAGE_POPULARITY: 4.1598023, RATIO_NOVELTY: 0.4084538, \n",
      "\n",
      "Iteration No: 66 ended. Search finished for the next optimal point.\n",
      "Time taken: 29.9472\n",
      "Function value obtained: -0.0217\n",
      "Current minimum: -0.0217\n",
      "Iteration No: 67 started. Searching for the next optimal point.\n",
      "SearchBayesianSkopt: Testing config: {'topK': 285, 'beta': 0.3697274378915841, 'alpha': 0.11664615208068854, 'normalize_similarity': True, 'implicit': False}\n",
      "RP3betaRecommender: Similarity column 19630 (100.0%), 2899.49 column/sec. Elapsed time 6.77 sec\n"
     ]
    },
    {
     "name": "stderr",
     "output_type": "stream",
     "text": [
      "/Users/luistavares/Desktop/recommender-systems/Evaluation/metrics.py:276: RuntimeWarning: overflow encountered in power\n",
      "  return np.sum(np.divide(np.power(2, scores) - 1, np.log2(np.arange(scores.shape[0], dtype=np.float64) + 2)),\n",
      "/Users/luistavares/Desktop/recommender-systems/Evaluation/metrics.py:270: RuntimeWarning: invalid value encountered in double_scalars\n",
      "  ndcg_ = rank_dcg / ideal_dcg\n"
     ]
    },
    {
     "name": "stdout",
     "output_type": "stream",
     "text": [
      "EvaluatorHoldout: Processed 40929 (100.0%) in 16.50 sec. Users per second: 2481\n",
      "SearchBayesianSkopt: Config 66 is suboptimal. Config: {'topK': 285, 'beta': 0.3697274378915841, 'alpha': 0.11664615208068854, 'normalize_similarity': True, 'implicit': False} - results: PRECISION: 0.0448337, PRECISION_RECALL_MIN_DEN: 0.0721205, RECALL: 0.0666444, MAP: 0.0216605, MAP_MIN_DEN: 0.0343490, MRR: 0.1527882, NDCG: nan, F1: 0.0536054, HIT_RATE: 0.3117105, ARHR_ALL_HITS: 0.1806947, NOVELTY: 0.0052679, AVERAGE_POPULARITY: 0.2285983, DIVERSITY_MEAN_INTER_LIST: 0.8886643, DIVERSITY_HERFINDAHL: 0.9888643, COVERAGE_ITEM: 0.7848701, COVERAGE_ITEM_HIT: 0.0620988, ITEMS_IN_GT: 0.9984717, COVERAGE_USER: 0.9831848, COVERAGE_USER_HIT: 0.3064690, USERS_IN_GT: 0.9831848, DIVERSITY_GINI: 0.0674624, SHANNON_ENTROPY: 8.8259055, RATIO_DIVERSITY_HERFINDAHL: 0.9892874, RATIO_DIVERSITY_GINI: 0.1357983, RATIO_SHANNON_ENTROPY: 0.6718501, RATIO_AVERAGE_POPULARITY: 4.2430463, RATIO_NOVELTY: 0.4048723, \n",
      "\n",
      "Iteration No: 67 ended. Search finished for the next optimal point.\n",
      "Time taken: 27.7640\n",
      "Function value obtained: -0.0217\n",
      "Current minimum: -0.0217\n",
      "Iteration No: 68 started. Searching for the next optimal point.\n",
      "SearchBayesianSkopt: Testing config: {'topK': 203, 'beta': 0.33897049831089954, 'alpha': 0.09522018917326726, 'normalize_similarity': True, 'implicit': False}\n",
      "RP3betaRecommender: Similarity column 19630 (100.0%), 3488.71 column/sec. Elapsed time 5.63 sec\n"
     ]
    },
    {
     "name": "stderr",
     "output_type": "stream",
     "text": [
      "/Users/luistavares/Desktop/recommender-systems/Evaluation/metrics.py:276: RuntimeWarning: overflow encountered in power\n",
      "  return np.sum(np.divide(np.power(2, scores) - 1, np.log2(np.arange(scores.shape[0], dtype=np.float64) + 2)),\n",
      "/Users/luistavares/Desktop/recommender-systems/Evaluation/metrics.py:270: RuntimeWarning: invalid value encountered in double_scalars\n",
      "  ndcg_ = rank_dcg / ideal_dcg\n"
     ]
    },
    {
     "name": "stdout",
     "output_type": "stream",
     "text": [
      "EvaluatorHoldout: Processed 40929 (100.0%) in 15.57 sec. Users per second: 2628\n",
      "SearchBayesianSkopt: Config 67 is suboptimal. Config: {'topK': 203, 'beta': 0.33897049831089954, 'alpha': 0.09522018917326726, 'normalize_similarity': True, 'implicit': False} - results: PRECISION: 0.0447360, PRECISION_RECALL_MIN_DEN: 0.0718340, RECALL: 0.0663563, MAP: 0.0216546, MAP_MIN_DEN: 0.0342554, MRR: 0.1527655, NDCG: nan, F1: 0.0534423, HIT_RATE: 0.3113196, ARHR_ALL_HITS: 0.1806312, NOVELTY: 0.0052822, AVERAGE_POPULARITY: 0.2198164, DIVERSITY_MEAN_INTER_LIST: 0.8999225, DIVERSITY_HERFINDAHL: 0.9899900, COVERAGE_ITEM: 0.7481406, COVERAGE_ITEM_HIT: 0.0636780, ITEMS_IN_GT: 0.9984717, COVERAGE_USER: 0.9831848, COVERAGE_USER_HIT: 0.3060847, USERS_IN_GT: 0.9831848, DIVERSITY_GINI: 0.0625367, SHANNON_ENTROPY: 8.8879874, RATIO_DIVERSITY_HERFINDAHL: 0.9904137, RATIO_DIVERSITY_GINI: 0.1258831, RATIO_SHANNON_ENTROPY: 0.6765759, RATIO_AVERAGE_POPULARITY: 4.0800438, RATIO_NOVELTY: 0.4059704, \n",
      "\n",
      "Iteration No: 68 ended. Search finished for the next optimal point.\n",
      "Time taken: 24.7830\n",
      "Function value obtained: -0.0217\n",
      "Current minimum: -0.0217\n",
      "Iteration No: 69 started. Searching for the next optimal point.\n",
      "SearchBayesianSkopt: Testing config: {'topK': 200, 'beta': 0.3823579712469788, 'alpha': 0.10086317110780404, 'normalize_similarity': True, 'implicit': True}\n",
      "RP3betaRecommender: Similarity column 19630 (100.0%), 3529.74 column/sec. Elapsed time 5.56 sec\n"
     ]
    },
    {
     "name": "stderr",
     "output_type": "stream",
     "text": [
      "/Users/luistavares/Desktop/recommender-systems/Evaluation/metrics.py:276: RuntimeWarning: overflow encountered in power\n",
      "  return np.sum(np.divide(np.power(2, scores) - 1, np.log2(np.arange(scores.shape[0], dtype=np.float64) + 2)),\n",
      "/Users/luistavares/Desktop/recommender-systems/Evaluation/metrics.py:270: RuntimeWarning: invalid value encountered in double_scalars\n",
      "  ndcg_ = rank_dcg / ideal_dcg\n"
     ]
    },
    {
     "name": "stdout",
     "output_type": "stream",
     "text": [
      "EvaluatorHoldout: Processed 40929 (100.0%) in 15.71 sec. Users per second: 2605\n",
      "SearchBayesianSkopt: Config 68 is suboptimal. Config: {'topK': 200, 'beta': 0.3823579712469788, 'alpha': 0.10086317110780404, 'normalize_similarity': True, 'implicit': True} - results: PRECISION: 0.0447873, PRECISION_RECALL_MIN_DEN: 0.0718111, RECALL: 0.0663049, MAP: 0.0216789, MAP_MIN_DEN: 0.0342636, MRR: 0.1524006, NDCG: nan, F1: 0.0534622, HIT_RATE: 0.3102201, ARHR_ALL_HITS: 0.1804969, NOVELTY: 0.0053454, AVERAGE_POPULARITY: 0.2111936, DIVERSITY_MEAN_INTER_LIST: 0.9080814, DIVERSITY_HERFINDAHL: 0.9908059, COVERAGE_ITEM: 0.7814570, COVERAGE_ITEM_HIT: 0.0662252, ITEMS_IN_GT: 0.9984717, COVERAGE_USER: 0.9831848, COVERAGE_USER_HIT: 0.3050037, USERS_IN_GT: 0.9831848, DIVERSITY_GINI: 0.0716614, SHANNON_ENTROPY: 9.0861797, RATIO_DIVERSITY_HERFINDAHL: 0.9912299, RATIO_DIVERSITY_GINI: 0.1442506, RATIO_SHANNON_ENTROPY: 0.6916628, RATIO_AVERAGE_POPULARITY: 3.9199964, RATIO_NOVELTY: 0.4108288, \n",
      "\n",
      "Iteration No: 69 ended. Search finished for the next optimal point.\n",
      "Time taken: 24.8867\n",
      "Function value obtained: -0.0217\n",
      "Current minimum: -0.0217\n",
      "Iteration No: 70 started. Searching for the next optimal point.\n",
      "SearchBayesianSkopt: Testing config: {'topK': 200, 'beta': 0.34149136366674177, 'alpha': 0.10815655065182751, 'normalize_similarity': True, 'implicit': False}\n",
      "RP3betaRecommender: Similarity column 19630 (100.0%), 3532.74 column/sec. Elapsed time 5.56 sec\n"
     ]
    },
    {
     "name": "stderr",
     "output_type": "stream",
     "text": [
      "/Users/luistavares/Desktop/recommender-systems/Evaluation/metrics.py:276: RuntimeWarning: overflow encountered in power\n",
      "  return np.sum(np.divide(np.power(2, scores) - 1, np.log2(np.arange(scores.shape[0], dtype=np.float64) + 2)),\n",
      "/Users/luistavares/Desktop/recommender-systems/Evaluation/metrics.py:270: RuntimeWarning: invalid value encountered in double_scalars\n",
      "  ndcg_ = rank_dcg / ideal_dcg\n"
     ]
    },
    {
     "name": "stdout",
     "output_type": "stream",
     "text": [
      "EvaluatorHoldout: Processed 40929 (100.0%) in 15.59 sec. Users per second: 2626\n",
      "SearchBayesianSkopt: Config 69 is suboptimal. Config: {'topK': 200, 'beta': 0.34149136366674177, 'alpha': 0.10815655065182751, 'normalize_similarity': True, 'implicit': False} - results: PRECISION: 0.0447360, PRECISION_RECALL_MIN_DEN: 0.0717989, RECALL: 0.0663126, MAP: 0.0216218, MAP_MIN_DEN: 0.0341819, MRR: 0.1524415, NDCG: nan, F1: 0.0534281, HIT_RATE: 0.3110997, ARHR_ALL_HITS: 0.1803182, NOVELTY: 0.0052851, AVERAGE_POPULARITY: 0.2193341, DIVERSITY_MEAN_INTER_LIST: 0.9002932, DIVERSITY_HERFINDAHL: 0.9900271, COVERAGE_ITEM: 0.7502802, COVERAGE_ITEM_HIT: 0.0637799, ITEMS_IN_GT: 0.9984717, COVERAGE_USER: 0.9831848, COVERAGE_USER_HIT: 0.3058685, USERS_IN_GT: 0.9831848, DIVERSITY_GINI: 0.0630089, SHANNON_ENTROPY: 8.8961220, RATIO_DIVERSITY_HERFINDAHL: 0.9904508, RATIO_DIVERSITY_GINI: 0.1268336, RATIO_SHANNON_ENTROPY: 0.6771951, RATIO_AVERAGE_POPULARITY: 4.0710917, RATIO_NOVELTY: 0.4061928, \n",
      "\n",
      "Iteration No: 70 ended. Search finished for the next optimal point.\n",
      "Time taken: 24.6952\n",
      "Function value obtained: -0.0216\n",
      "Current minimum: -0.0217\n",
      "Iteration No: 71 started. Searching for the next optimal point.\n",
      "SearchBayesianSkopt: Testing config: {'topK': 250, 'beta': 0.3646093166394743, 'alpha': 0.10639731449872843, 'normalize_similarity': True, 'implicit': False}\n",
      "RP3betaRecommender: Similarity column 19630 (100.0%), 3128.87 column/sec. Elapsed time 6.27 sec\n"
     ]
    },
    {
     "name": "stderr",
     "output_type": "stream",
     "text": [
      "/Users/luistavares/Desktop/recommender-systems/Evaluation/metrics.py:276: RuntimeWarning: overflow encountered in power\n",
      "  return np.sum(np.divide(np.power(2, scores) - 1, np.log2(np.arange(scores.shape[0], dtype=np.float64) + 2)),\n",
      "/Users/luistavares/Desktop/recommender-systems/Evaluation/metrics.py:270: RuntimeWarning: invalid value encountered in double_scalars\n",
      "  ndcg_ = rank_dcg / ideal_dcg\n"
     ]
    },
    {
     "name": "stdout",
     "output_type": "stream",
     "text": [
      "EvaluatorHoldout: Processed 40929 (100.0%) in 16.21 sec. Users per second: 2525\n",
      "SearchBayesianSkopt: Config 70 is suboptimal. Config: {'topK': 250, 'beta': 0.3646093166394743, 'alpha': 0.10639731449872843, 'normalize_similarity': True, 'implicit': False} - results: PRECISION: 0.0448631, PRECISION_RECALL_MIN_DEN: 0.0720789, RECALL: 0.0665902, MAP: 0.0216955, MAP_MIN_DEN: 0.0343288, MRR: 0.1524926, NDCG: nan, F1: 0.0536088, HIT_RATE: 0.3110753, ARHR_ALL_HITS: 0.1806406, NOVELTY: 0.0052813, AVERAGE_POPULARITY: 0.2237549, DIVERSITY_MEAN_INTER_LIST: 0.8945131, DIVERSITY_HERFINDAHL: 0.9894491, COVERAGE_ITEM: 0.7757514, COVERAGE_ITEM_HIT: 0.0633724, ITEMS_IN_GT: 0.9984717, COVERAGE_USER: 0.9831848, COVERAGE_USER_HIT: 0.3058445, USERS_IN_GT: 0.9831848, DIVERSITY_GINI: 0.0664119, SHANNON_ENTROPY: 8.8749356, RATIO_DIVERSITY_HERFINDAHL: 0.9898725, RATIO_DIVERSITY_GINI: 0.1336837, RATIO_SHANNON_ENTROPY: 0.6755823, RATIO_AVERAGE_POPULARITY: 4.1531470, RATIO_NOVELTY: 0.4058970, \n",
      "\n",
      "Iteration No: 71 ended. Search finished for the next optimal point.\n",
      "Time taken: 26.6374\n",
      "Function value obtained: -0.0217\n",
      "Current minimum: -0.0217\n",
      "Iteration No: 72 started. Searching for the next optimal point.\n",
      "SearchBayesianSkopt: Testing config: {'topK': 237, 'beta': 0.35266218537160393, 'alpha': 0.1042029928522964, 'normalize_similarity': True, 'implicit': False}\n",
      "RP3betaRecommender: Similarity column 19630 (100.0%), 3226.63 column/sec. Elapsed time 6.08 sec\n"
     ]
    },
    {
     "name": "stderr",
     "output_type": "stream",
     "text": [
      "/Users/luistavares/Desktop/recommender-systems/Evaluation/metrics.py:276: RuntimeWarning: overflow encountered in power\n",
      "  return np.sum(np.divide(np.power(2, scores) - 1, np.log2(np.arange(scores.shape[0], dtype=np.float64) + 2)),\n",
      "/Users/luistavares/Desktop/recommender-systems/Evaluation/metrics.py:270: RuntimeWarning: invalid value encountered in double_scalars\n",
      "  ndcg_ = rank_dcg / ideal_dcg\n"
     ]
    },
    {
     "name": "stdout",
     "output_type": "stream",
     "text": [
      "EvaluatorHoldout: Processed 40929 (100.0%) in 15.97 sec. Users per second: 2562\n",
      "SearchBayesianSkopt: Config 71 is suboptimal. Config: {'topK': 237, 'beta': 0.35266218537160393, 'alpha': 0.1042029928522964, 'normalize_similarity': True, 'implicit': False} - results: PRECISION: 0.0448264, PRECISION_RECALL_MIN_DEN: 0.0720075, RECALL: 0.0665012, MAP: 0.0216815, MAP_MIN_DEN: 0.0343442, MRR: 0.1527831, NDCG: nan, F1: 0.0535538, HIT_RATE: 0.3110508, ARHR_ALL_HITS: 0.1807250, NOVELTY: 0.0052720, AVERAGE_POPULARITY: 0.2240586, DIVERSITY_MEAN_INTER_LIST: 0.8944788, DIVERSITY_HERFINDAHL: 0.9894457, COVERAGE_ITEM: 0.7634233, COVERAGE_ITEM_HIT: 0.0629139, ITEMS_IN_GT: 0.9984717, COVERAGE_USER: 0.9831848, COVERAGE_USER_HIT: 0.3058205, USERS_IN_GT: 0.9831848, DIVERSITY_GINI: 0.0638818, SHANNON_ENTROPY: 8.8467335, RATIO_DIVERSITY_HERFINDAHL: 0.9898691, RATIO_DIVERSITY_GINI: 0.1285908, RATIO_SHANNON_ENTROPY: 0.6734355, RATIO_AVERAGE_POPULARITY: 4.1587839, RATIO_NOVELTY: 0.4051860, \n",
      "\n",
      "Iteration No: 72 ended. Search finished for the next optimal point.\n",
      "Time taken: 26.0056\n",
      "Function value obtained: -0.0217\n",
      "Current minimum: -0.0217\n",
      "Iteration No: 73 started. Searching for the next optimal point.\n",
      "SearchBayesianSkopt: Testing config: {'topK': 294, 'beta': 0.37951494217722337, 'alpha': 0.09270906308245126, 'normalize_similarity': True, 'implicit': True}\n",
      "RP3betaRecommender: Similarity column 19630 (100.0%), 2710.34 column/sec. Elapsed time 7.24 sec\n"
     ]
    },
    {
     "name": "stderr",
     "output_type": "stream",
     "text": [
      "/Users/luistavares/Desktop/recommender-systems/Evaluation/metrics.py:276: RuntimeWarning: overflow encountered in power\n",
      "  return np.sum(np.divide(np.power(2, scores) - 1, np.log2(np.arange(scores.shape[0], dtype=np.float64) + 2)),\n",
      "/Users/luistavares/Desktop/recommender-systems/Evaluation/metrics.py:270: RuntimeWarning: invalid value encountered in double_scalars\n",
      "  ndcg_ = rank_dcg / ideal_dcg\n"
     ]
    },
    {
     "name": "stdout",
     "output_type": "stream",
     "text": [
      "EvaluatorHoldout: Processed 40929 (100.0%) in 17.04 sec. Users per second: 2403\n",
      "SearchBayesianSkopt: Config 72 is suboptimal. Config: {'topK': 294, 'beta': 0.37951494217722337, 'alpha': 0.09270906308245126, 'normalize_similarity': True, 'implicit': True} - results: PRECISION: 0.0448728, PRECISION_RECALL_MIN_DEN: 0.0720685, RECALL: 0.0665975, MAP: 0.0217054, MAP_MIN_DEN: 0.0343872, MRR: 0.1529101, NDCG: nan, F1: 0.0536182, HIT_RATE: 0.3115395, ARHR_ALL_HITS: 0.1809370, NOVELTY: 0.0052886, AVERAGE_POPULARITY: 0.2254360, DIVERSITY_MEAN_INTER_LIST: 0.8924201, DIVERSITY_HERFINDAHL: 0.9892398, COVERAGE_ITEM: 0.7946510, COVERAGE_ITEM_HIT: 0.0626592, ITEMS_IN_GT: 0.9984717, COVERAGE_USER: 0.9831848, COVERAGE_USER_HIT: 0.3063009, USERS_IN_GT: 0.9831848, DIVERSITY_GINI: 0.0703242, SHANNON_ENTROPY: 8.8946007, RATIO_DIVERSITY_HERFINDAHL: 0.9896631, RATIO_DIVERSITY_GINI: 0.1415590, RATIO_SHANNON_ENTROPY: 0.6770793, RATIO_AVERAGE_POPULARITY: 4.1843510, RATIO_NOVELTY: 0.4064603, \n",
      "\n",
      "Iteration No: 73 ended. Search finished for the next optimal point.\n",
      "Time taken: 29.1607\n",
      "Function value obtained: -0.0217\n",
      "Current minimum: -0.0217\n",
      "Iteration No: 74 started. Searching for the next optimal point.\n",
      "SearchBayesianSkopt: Testing config: {'topK': 269, 'beta': 0.36387651946594735, 'alpha': 0.09, 'normalize_similarity': True, 'implicit': False}\n",
      "RP3betaRecommender: Similarity column 19630 (100.0%), 2980.15 column/sec. Elapsed time 6.59 sec\n"
     ]
    },
    {
     "name": "stderr",
     "output_type": "stream",
     "text": [
      "/Users/luistavares/Desktop/recommender-systems/Evaluation/metrics.py:276: RuntimeWarning: overflow encountered in power\n",
      "  return np.sum(np.divide(np.power(2, scores) - 1, np.log2(np.arange(scores.shape[0], dtype=np.float64) + 2)),\n",
      "/Users/luistavares/Desktop/recommender-systems/Evaluation/metrics.py:270: RuntimeWarning: invalid value encountered in double_scalars\n",
      "  ndcg_ = rank_dcg / ideal_dcg\n"
     ]
    },
    {
     "name": "stdout",
     "output_type": "stream",
     "text": [
      "EvaluatorHoldout: Processed 40929 (100.0%) in 16.53 sec. Users per second: 2477\n",
      "SearchBayesianSkopt: Config 73 is suboptimal. Config: {'topK': 269, 'beta': 0.36387651946594735, 'alpha': 0.09, 'normalize_similarity': True, 'implicit': False} - results: PRECISION: 0.0448386, PRECISION_RECALL_MIN_DEN: 0.0721106, RECALL: 0.0666265, MAP: 0.0216758, MAP_MIN_DEN: 0.0343028, MRR: 0.1526670, NDCG: nan, F1: 0.0536031, HIT_RATE: 0.3111974, ARHR_ALL_HITS: 0.1806889, NOVELTY: 0.0052751, AVERAGE_POPULARITY: 0.2256263, DIVERSITY_MEAN_INTER_LIST: 0.8925442, DIVERSITY_HERFINDAHL: 0.9892522, COVERAGE_ITEM: 0.7757005, COVERAGE_ITEM_HIT: 0.0626083, ITEMS_IN_GT: 0.9984717, COVERAGE_USER: 0.9831848, COVERAGE_USER_HIT: 0.3059646, USERS_IN_GT: 0.9831848, DIVERSITY_GINI: 0.0664584, SHANNON_ENTROPY: 8.8547741, RATIO_DIVERSITY_HERFINDAHL: 0.9896756, RATIO_DIVERSITY_GINI: 0.1337774, RATIO_SHANNON_ENTROPY: 0.6740476, RATIO_AVERAGE_POPULARITY: 4.1878825, RATIO_NOVELTY: 0.4054229, \n",
      "\n",
      "Iteration No: 74 ended. Search finished for the next optimal point.\n",
      "Time taken: 27.5192\n",
      "Function value obtained: -0.0217\n",
      "Current minimum: -0.0217\n",
      "Iteration No: 75 started. Searching for the next optimal point.\n",
      "SearchBayesianSkopt: Testing config: {'topK': 218, 'beta': 0.36851325823759623, 'alpha': 0.09362573645605819, 'normalize_similarity': True, 'implicit': False}\n",
      "RP3betaRecommender: Similarity column 19630 (100.0%), 3333.99 column/sec. Elapsed time 5.89 sec\n"
     ]
    },
    {
     "name": "stderr",
     "output_type": "stream",
     "text": [
      "/Users/luistavares/Desktop/recommender-systems/Evaluation/metrics.py:276: RuntimeWarning: overflow encountered in power\n",
      "  return np.sum(np.divide(np.power(2, scores) - 1, np.log2(np.arange(scores.shape[0], dtype=np.float64) + 2)),\n",
      "/Users/luistavares/Desktop/recommender-systems/Evaluation/metrics.py:270: RuntimeWarning: invalid value encountered in double_scalars\n",
      "  ndcg_ = rank_dcg / ideal_dcg\n"
     ]
    },
    {
     "name": "stdout",
     "output_type": "stream",
     "text": [
      "EvaluatorHoldout: Processed 40929 (100.0%) in 16.12 sec. Users per second: 2539\n",
      "SearchBayesianSkopt: Config 74 is suboptimal. Config: {'topK': 218, 'beta': 0.36851325823759623, 'alpha': 0.09362573645605819, 'normalize_similarity': True, 'implicit': False} - results: PRECISION: 0.0447824, PRECISION_RECALL_MIN_DEN: 0.0719192, RECALL: 0.0664406, MAP: 0.0216775, MAP_MIN_DEN: 0.0342844, MRR: 0.1526942, NDCG: nan, F1: 0.0535028, HIT_RATE: 0.3106111, ARHR_ALL_HITS: 0.1806630, NOVELTY: 0.0053122, AVERAGE_POPULARITY: 0.2167700, DIVERSITY_MEAN_INTER_LIST: 0.9021507, DIVERSITY_HERFINDAHL: 0.9902129, COVERAGE_ITEM: 0.7725930, COVERAGE_ITEM_HIT: 0.0649516, ITEMS_IN_GT: 0.9984717, COVERAGE_USER: 0.9831848, COVERAGE_USER_HIT: 0.3053881, USERS_IN_GT: 0.9831848, DIVERSITY_GINI: 0.0680382, SHANNON_ENTROPY: 8.9785717, RATIO_DIVERSITY_HERFINDAHL: 0.9906366, RATIO_DIVERSITY_GINI: 0.1369574, RATIO_SHANNON_ENTROPY: 0.6834714, RATIO_AVERAGE_POPULARITY: 4.0234999, RATIO_NOVELTY: 0.4082719, \n",
      "\n",
      "Iteration No: 75 ended. Search finished for the next optimal point.\n",
      "Time taken: 25.8926\n",
      "Function value obtained: -0.0217\n",
      "Current minimum: -0.0217\n",
      "Iteration No: 76 started. Searching for the next optimal point.\n",
      "SearchBayesianSkopt: Testing config: {'topK': 271, 'beta': 0.3520129218550258, 'alpha': 0.12356540407384534, 'normalize_similarity': True, 'implicit': True}\n",
      "RP3betaRecommender: Similarity column 19630 (100.0%), 2972.34 column/sec. Elapsed time 6.60 sec\n"
     ]
    },
    {
     "name": "stderr",
     "output_type": "stream",
     "text": [
      "/Users/luistavares/Desktop/recommender-systems/Evaluation/metrics.py:276: RuntimeWarning: overflow encountered in power\n",
      "  return np.sum(np.divide(np.power(2, scores) - 1, np.log2(np.arange(scores.shape[0], dtype=np.float64) + 2)),\n",
      "/Users/luistavares/Desktop/recommender-systems/Evaluation/metrics.py:270: RuntimeWarning: invalid value encountered in double_scalars\n",
      "  ndcg_ = rank_dcg / ideal_dcg\n"
     ]
    },
    {
     "name": "stdout",
     "output_type": "stream",
     "text": [
      "EvaluatorHoldout: Processed 40929 (100.0%) in 16.43 sec. Users per second: 2490\n",
      "SearchBayesianSkopt: Config 75 is suboptimal. Config: {'topK': 271, 'beta': 0.3520129218550258, 'alpha': 0.12356540407384534, 'normalize_similarity': True, 'implicit': True} - results: PRECISION: 0.0448728, PRECISION_RECALL_MIN_DEN: 0.0723136, RECALL: 0.0668410, MAP: 0.0216735, MAP_MIN_DEN: 0.0343826, MRR: 0.1527630, NDCG: nan, F1: 0.0536969, HIT_RATE: 0.3119060, ARHR_ALL_HITS: 0.1807265, NOVELTY: 0.0052450, AVERAGE_POPULARITY: 0.2309596, DIVERSITY_MEAN_INTER_LIST: 0.8863255, DIVERSITY_HERFINDAHL: 0.9886304, COVERAGE_ITEM: 0.7670912, COVERAGE_ITEM_HIT: 0.0616913, ITEMS_IN_GT: 0.9984717, COVERAGE_USER: 0.9831848, COVERAGE_USER_HIT: 0.3066612, USERS_IN_GT: 0.9831848, DIVERSITY_GINI: 0.0632843, SHANNON_ENTROPY: 8.7525597, RATIO_DIVERSITY_HERFINDAHL: 0.9890534, RATIO_DIVERSITY_GINI: 0.1273880, RATIO_SHANNON_ENTROPY: 0.6662668, RATIO_AVERAGE_POPULARITY: 4.2868754, RATIO_NOVELTY: 0.4031106, \n",
      "\n",
      "Iteration No: 76 ended. Search finished for the next optimal point.\n",
      "Time taken: 27.4231\n",
      "Function value obtained: -0.0217\n",
      "Current minimum: -0.0217\n",
      "Iteration No: 77 started. Searching for the next optimal point.\n",
      "SearchBayesianSkopt: Testing config: {'topK': 179, 'beta': 0.39642147039481657, 'alpha': 0.1246866753057082, 'normalize_similarity': True, 'implicit': False}\n",
      "RP3betaRecommender: Similarity column 19630 (100.0%), 3706.05 column/sec. Elapsed time 5.30 sec\n"
     ]
    },
    {
     "name": "stderr",
     "output_type": "stream",
     "text": [
      "/Users/luistavares/Desktop/recommender-systems/Evaluation/metrics.py:276: RuntimeWarning: overflow encountered in power\n",
      "  return np.sum(np.divide(np.power(2, scores) - 1, np.log2(np.arange(scores.shape[0], dtype=np.float64) + 2)),\n",
      "/Users/luistavares/Desktop/recommender-systems/Evaluation/metrics.py:270: RuntimeWarning: invalid value encountered in double_scalars\n",
      "  ndcg_ = rank_dcg / ideal_dcg\n"
     ]
    },
    {
     "name": "stdout",
     "output_type": "stream",
     "text": [
      "EvaluatorHoldout: Processed 40929 (100.0%) in 15.70 sec. Users per second: 2608\n",
      "SearchBayesianSkopt: Config 76 is suboptimal. Config: {'topK': 179, 'beta': 0.39642147039481657, 'alpha': 0.1246866753057082, 'normalize_similarity': True, 'implicit': False} - results: PRECISION: 0.0445992, PRECISION_RECALL_MIN_DEN: 0.0714369, RECALL: 0.0659382, MAP: 0.0215599, MAP_MIN_DEN: 0.0340276, MRR: 0.1513324, NDCG: nan, F1: 0.0532090, HIT_RATE: 0.3094139, ARHR_ALL_HITS: 0.1793392, NOVELTY: 0.0053779, AVERAGE_POPULARITY: 0.2055421, DIVERSITY_MEAN_INTER_LIST: 0.9132498, DIVERSITY_HERFINDAHL: 0.9913227, COVERAGE_ITEM: 0.7921039, COVERAGE_ITEM_HIT: 0.0670912, ITEMS_IN_GT: 0.9984717, COVERAGE_USER: 0.9831848, COVERAGE_USER_HIT: 0.3042110, USERS_IN_GT: 0.9831848, DIVERSITY_GINI: 0.0755473, SHANNON_ENTROPY: 9.1875071, RATIO_DIVERSITY_HERFINDAHL: 0.9917469, RATIO_DIVERSITY_GINI: 0.1520729, RATIO_SHANNON_ENTROPY: 0.6993761, RATIO_AVERAGE_POPULARITY: 3.8150964, RATIO_NOVELTY: 0.4133232, \n",
      "\n",
      "Iteration No: 77 ended. Search finished for the next optimal point.\n",
      "Time taken: 24.4746\n",
      "Function value obtained: -0.0216\n",
      "Current minimum: -0.0217\n",
      "Iteration No: 78 started. Searching for the next optimal point.\n",
      "SearchBayesianSkopt: Testing config: {'topK': 332, 'beta': 0.3741976714215999, 'alpha': 0.0905033659681712, 'normalize_similarity': True, 'implicit': False}\n",
      "RP3betaRecommender: Similarity column 19630 (100.0%), 2624.38 column/sec. Elapsed time 7.48 sec\n"
     ]
    },
    {
     "name": "stderr",
     "output_type": "stream",
     "text": [
      "/Users/luistavares/Desktop/recommender-systems/Evaluation/metrics.py:276: RuntimeWarning: overflow encountered in power\n",
      "  return np.sum(np.divide(np.power(2, scores) - 1, np.log2(np.arange(scores.shape[0], dtype=np.float64) + 2)),\n",
      "/Users/luistavares/Desktop/recommender-systems/Evaluation/metrics.py:270: RuntimeWarning: invalid value encountered in double_scalars\n",
      "  ndcg_ = rank_dcg / ideal_dcg\n"
     ]
    },
    {
     "name": "stdout",
     "output_type": "stream",
     "text": [
      "EvaluatorHoldout: Processed 40929 (100.0%) in 17.13 sec. Users per second: 2389\n",
      "SearchBayesianSkopt: Config 77 is suboptimal. Config: {'topK': 332, 'beta': 0.3741976714215999, 'alpha': 0.0905033659681712, 'normalize_similarity': True, 'implicit': False} - results: PRECISION: 0.0449657, PRECISION_RECALL_MIN_DEN: 0.0722125, RECALL: 0.0667333, MAP: 0.0216979, MAP_MIN_DEN: 0.0344038, MRR: 0.1529825, NDCG: nan, F1: 0.0537285, HIT_RATE: 0.3124435, ARHR_ALL_HITS: 0.1809338, NOVELTY: 0.0052698, AVERAGE_POPULARITY: 0.2302335, DIVERSITY_MEAN_INTER_LIST: 0.8868838, DIVERSITY_HERFINDAHL: 0.9886862, COVERAGE_ITEM: 0.8008660, COVERAGE_ITEM_HIT: 0.0614366, ITEMS_IN_GT: 0.9984717, COVERAGE_USER: 0.9831848, COVERAGE_USER_HIT: 0.3071897, USERS_IN_GT: 0.9831848, DIVERSITY_GINI: 0.0705632, SHANNON_ENTROPY: 8.8309574, RATIO_DIVERSITY_HERFINDAHL: 0.9891093, RATIO_DIVERSITY_GINI: 0.1420400, RATIO_SHANNON_ENTROPY: 0.6722346, RATIO_AVERAGE_POPULARITY: 4.2733981, RATIO_NOVELTY: 0.4050193, \n",
      "\n",
      "Iteration No: 78 ended. Search finished for the next optimal point.\n",
      "Time taken: 29.7017\n",
      "Function value obtained: -0.0217\n",
      "Current minimum: -0.0217\n",
      "Iteration No: 79 started. Searching for the next optimal point.\n",
      "SearchBayesianSkopt: Testing config: {'topK': 201, 'beta': 0.3153272486811253, 'alpha': 0.10603979745062722, 'normalize_similarity': True, 'implicit': True}\n",
      "RP3betaRecommender: Similarity column 19630 (100.0%), 3492.90 column/sec. Elapsed time 5.62 sec\n"
     ]
    },
    {
     "name": "stderr",
     "output_type": "stream",
     "text": [
      "/Users/luistavares/Desktop/recommender-systems/Evaluation/metrics.py:276: RuntimeWarning: overflow encountered in power\n",
      "  return np.sum(np.divide(np.power(2, scores) - 1, np.log2(np.arange(scores.shape[0], dtype=np.float64) + 2)),\n",
      "/Users/luistavares/Desktop/recommender-systems/Evaluation/metrics.py:270: RuntimeWarning: invalid value encountered in double_scalars\n",
      "  ndcg_ = rank_dcg / ideal_dcg\n"
     ]
    },
    {
     "name": "stdout",
     "output_type": "stream",
     "text": [
      "EvaluatorHoldout: Processed 40929 (100.0%) in 15.63 sec. Users per second: 2619\n",
      "SearchBayesianSkopt: Config 78 is suboptimal. Config: {'topK': 201, 'beta': 0.3153272486811253, 'alpha': 0.10603979745062722, 'normalize_similarity': True, 'implicit': True} - results: PRECISION: 0.0447262, PRECISION_RECALL_MIN_DEN: 0.0718265, RECALL: 0.0663564, MAP: 0.0216278, MAP_MIN_DEN: 0.0342339, MRR: 0.1528446, NDCG: nan, F1: 0.0534354, HIT_RATE: 0.3118083, ARHR_ALL_HITS: 0.1805710, NOVELTY: 0.0052522, AVERAGE_POPULARITY: 0.2233730, DIVERSITY_MEAN_INTER_LIST: 0.8965931, DIVERSITY_HERFINDAHL: 0.9896571, COVERAGE_ITEM: 0.7277127, COVERAGE_ITEM_HIT: 0.0628120, ITEMS_IN_GT: 0.9984717, COVERAGE_USER: 0.9831848, COVERAGE_USER_HIT: 0.3065651, USERS_IN_GT: 0.9831848, DIVERSITY_GINI: 0.0578347, SHANNON_ENTROPY: 8.7912994, RATIO_DIVERSITY_HERFINDAHL: 0.9900806, RATIO_DIVERSITY_GINI: 0.1164183, RATIO_SHANNON_ENTROPY: 0.6692157, RATIO_AVERAGE_POPULARITY: 4.1460592, RATIO_NOVELTY: 0.4036648, \n",
      "\n",
      "Iteration No: 79 ended. Search finished for the next optimal point.\n",
      "Time taken: 24.8992\n",
      "Function value obtained: -0.0216\n",
      "Current minimum: -0.0217\n",
      "Iteration No: 80 started. Searching for the next optimal point.\n",
      "SearchBayesianSkopt: Testing config: {'topK': 277, 'beta': 0.323784022270613, 'alpha': 0.12355595093189657, 'normalize_similarity': True, 'implicit': True}\n",
      "RP3betaRecommender: Similarity column 19630 (100.0%), 2920.36 column/sec. Elapsed time 6.72 sec\n"
     ]
    },
    {
     "name": "stderr",
     "output_type": "stream",
     "text": [
      "/Users/luistavares/Desktop/recommender-systems/Evaluation/metrics.py:276: RuntimeWarning: overflow encountered in power\n",
      "  return np.sum(np.divide(np.power(2, scores) - 1, np.log2(np.arange(scores.shape[0], dtype=np.float64) + 2)),\n",
      "/Users/luistavares/Desktop/recommender-systems/Evaluation/metrics.py:270: RuntimeWarning: invalid value encountered in double_scalars\n",
      "  ndcg_ = rank_dcg / ideal_dcg\n"
     ]
    },
    {
     "name": "stdout",
     "output_type": "stream",
     "text": [
      "EvaluatorHoldout: Processed 40929 (100.0%) in 16.33 sec. Users per second: 2507\n",
      "SearchBayesianSkopt: Config 79 is suboptimal. Config: {'topK': 277, 'beta': 0.323784022270613, 'alpha': 0.12355595093189657, 'normalize_similarity': True, 'implicit': True} - results: PRECISION: 0.0448679, PRECISION_RECALL_MIN_DEN: 0.0723890, RECALL: 0.0669340, MAP: 0.0216495, MAP_MIN_DEN: 0.0343937, MRR: 0.1530851, NDCG: nan, F1: 0.0537234, HIT_RATE: 0.3129077, ARHR_ALL_HITS: 0.1808434, NOVELTY: 0.0052014, AVERAGE_POPULARITY: 0.2374157, DIVERSITY_MEAN_INTER_LIST: 0.8793953, DIVERSITY_HERFINDAHL: 0.9879374, COVERAGE_ITEM: 0.7396332, COVERAGE_ITEM_HIT: 0.0601630, ITEMS_IN_GT: 0.9984717, COVERAGE_USER: 0.9831848, COVERAGE_USER_HIT: 0.3076461, USERS_IN_GT: 0.9831848, DIVERSITY_GINI: 0.0569667, SHANNON_ENTROPY: 8.6090757, RATIO_DIVERSITY_HERFINDAHL: 0.9883601, RATIO_DIVERSITY_GINI: 0.1146710, RATIO_SHANNON_ENTROPY: 0.6553444, RATIO_AVERAGE_POPULARITY: 4.4067077, RATIO_NOVELTY: 0.3997587, \n",
      "\n",
      "Iteration No: 80 ended. Search finished for the next optimal point.\n",
      "Time taken: 27.5327\n",
      "Function value obtained: -0.0216\n",
      "Current minimum: -0.0217\n",
      "Iteration No: 81 started. Searching for the next optimal point.\n",
      "SearchBayesianSkopt: Testing config: {'topK': 197, 'beta': 0.33364799217207697, 'alpha': 0.09453908464976137, 'normalize_similarity': True, 'implicit': False}\n",
      "RP3betaRecommender: Similarity column 19630 (100.0%), 3520.59 column/sec. Elapsed time 5.58 sec\n"
     ]
    },
    {
     "name": "stderr",
     "output_type": "stream",
     "text": [
      "/Users/luistavares/Desktop/recommender-systems/Evaluation/metrics.py:276: RuntimeWarning: overflow encountered in power\n",
      "  return np.sum(np.divide(np.power(2, scores) - 1, np.log2(np.arange(scores.shape[0], dtype=np.float64) + 2)),\n",
      "/Users/luistavares/Desktop/recommender-systems/Evaluation/metrics.py:270: RuntimeWarning: invalid value encountered in double_scalars\n",
      "  ndcg_ = rank_dcg / ideal_dcg\n"
     ]
    },
    {
     "name": "stdout",
     "output_type": "stream",
     "text": [
      "EvaluatorHoldout: Processed 40929 (100.0%) in 15.65 sec. Users per second: 2616\n",
      "SearchBayesianSkopt: Config 80 is suboptimal. Config: {'topK': 197, 'beta': 0.33364799217207697, 'alpha': 0.09453908464976137, 'normalize_similarity': True, 'implicit': False} - results: PRECISION: 0.0447531, PRECISION_RECALL_MIN_DEN: 0.0718732, RECALL: 0.0663835, MAP: 0.0216114, MAP_MIN_DEN: 0.0341600, MRR: 0.1523181, NDCG: nan, F1: 0.0534634, HIT_RATE: 0.3108798, ARHR_ALL_HITS: 0.1801973, NOVELTY: 0.0052824, AVERAGE_POPULARITY: 0.2189836, DIVERSITY_MEAN_INTER_LIST: 0.9007889, DIVERSITY_HERFINDAHL: 0.9900767, COVERAGE_ITEM: 0.7432501, COVERAGE_ITEM_HIT: 0.0639328, ITEMS_IN_GT: 0.9984717, COVERAGE_USER: 0.9831848, COVERAGE_USER_HIT: 0.3056523, USERS_IN_GT: 0.9831848, DIVERSITY_GINI: 0.0618729, SHANNON_ENTROPY: 8.8888854, RATIO_DIVERSITY_HERFINDAHL: 0.9905004, RATIO_DIVERSITY_GINI: 0.1245469, RATIO_SHANNON_ENTROPY: 0.6766442, RATIO_AVERAGE_POPULARITY: 4.0645876, RATIO_NOVELTY: 0.4059830, \n",
      "\n",
      "Iteration No: 81 ended. Search finished for the next optimal point.\n",
      "Time taken: 24.9250\n",
      "Function value obtained: -0.0216\n",
      "Current minimum: -0.0217\n",
      "Iteration No: 82 started. Searching for the next optimal point.\n",
      "SearchBayesianSkopt: Testing config: {'topK': 247, 'beta': 0.3869573179197695, 'alpha': 0.12490570521654745, 'normalize_similarity': True, 'implicit': False}\n",
      "RP3betaRecommender: Similarity column 19630 (100.0%), 3120.24 column/sec. Elapsed time 6.29 sec\n"
     ]
    },
    {
     "name": "stderr",
     "output_type": "stream",
     "text": [
      "/Users/luistavares/Desktop/recommender-systems/Evaluation/metrics.py:276: RuntimeWarning: overflow encountered in power\n",
      "  return np.sum(np.divide(np.power(2, scores) - 1, np.log2(np.arange(scores.shape[0], dtype=np.float64) + 2)),\n",
      "/Users/luistavares/Desktop/recommender-systems/Evaluation/metrics.py:270: RuntimeWarning: invalid value encountered in double_scalars\n",
      "  ndcg_ = rank_dcg / ideal_dcg\n"
     ]
    },
    {
     "name": "stdout",
     "output_type": "stream",
     "text": [
      "EvaluatorHoldout: Processed 40929 (100.0%) in 16.43 sec. Users per second: 2492\n",
      "SearchBayesianSkopt: Config 81 is suboptimal. Config: {'topK': 247, 'beta': 0.3869573179197695, 'alpha': 0.12490570521654745, 'normalize_similarity': True, 'implicit': False} - results: PRECISION: 0.0448435, PRECISION_RECALL_MIN_DEN: 0.0720026, RECALL: 0.0665257, MAP: 0.0216803, MAP_MIN_DEN: 0.0342736, MRR: 0.1523169, NDCG: nan, F1: 0.0535740, HIT_RATE: 0.3112707, ARHR_ALL_HITS: 0.1804592, NOVELTY: 0.0053118, AVERAGE_POPULARITY: 0.2196695, DIVERSITY_MEAN_INTER_LIST: 0.8981053, DIVERSITY_HERFINDAHL: 0.9898083, COVERAGE_ITEM: 0.7929190, COVERAGE_ITEM_HIT: 0.0637799, ITEMS_IN_GT: 0.9984717, COVERAGE_USER: 0.9831848, COVERAGE_USER_HIT: 0.3060367, USERS_IN_GT: 0.9831848, DIVERSITY_GINI: 0.0712480, SHANNON_ENTROPY: 8.9676157, RATIO_DIVERSITY_HERFINDAHL: 0.9902319, RATIO_DIVERSITY_GINI: 0.1434185, RATIO_SHANNON_ENTROPY: 0.6826374, RATIO_AVERAGE_POPULARITY: 4.0773175, RATIO_NOVELTY: 0.4082425, \n",
      "\n",
      "Iteration No: 82 ended. Search finished for the next optimal point.\n",
      "Time taken: 27.0087\n",
      "Function value obtained: -0.0217\n",
      "Current minimum: -0.0217\n",
      "Iteration No: 83 started. Searching for the next optimal point.\n",
      "SearchBayesianSkopt: Testing config: {'topK': 228, 'beta': 0.3684939528294037, 'alpha': 0.12772415238759477, 'normalize_similarity': True, 'implicit': False}\n",
      "RP3betaRecommender: Similarity column 19630 (100.0%), 3238.93 column/sec. Elapsed time 6.06 sec\n"
     ]
    },
    {
     "name": "stderr",
     "output_type": "stream",
     "text": [
      "/Users/luistavares/Desktop/recommender-systems/Evaluation/metrics.py:276: RuntimeWarning: overflow encountered in power\n",
      "  return np.sum(np.divide(np.power(2, scores) - 1, np.log2(np.arange(scores.shape[0], dtype=np.float64) + 2)),\n",
      "/Users/luistavares/Desktop/recommender-systems/Evaluation/metrics.py:270: RuntimeWarning: invalid value encountered in double_scalars\n",
      "  ndcg_ = rank_dcg / ideal_dcg\n"
     ]
    },
    {
     "name": "stdout",
     "output_type": "stream",
     "text": [
      "EvaluatorHoldout: Processed 40929 (100.0%) in 16.23 sec. Users per second: 2522\n",
      "SearchBayesianSkopt: Config 82 is suboptimal. Config: {'topK': 228, 'beta': 0.3684939528294037, 'alpha': 0.12772415238759477, 'normalize_similarity': True, 'implicit': False} - results: PRECISION: 0.0448557, PRECISION_RECALL_MIN_DEN: 0.0720933, RECALL: 0.0666131, MAP: 0.0216771, MAP_MIN_DEN: 0.0343205, MRR: 0.1526726, NDCG: nan, F1: 0.0536110, HIT_RATE: 0.3114173, ARHR_ALL_HITS: 0.1806393, NOVELTY: 0.0052948, AVERAGE_POPULARITY: 0.2207963, DIVERSITY_MEAN_INTER_LIST: 0.8974821, DIVERSITY_HERFINDAHL: 0.9897460, COVERAGE_ITEM: 0.7772287, COVERAGE_ITEM_HIT: 0.0632705, ITEMS_IN_GT: 0.9984717, COVERAGE_USER: 0.9831848, COVERAGE_USER_HIT: 0.3061808, USERS_IN_GT: 0.9831848, DIVERSITY_GINI: 0.0673082, SHANNON_ENTROPY: 8.9174404, RATIO_DIVERSITY_HERFINDAHL: 0.9901695, RATIO_DIVERSITY_GINI: 0.1354878, RATIO_SHANNON_ENTROPY: 0.6788179, RATIO_AVERAGE_POPULARITY: 4.0982327, RATIO_NOVELTY: 0.4069400, \n",
      "\n",
      "Iteration No: 83 ended. Search finished for the next optimal point.\n",
      "Time taken: 26.3564\n",
      "Function value obtained: -0.0217\n",
      "Current minimum: -0.0217\n",
      "Iteration No: 84 started. Searching for the next optimal point.\n",
      "SearchBayesianSkopt: Testing config: {'topK': 315, 'beta': 0.36564394265097894, 'alpha': 0.10137756690460004, 'normalize_similarity': True, 'implicit': True}\n",
      "RP3betaRecommender: Similarity column 19630 (100.0%), 2687.27 column/sec. Elapsed time 7.30 sec\n"
     ]
    },
    {
     "name": "stderr",
     "output_type": "stream",
     "text": [
      "/Users/luistavares/Desktop/recommender-systems/Evaluation/metrics.py:276: RuntimeWarning: overflow encountered in power\n",
      "  return np.sum(np.divide(np.power(2, scores) - 1, np.log2(np.arange(scores.shape[0], dtype=np.float64) + 2)),\n",
      "/Users/luistavares/Desktop/recommender-systems/Evaluation/metrics.py:270: RuntimeWarning: invalid value encountered in double_scalars\n",
      "  ndcg_ = rank_dcg / ideal_dcg\n"
     ]
    },
    {
     "name": "stdout",
     "output_type": "stream",
     "text": [
      "EvaluatorHoldout: Processed 40929 (100.0%) in 17.06 sec. Users per second: 2399\n",
      "SearchBayesianSkopt: Config 83 is suboptimal. Config: {'topK': 315, 'beta': 0.36564394265097894, 'alpha': 0.10137756690460004, 'normalize_similarity': True, 'implicit': True} - results: PRECISION: 0.0448142, PRECISION_RECALL_MIN_DEN: 0.0720555, RECALL: 0.0665973, MAP: 0.0216727, MAP_MIN_DEN: 0.0343790, MRR: 0.1530155, NDCG: nan, F1: 0.0535763, HIT_RATE: 0.3119548, ARHR_ALL_HITS: 0.1808789, NOVELTY: 0.0052559, AVERAGE_POPULARITY: 0.2316775, DIVERSITY_MEAN_INTER_LIST: 0.8854341, DIVERSITY_HERFINDAHL: 0.9885412, COVERAGE_ITEM: 0.7891493, COVERAGE_ITEM_HIT: 0.0612837, ITEMS_IN_GT: 0.9984717, COVERAGE_USER: 0.9831848, COVERAGE_USER_HIT: 0.3067093, USERS_IN_GT: 0.9831848, DIVERSITY_GINI: 0.0675021, SHANNON_ENTROPY: 8.7871800, RATIO_DIVERSITY_HERFINDAHL: 0.9889642, RATIO_DIVERSITY_GINI: 0.1358782, RATIO_SHANNON_ENTROPY: 0.6689022, RATIO_AVERAGE_POPULARITY: 4.3002011, RATIO_NOVELTY: 0.4039471, \n",
      "\n",
      "Iteration No: 84 ended. Search finished for the next optimal point.\n",
      "Time taken: 29.4104\n",
      "Function value obtained: -0.0217\n",
      "Current minimum: -0.0217\n",
      "Iteration No: 85 started. Searching for the next optimal point.\n",
      "SearchBayesianSkopt: Testing config: {'topK': 305, 'beta': 0.3858657975382913, 'alpha': 0.1277595091802303, 'normalize_similarity': True, 'implicit': True}\n",
      "RP3betaRecommender: Similarity column 19630 (100.0%), 2775.12 column/sec. Elapsed time 7.07 sec\n"
     ]
    },
    {
     "name": "stderr",
     "output_type": "stream",
     "text": [
      "/Users/luistavares/Desktop/recommender-systems/Evaluation/metrics.py:276: RuntimeWarning: overflow encountered in power\n",
      "  return np.sum(np.divide(np.power(2, scores) - 1, np.log2(np.arange(scores.shape[0], dtype=np.float64) + 2)),\n",
      "/Users/luistavares/Desktop/recommender-systems/Evaluation/metrics.py:270: RuntimeWarning: invalid value encountered in double_scalars\n",
      "  ndcg_ = rank_dcg / ideal_dcg\n"
     ]
    },
    {
     "name": "stdout",
     "output_type": "stream",
     "text": [
      "EvaluatorHoldout: Processed 40929 (100.0%) in 16.91 sec. Users per second: 2420\n",
      "SearchBayesianSkopt: Config 84 is suboptimal. Config: {'topK': 305, 'beta': 0.3858657975382913, 'alpha': 0.1277595091802303, 'normalize_similarity': True, 'implicit': True} - results: PRECISION: 0.0448655, PRECISION_RECALL_MIN_DEN: 0.0721296, RECALL: 0.0666413, MAP: 0.0216540, MAP_MIN_DEN: 0.0343221, MRR: 0.1526072, NDCG: nan, F1: 0.0536271, HIT_RATE: 0.3117594, ARHR_ALL_HITS: 0.1805455, NOVELTY: 0.0052846, AVERAGE_POPULARITY: 0.2277755, DIVERSITY_MEAN_INTER_LIST: 0.8890936, DIVERSITY_HERFINDAHL: 0.9889072, COVERAGE_ITEM: 0.8030056, COVERAGE_ITEM_HIT: 0.0621498, ITEMS_IN_GT: 0.9984717, COVERAGE_USER: 0.9831848, COVERAGE_USER_HIT: 0.3065171, USERS_IN_GT: 0.9831848, DIVERSITY_GINI: 0.0718090, SHANNON_ENTROPY: 8.8745716, RATIO_DIVERSITY_HERFINDAHL: 0.9893303, RATIO_DIVERSITY_GINI: 0.1445478, RATIO_SHANNON_ENTROPY: 0.6755546, RATIO_AVERAGE_POPULARITY: 4.2277754, RATIO_NOVELTY: 0.4061518, \n",
      "\n",
      "Iteration No: 85 ended. Search finished for the next optimal point.\n",
      "Time taken: 28.8701\n",
      "Function value obtained: -0.0217\n",
      "Current minimum: -0.0217\n",
      "Iteration No: 86 started. Searching for the next optimal point.\n",
      "SearchBayesianSkopt: Testing config: {'topK': 239, 'beta': 0.3970188868235237, 'alpha': 0.0929676846381708, 'normalize_similarity': True, 'implicit': True}\n",
      "RP3betaRecommender: Similarity column 19630 (100.0%), 3167.42 column/sec. Elapsed time 6.20 sec\n"
     ]
    },
    {
     "name": "stderr",
     "output_type": "stream",
     "text": [
      "/Users/luistavares/Desktop/recommender-systems/Evaluation/metrics.py:276: RuntimeWarning: overflow encountered in power\n",
      "  return np.sum(np.divide(np.power(2, scores) - 1, np.log2(np.arange(scores.shape[0], dtype=np.float64) + 2)),\n",
      "/Users/luistavares/Desktop/recommender-systems/Evaluation/metrics.py:270: RuntimeWarning: invalid value encountered in double_scalars\n",
      "  ndcg_ = rank_dcg / ideal_dcg\n"
     ]
    },
    {
     "name": "stdout",
     "output_type": "stream",
     "text": [
      "EvaluatorHoldout: Processed 40929 (100.0%) in 16.46 sec. Users per second: 2487\n",
      "SearchBayesianSkopt: Config 85 is suboptimal. Config: {'topK': 239, 'beta': 0.3970188868235237, 'alpha': 0.0929676846381708, 'normalize_similarity': True, 'implicit': True} - results: PRECISION: 0.0447971, PRECISION_RECALL_MIN_DEN: 0.0718780, RECALL: 0.0663947, MAP: 0.0216644, MAP_MIN_DEN: 0.0341687, MRR: 0.1519977, NDCG: nan, F1: 0.0534984, HIT_RATE: 0.3106111, ARHR_ALL_HITS: 0.1802075, NOVELTY: 0.0053438, AVERAGE_POPULARITY: 0.2136298, DIVERSITY_MEAN_INTER_LIST: 0.9046404, DIVERSITY_HERFINDAHL: 0.9904618, COVERAGE_ITEM: 0.7958737, COVERAGE_ITEM_HIT: 0.0658176, ITEMS_IN_GT: 0.9984717, COVERAGE_USER: 0.9831848, COVERAGE_USER_HIT: 0.3053881, USERS_IN_GT: 0.9831848, DIVERSITY_GINI: 0.0740814, SHANNON_ENTROPY: 9.0723243, RATIO_DIVERSITY_HERFINDAHL: 0.9908857, RATIO_DIVERSITY_GINI: 0.1491220, RATIO_SHANNON_ENTROPY: 0.6906081, RATIO_AVERAGE_POPULARITY: 3.9652147, RATIO_NOVELTY: 0.4107027, \n",
      "\n",
      "Iteration No: 86 ended. Search finished for the next optimal point.\n",
      "Time taken: 26.9190\n",
      "Function value obtained: -0.0217\n",
      "Current minimum: -0.0217\n",
      "Iteration No: 87 started. Searching for the next optimal point.\n",
      "SearchBayesianSkopt: Testing config: {'topK': 292, 'beta': 0.33767059188260723, 'alpha': 0.1260157662406098, 'normalize_similarity': True, 'implicit': True}\n",
      "RP3betaRecommender: Similarity column 19630 (100.0%), 2838.09 column/sec. Elapsed time 6.92 sec\n"
     ]
    },
    {
     "name": "stderr",
     "output_type": "stream",
     "text": [
      "/Users/luistavares/Desktop/recommender-systems/Evaluation/metrics.py:276: RuntimeWarning: overflow encountered in power\n",
      "  return np.sum(np.divide(np.power(2, scores) - 1, np.log2(np.arange(scores.shape[0], dtype=np.float64) + 2)),\n",
      "/Users/luistavares/Desktop/recommender-systems/Evaluation/metrics.py:270: RuntimeWarning: invalid value encountered in double_scalars\n",
      "  ndcg_ = rank_dcg / ideal_dcg\n"
     ]
    },
    {
     "name": "stdout",
     "output_type": "stream",
     "text": [
      "EvaluatorHoldout: Processed 40929 (100.0%) in 16.58 sec. Users per second: 2468\n",
      "SearchBayesianSkopt: Config 86 is suboptimal. Config: {'topK': 292, 'beta': 0.33767059188260723, 'alpha': 0.1260157662406098, 'normalize_similarity': True, 'implicit': True} - results: PRECISION: 0.0448728, PRECISION_RECALL_MIN_DEN: 0.0724120, RECALL: 0.0669664, MAP: 0.0216212, MAP_MIN_DEN: 0.0343625, MRR: 0.1528741, NDCG: nan, F1: 0.0537374, HIT_RATE: 0.3129322, ARHR_ALL_HITS: 0.1806000, NOVELTY: 0.0052141, AVERAGE_POPULARITY: 0.2366359, DIVERSITY_MEAN_INTER_LIST: 0.8798614, DIVERSITY_HERFINDAHL: 0.9879840, COVERAGE_ITEM: 0.7563933, COVERAGE_ITEM_HIT: 0.0604687, ITEMS_IN_GT: 0.9984717, COVERAGE_USER: 0.9831848, COVERAGE_USER_HIT: 0.3076701, USERS_IN_GT: 0.9831848, DIVERSITY_GINI: 0.0600697, SHANNON_ENTROPY: 8.6489495, RATIO_DIVERSITY_HERFINDAHL: 0.9884068, RATIO_DIVERSITY_GINI: 0.1209172, RATIO_SHANNON_ENTROPY: 0.6583797, RATIO_AVERAGE_POPULARITY: 4.3922345, RATIO_NOVELTY: 0.4007372, \n",
      "\n",
      "Iteration No: 87 ended. Search finished for the next optimal point.\n",
      "Time taken: 28.2749\n",
      "Function value obtained: -0.0216\n",
      "Current minimum: -0.0217\n",
      "Iteration No: 88 started. Searching for the next optimal point.\n",
      "SearchBayesianSkopt: Testing config: {'topK': 325, 'beta': 0.4, 'alpha': 0.11974933721536801, 'normalize_similarity': True, 'implicit': False}\n",
      "RP3betaRecommender: Similarity column 19630 (100.0%), 2660.66 column/sec. Elapsed time 7.38 sec\n"
     ]
    },
    {
     "name": "stderr",
     "output_type": "stream",
     "text": [
      "/Users/luistavares/Desktop/recommender-systems/Evaluation/metrics.py:276: RuntimeWarning: overflow encountered in power\n",
      "  return np.sum(np.divide(np.power(2, scores) - 1, np.log2(np.arange(scores.shape[0], dtype=np.float64) + 2)),\n",
      "/Users/luistavares/Desktop/recommender-systems/Evaluation/metrics.py:270: RuntimeWarning: invalid value encountered in double_scalars\n",
      "  ndcg_ = rank_dcg / ideal_dcg\n"
     ]
    },
    {
     "name": "stdout",
     "output_type": "stream",
     "text": [
      "EvaluatorHoldout: Processed 40929 (100.0%) in 17.08 sec. Users per second: 2397\n",
      "SearchBayesianSkopt: Config 87 is suboptimal. Config: {'topK': 325, 'beta': 0.4, 'alpha': 0.11974933721536801, 'normalize_similarity': True, 'implicit': False} - results: PRECISION: 0.0450072, PRECISION_RECALL_MIN_DEN: 0.0722692, RECALL: 0.0667591, MAP: 0.0216523, MAP_MIN_DEN: 0.0342535, MRR: 0.1522228, NDCG: nan, F1: 0.0537665, HIT_RATE: 0.3122236, ARHR_ALL_HITS: 0.1802625, NOVELTY: 0.0053078, AVERAGE_POPULARITY: 0.2249005, DIVERSITY_MEAN_INTER_LIST: 0.8919880, DIVERSITY_HERFINDAHL: 0.9891966, COVERAGE_ITEM: 0.8203260, COVERAGE_ITEM_HIT: 0.0626592, ITEMS_IN_GT: 0.9984717, COVERAGE_USER: 0.9831848, COVERAGE_USER_HIT: 0.3069735, USERS_IN_GT: 0.9831848, DIVERSITY_GINI: 0.0763728, SHANNON_ENTROPY: 8.9462401, RATIO_DIVERSITY_HERFINDAHL: 0.9896199, RATIO_DIVERSITY_GINI: 0.1537345, RATIO_SHANNON_ENTROPY: 0.6810102, RATIO_AVERAGE_POPULARITY: 4.1744120, RATIO_NOVELTY: 0.4079394, \n",
      "\n",
      "Iteration No: 88 ended. Search finished for the next optimal point.\n",
      "Time taken: 29.6413\n",
      "Function value obtained: -0.0217\n",
      "Current minimum: -0.0217\n",
      "Iteration No: 89 started. Searching for the next optimal point.\n",
      "SearchBayesianSkopt: Testing config: {'topK': 218, 'beta': 0.38081123076960377, 'alpha': 0.11297075363949644, 'normalize_similarity': True, 'implicit': True}\n",
      "RP3betaRecommender: Similarity column 19630 (100.0%), 3371.90 column/sec. Elapsed time 5.82 sec\n"
     ]
    },
    {
     "name": "stderr",
     "output_type": "stream",
     "text": [
      "/Users/luistavares/Desktop/recommender-systems/Evaluation/metrics.py:276: RuntimeWarning: overflow encountered in power\n",
      "  return np.sum(np.divide(np.power(2, scores) - 1, np.log2(np.arange(scores.shape[0], dtype=np.float64) + 2)),\n",
      "/Users/luistavares/Desktop/recommender-systems/Evaluation/metrics.py:270: RuntimeWarning: invalid value encountered in double_scalars\n",
      "  ndcg_ = rank_dcg / ideal_dcg\n"
     ]
    },
    {
     "name": "stdout",
     "output_type": "stream",
     "text": [
      "EvaluatorHoldout: Processed 40929 (100.0%) in 15.97 sec. Users per second: 2563\n",
      "SearchBayesianSkopt: Config 88 is suboptimal. Config: {'topK': 218, 'beta': 0.38081123076960377, 'alpha': 0.11297075363949644, 'normalize_similarity': True, 'implicit': True} - results: PRECISION: 0.0448411, PRECISION_RECALL_MIN_DEN: 0.0719633, RECALL: 0.0664617, MAP: 0.0216710, MAP_MIN_DEN: 0.0342710, MRR: 0.1524152, NDCG: nan, F1: 0.0535515, HIT_RATE: 0.3106355, ARHR_ALL_HITS: 0.1804720, NOVELTY: 0.0053246, AVERAGE_POPULARITY: 0.2155057, DIVERSITY_MEAN_INTER_LIST: 0.9031268, DIVERSITY_HERFINDAHL: 0.9903105, COVERAGE_ITEM: 0.7829343, COVERAGE_ITEM_HIT: 0.0648497, ITEMS_IN_GT: 0.9984717, COVERAGE_USER: 0.9831848, COVERAGE_USER_HIT: 0.3054121, USERS_IN_GT: 0.9831848, DIVERSITY_GINI: 0.0703907, SHANNON_ENTROPY: 9.0152797, RATIO_DIVERSITY_HERFINDAHL: 0.9907342, RATIO_DIVERSITY_GINI: 0.1416928, RATIO_SHANNON_ENTROPY: 0.6862657, RATIO_AVERAGE_POPULARITY: 4.0000338, RATIO_NOVELTY: 0.4092265, \n",
      "\n",
      "Iteration No: 89 ended. Search finished for the next optimal point.\n",
      "Time taken: 25.8838\n",
      "Function value obtained: -0.0217\n",
      "Current minimum: -0.0217\n",
      "Iteration No: 90 started. Searching for the next optimal point.\n",
      "SearchBayesianSkopt: Testing config: {'topK': 208, 'beta': 0.4, 'alpha': 0.09, 'normalize_similarity': True, 'implicit': False}\n",
      "RP3betaRecommender: Similarity column 19630 (100.0%), 3455.25 column/sec. Elapsed time 5.68 sec\n"
     ]
    },
    {
     "name": "stderr",
     "output_type": "stream",
     "text": [
      "/Users/luistavares/Desktop/recommender-systems/Evaluation/metrics.py:276: RuntimeWarning: overflow encountered in power\n",
      "  return np.sum(np.divide(np.power(2, scores) - 1, np.log2(np.arange(scores.shape[0], dtype=np.float64) + 2)),\n",
      "/Users/luistavares/Desktop/recommender-systems/Evaluation/metrics.py:270: RuntimeWarning: invalid value encountered in double_scalars\n",
      "  ndcg_ = rank_dcg / ideal_dcg\n"
     ]
    },
    {
     "name": "stdout",
     "output_type": "stream",
     "text": [
      "EvaluatorHoldout: Processed 40929 (100.0%) in 15.95 sec. Users per second: 2566\n",
      "SearchBayesianSkopt: Config 89 is suboptimal. Config: {'topK': 208, 'beta': 0.4, 'alpha': 0.09, 'normalize_similarity': True, 'implicit': False} - results: PRECISION: 0.0446896, PRECISION_RECALL_MIN_DEN: 0.0717480, RECALL: 0.0662472, MAP: 0.0216066, MAP_MIN_DEN: 0.0340550, MRR: 0.1517027, NDCG: nan, F1: 0.0533738, HIT_RATE: 0.3098536, ARHR_ALL_HITS: 0.1797779, NOVELTY: 0.0053697, AVERAGE_POPULARITY: 0.2080085, DIVERSITY_MEAN_INTER_LIST: 0.9105561, DIVERSITY_HERFINDAHL: 0.9910534, COVERAGE_ITEM: 0.7911870, COVERAGE_ITEM_HIT: 0.0668874, ITEMS_IN_GT: 0.9984717, COVERAGE_USER: 0.9831848, COVERAGE_USER_HIT: 0.3046434, USERS_IN_GT: 0.9831848, DIVERSITY_GINI: 0.0752025, SHANNON_ENTROPY: 9.1574601, RATIO_DIVERSITY_HERFINDAHL: 0.9914775, RATIO_DIVERSITY_GINI: 0.1513788, RATIO_SHANNON_ENTROPY: 0.6970888, RATIO_AVERAGE_POPULARITY: 3.8608760, RATIO_NOVELTY: 0.4126915, \n",
      "\n",
      "Iteration No: 90 ended. Search finished for the next optimal point.\n",
      "Time taken: 25.6104\n",
      "Function value obtained: -0.0216\n",
      "Current minimum: -0.0217\n",
      "Iteration No: 91 started. Searching for the next optimal point.\n",
      "SearchBayesianSkopt: Testing config: {'topK': 310, 'beta': 0.38287961250445013, 'alpha': 0.09, 'normalize_similarity': True, 'implicit': False}\n",
      "RP3betaRecommender: Similarity column 19630 (100.0%), 2753.57 column/sec. Elapsed time 7.13 sec\n"
     ]
    },
    {
     "name": "stderr",
     "output_type": "stream",
     "text": [
      "/Users/luistavares/Desktop/recommender-systems/Evaluation/metrics.py:276: RuntimeWarning: overflow encountered in power\n",
      "  return np.sum(np.divide(np.power(2, scores) - 1, np.log2(np.arange(scores.shape[0], dtype=np.float64) + 2)),\n",
      "/Users/luistavares/Desktop/recommender-systems/Evaluation/metrics.py:270: RuntimeWarning: invalid value encountered in double_scalars\n",
      "  ndcg_ = rank_dcg / ideal_dcg\n"
     ]
    },
    {
     "name": "stdout",
     "output_type": "stream",
     "text": [
      "EvaluatorHoldout: Processed 40929 (100.0%) in 16.79 sec. Users per second: 2438\n",
      "SearchBayesianSkopt: Config 90 is suboptimal. Config: {'topK': 310, 'beta': 0.38287961250445013, 'alpha': 0.09, 'normalize_similarity': True, 'implicit': False} - results: PRECISION: 0.0449217, PRECISION_RECALL_MIN_DEN: 0.0721218, RECALL: 0.0666404, MAP: 0.0216962, MAP_MIN_DEN: 0.0343546, MRR: 0.1527875, NDCG: nan, F1: 0.0536670, HIT_RATE: 0.3118327, ARHR_ALL_HITS: 0.1808202, NOVELTY: 0.0052897, AVERAGE_POPULARITY: 0.2260945, DIVERSITY_MEAN_INTER_LIST: 0.8915275, DIVERSITY_HERFINDAHL: 0.9891506, COVERAGE_ITEM: 0.8019868, COVERAGE_ITEM_HIT: 0.0626592, ITEMS_IN_GT: 0.9984717, COVERAGE_USER: 0.9831848, COVERAGE_USER_HIT: 0.3065892, USERS_IN_GT: 0.9831848, DIVERSITY_GINI: 0.0717658, SHANNON_ENTROPY: 8.8966647, RATIO_DIVERSITY_HERFINDAHL: 0.9895738, RATIO_DIVERSITY_GINI: 0.1444608, RATIO_SHANNON_ENTROPY: 0.6772364, RATIO_AVERAGE_POPULARITY: 4.1965731, RATIO_NOVELTY: 0.4065486, \n",
      "\n",
      "Iteration No: 91 ended. Search finished for the next optimal point.\n",
      "Time taken: 29.0145\n",
      "Function value obtained: -0.0217\n",
      "Current minimum: -0.0217\n",
      "Iteration No: 92 started. Searching for the next optimal point.\n",
      "SearchBayesianSkopt: Testing config: {'topK': 293, 'beta': 0.36803733216187207, 'alpha': 0.10326716586572607, 'normalize_similarity': True, 'implicit': False}\n",
      "RP3betaRecommender: Similarity column 19630 (100.0%), 2848.50 column/sec. Elapsed time 6.89 sec\n"
     ]
    },
    {
     "name": "stderr",
     "output_type": "stream",
     "text": [
      "/Users/luistavares/Desktop/recommender-systems/Evaluation/metrics.py:276: RuntimeWarning: overflow encountered in power\n",
      "  return np.sum(np.divide(np.power(2, scores) - 1, np.log2(np.arange(scores.shape[0], dtype=np.float64) + 2)),\n",
      "/Users/luistavares/Desktop/recommender-systems/Evaluation/metrics.py:270: RuntimeWarning: invalid value encountered in double_scalars\n",
      "  ndcg_ = rank_dcg / ideal_dcg\n"
     ]
    },
    {
     "name": "stdout",
     "output_type": "stream",
     "text": [
      "EvaluatorHoldout: Processed 40929 (100.0%) in 16.59 sec. Users per second: 2468\n",
      "SearchBayesianSkopt: Config 91 is suboptimal. Config: {'topK': 293, 'beta': 0.36803733216187207, 'alpha': 0.10326716586572607, 'normalize_similarity': True, 'implicit': False} - results: PRECISION: 0.0448337, PRECISION_RECALL_MIN_DEN: 0.0721138, RECALL: 0.0666373, MAP: 0.0216812, MAP_MIN_DEN: 0.0343959, MRR: 0.1529719, NDCG: nan, F1: 0.0536031, HIT_RATE: 0.3116861, ARHR_ALL_HITS: 0.1808720, NOVELTY: 0.0052664, AVERAGE_POPULARITY: 0.2289923, DIVERSITY_MEAN_INTER_LIST: 0.8884472, DIVERSITY_HERFINDAHL: 0.9888425, COVERAGE_ITEM: 0.7842078, COVERAGE_ITEM_HIT: 0.0619460, ITEMS_IN_GT: 0.9984717, COVERAGE_USER: 0.9831848, COVERAGE_USER_HIT: 0.3064450, USERS_IN_GT: 0.9831848, DIVERSITY_GINI: 0.0674295, SHANNON_ENTROPY: 8.8224954, RATIO_DIVERSITY_HERFINDAHL: 0.9892657, RATIO_DIVERSITY_GINI: 0.1357320, RATIO_SHANNON_ENTROPY: 0.6715905, RATIO_AVERAGE_POPULARITY: 4.2503607, RATIO_NOVELTY: 0.4047544, \n",
      "\n",
      "Iteration No: 92 ended. Search finished for the next optimal point.\n",
      "Time taken: 28.3157\n",
      "Function value obtained: -0.0217\n",
      "Current minimum: -0.0217\n",
      "Iteration No: 93 started. Searching for the next optimal point.\n",
      "SearchBayesianSkopt: Testing config: {'topK': 268, 'beta': 0.36679856212250617, 'alpha': 0.11357645613885027, 'normalize_similarity': True, 'implicit': True}\n",
      "RP3betaRecommender: Similarity column 19630 (100.0%), 3001.52 column/sec. Elapsed time 6.54 sec\n"
     ]
    },
    {
     "name": "stderr",
     "output_type": "stream",
     "text": [
      "/Users/luistavares/Desktop/recommender-systems/Evaluation/metrics.py:276: RuntimeWarning: overflow encountered in power\n",
      "  return np.sum(np.divide(np.power(2, scores) - 1, np.log2(np.arange(scores.shape[0], dtype=np.float64) + 2)),\n",
      "/Users/luistavares/Desktop/recommender-systems/Evaluation/metrics.py:270: RuntimeWarning: invalid value encountered in double_scalars\n",
      "  ndcg_ = rank_dcg / ideal_dcg\n"
     ]
    },
    {
     "name": "stdout",
     "output_type": "stream",
     "text": [
      "EvaluatorHoldout: Processed 40929 (100.0%) in 16.29 sec. Users per second: 2512\n",
      "SearchBayesianSkopt: Config 92 is suboptimal. Config: {'topK': 268, 'beta': 0.36679856212250617, 'alpha': 0.11357645613885027, 'normalize_similarity': True, 'implicit': True} - results: PRECISION: 0.0448460, PRECISION_RECALL_MIN_DEN: 0.0721620, RECALL: 0.0666951, MAP: 0.0216798, MAP_MIN_DEN: 0.0343537, MRR: 0.1526641, NDCG: nan, F1: 0.0536306, HIT_RATE: 0.3113196, ARHR_ALL_HITS: 0.1807050, NOVELTY: 0.0052728, AVERAGE_POPULARITY: 0.2263765, DIVERSITY_MEAN_INTER_LIST: 0.8913356, DIVERSITY_HERFINDAHL: 0.9891314, COVERAGE_ITEM: 0.7787061, COVERAGE_ITEM_HIT: 0.0626592, ITEMS_IN_GT: 0.9984717, COVERAGE_USER: 0.9831848, COVERAGE_USER_HIT: 0.3060847, USERS_IN_GT: 0.9831848, DIVERSITY_GINI: 0.0667418, SHANNON_ENTROPY: 8.8441706, RATIO_DIVERSITY_HERFINDAHL: 0.9895546, RATIO_DIVERSITY_GINI: 0.1343478, RATIO_SHANNON_ENTROPY: 0.6732404, RATIO_AVERAGE_POPULARITY: 4.2018069, RATIO_NOVELTY: 0.4052508, \n",
      "\n",
      "Iteration No: 93 ended. Search finished for the next optimal point.\n",
      "Time taken: 27.5899\n",
      "Function value obtained: -0.0217\n",
      "Current minimum: -0.0217\n",
      "Iteration No: 94 started. Searching for the next optimal point.\n",
      "SearchBayesianSkopt: Testing config: {'topK': 232, 'beta': 0.3802876701792063, 'alpha': 0.09, 'normalize_similarity': True, 'implicit': True}\n",
      "RP3betaRecommender: Similarity column 19630 (100.0%), 3242.92 column/sec. Elapsed time 6.05 sec\n"
     ]
    },
    {
     "name": "stderr",
     "output_type": "stream",
     "text": [
      "/Users/luistavares/Desktop/recommender-systems/Evaluation/metrics.py:276: RuntimeWarning: overflow encountered in power\n",
      "  return np.sum(np.divide(np.power(2, scores) - 1, np.log2(np.arange(scores.shape[0], dtype=np.float64) + 2)),\n",
      "/Users/luistavares/Desktop/recommender-systems/Evaluation/metrics.py:270: RuntimeWarning: invalid value encountered in double_scalars\n",
      "  ndcg_ = rank_dcg / ideal_dcg\n"
     ]
    },
    {
     "name": "stdout",
     "output_type": "stream",
     "text": [
      "EvaluatorHoldout: Processed 40929 (100.0%) in 16.06 sec. Users per second: 2549\n",
      "SearchBayesianSkopt: Config 93 is suboptimal. Config: {'topK': 232, 'beta': 0.3802876701792063, 'alpha': 0.09, 'normalize_similarity': True, 'implicit': True} - results: PRECISION: 0.0447580, PRECISION_RECALL_MIN_DEN: 0.0718710, RECALL: 0.0663845, MAP: 0.0217035, MAP_MIN_DEN: 0.0343183, MRR: 0.1527246, NDCG: nan, F1: 0.0534672, HIT_RATE: 0.3103912, ARHR_ALL_HITS: 0.1807706, NOVELTY: 0.0053220, AVERAGE_POPULARITY: 0.2162077, DIVERSITY_MEAN_INTER_LIST: 0.9025834, DIVERSITY_HERFINDAHL: 0.9902561, COVERAGE_ITEM: 0.7826286, COVERAGE_ITEM_HIT: 0.0649007, ITEMS_IN_GT: 0.9984717, COVERAGE_USER: 0.9831848, COVERAGE_USER_HIT: 0.3051719, USERS_IN_GT: 0.9831848, DIVERSITY_GINI: 0.0702675, SHANNON_ENTROPY: 9.0080727, RATIO_DIVERSITY_HERFINDAHL: 0.9906799, RATIO_DIVERSITY_GINI: 0.1414449, RATIO_SHANNON_ENTROPY: 0.6857171, RATIO_AVERAGE_POPULARITY: 4.0130633, RATIO_NOVELTY: 0.4090288, \n",
      "\n",
      "Iteration No: 94 ended. Search finished for the next optimal point.\n",
      "Time taken: 26.4440\n",
      "Function value obtained: -0.0217\n",
      "Current minimum: -0.0217\n",
      "Iteration No: 95 started. Searching for the next optimal point.\n",
      "SearchBayesianSkopt: Testing config: {'topK': 316, 'beta': 0.37894407585502965, 'alpha': 0.10933173947074314, 'normalize_similarity': True, 'implicit': False}\n",
      "RP3betaRecommender: Similarity column 19630 (100.0%), 2713.18 column/sec. Elapsed time 7.24 sec\n"
     ]
    },
    {
     "name": "stderr",
     "output_type": "stream",
     "text": [
      "/Users/luistavares/Desktop/recommender-systems/Evaluation/metrics.py:276: RuntimeWarning: overflow encountered in power\n",
      "  return np.sum(np.divide(np.power(2, scores) - 1, np.log2(np.arange(scores.shape[0], dtype=np.float64) + 2)),\n",
      "/Users/luistavares/Desktop/recommender-systems/Evaluation/metrics.py:270: RuntimeWarning: invalid value encountered in double_scalars\n",
      "  ndcg_ = rank_dcg / ideal_dcg\n"
     ]
    },
    {
     "name": "stdout",
     "output_type": "stream",
     "text": [
      "EvaluatorHoldout: Processed 40929 (100.0%) in 16.85 sec. Users per second: 2429\n",
      "SearchBayesianSkopt: Config 94 is suboptimal. Config: {'topK': 316, 'beta': 0.37894407585502965, 'alpha': 0.10933173947074314, 'normalize_similarity': True, 'implicit': False} - results: PRECISION: 0.0449119, PRECISION_RECALL_MIN_DEN: 0.0721360, RECALL: 0.0666657, MAP: 0.0217026, MAP_MIN_DEN: 0.0344035, MRR: 0.1530586, NDCG: nan, F1: 0.0536682, HIT_RATE: 0.3121747, ARHR_ALL_HITS: 0.1810097, NOVELTY: 0.0052757, AVERAGE_POPULARITY: 0.2290313, DIVERSITY_MEAN_INTER_LIST: 0.8878760, DIVERSITY_HERFINDAHL: 0.9887854, COVERAGE_ITEM: 0.8004585, COVERAGE_ITEM_HIT: 0.0616403, ITEMS_IN_GT: 0.9984717, COVERAGE_USER: 0.9831848, COVERAGE_USER_HIT: 0.3069255, USERS_IN_GT: 0.9831848, DIVERSITY_GINI: 0.0707700, SHANNON_ENTROPY: 8.8476283, RATIO_DIVERSITY_HERFINDAHL: 0.9892085, RATIO_DIVERSITY_GINI: 0.1424564, RATIO_SHANNON_ENTROPY: 0.6735036, RATIO_AVERAGE_POPULARITY: 4.2510835, RATIO_NOVELTY: 0.4054708, \n",
      "\n",
      "Iteration No: 95 ended. Search finished for the next optimal point.\n",
      "Time taken: 29.3098\n",
      "Function value obtained: -0.0217\n",
      "Current minimum: -0.0217\n",
      "Iteration No: 96 started. Searching for the next optimal point.\n",
      "SearchBayesianSkopt: Testing config: {'topK': 268, 'beta': 0.3925821715147244, 'alpha': 0.11136614040965066, 'normalize_similarity': True, 'implicit': False}\n",
      "RP3betaRecommender: Similarity column 19630 (100.0%), 3010.23 column/sec. Elapsed time 6.52 sec\n"
     ]
    },
    {
     "name": "stderr",
     "output_type": "stream",
     "text": [
      "/Users/luistavares/Desktop/recommender-systems/Evaluation/metrics.py:276: RuntimeWarning: overflow encountered in power\n",
      "  return np.sum(np.divide(np.power(2, scores) - 1, np.log2(np.arange(scores.shape[0], dtype=np.float64) + 2)),\n",
      "/Users/luistavares/Desktop/recommender-systems/Evaluation/metrics.py:270: RuntimeWarning: invalid value encountered in double_scalars\n",
      "  ndcg_ = rank_dcg / ideal_dcg\n"
     ]
    },
    {
     "name": "stdout",
     "output_type": "stream",
     "text": [
      "EvaluatorHoldout: Processed 40929 (100.0%) in 16.41 sec. Users per second: 2495\n",
      "SearchBayesianSkopt: Config 95 is suboptimal. Config: {'topK': 268, 'beta': 0.3925821715147244, 'alpha': 0.11136614040965066, 'normalize_similarity': True, 'implicit': False} - results: PRECISION: 0.0448533, PRECISION_RECALL_MIN_DEN: 0.0720799, RECALL: 0.0665947, MAP: 0.0216971, MAP_MIN_DEN: 0.0343172, MRR: 0.1525666, NDCG: nan, F1: 0.0536033, HIT_RATE: 0.3110997, ARHR_ALL_HITS: 0.1806847, NOVELTY: 0.0053135, AVERAGE_POPULARITY: 0.2207839, DIVERSITY_MEAN_INTER_LIST: 0.8969602, DIVERSITY_HERFINDAHL: 0.9896938, COVERAGE_ITEM: 0.7982170, COVERAGE_ITEM_HIT: 0.0636271, ITEMS_IN_GT: 0.9984717, COVERAGE_USER: 0.9831848, COVERAGE_USER_HIT: 0.3058685, USERS_IN_GT: 0.9831848, DIVERSITY_GINI: 0.0726344, SHANNON_ENTROPY: 8.9722781, RATIO_DIVERSITY_HERFINDAHL: 0.9901173, RATIO_DIVERSITY_GINI: 0.1462094, RATIO_SHANNON_ENTROPY: 0.6829923, RATIO_AVERAGE_POPULARITY: 4.0980030, RATIO_NOVELTY: 0.4083763, \n",
      "\n",
      "Iteration No: 96 ended. Search finished for the next optimal point.\n",
      "Time taken: 27.6040\n",
      "Function value obtained: -0.0217\n",
      "Current minimum: -0.0217\n",
      "Iteration No: 97 started. Searching for the next optimal point.\n",
      "SearchBayesianSkopt: Testing config: {'topK': 259, 'beta': 0.32347577261951516, 'alpha': 0.0995349015068386, 'normalize_similarity': True, 'implicit': False}\n",
      "RP3betaRecommender: Similarity column 19630 (100.0%), 3049.87 column/sec. Elapsed time 6.44 sec\n"
     ]
    },
    {
     "name": "stderr",
     "output_type": "stream",
     "text": [
      "/Users/luistavares/Desktop/recommender-systems/Evaluation/metrics.py:276: RuntimeWarning: overflow encountered in power\n",
      "  return np.sum(np.divide(np.power(2, scores) - 1, np.log2(np.arange(scores.shape[0], dtype=np.float64) + 2)),\n",
      "/Users/luistavares/Desktop/recommender-systems/Evaluation/metrics.py:270: RuntimeWarning: invalid value encountered in double_scalars\n",
      "  ndcg_ = rank_dcg / ideal_dcg\n"
     ]
    },
    {
     "name": "stdout",
     "output_type": "stream",
     "text": [
      "EvaluatorHoldout: Processed 40929 (100.0%) in 16.05 sec. Users per second: 2549\n",
      "SearchBayesianSkopt: Config 96 is suboptimal. Config: {'topK': 259, 'beta': 0.32347577261951516, 'alpha': 0.0995349015068386, 'normalize_similarity': True, 'implicit': False} - results: PRECISION: 0.0448362, PRECISION_RECALL_MIN_DEN: 0.0722211, RECALL: 0.0667286, MAP: 0.0216841, MAP_MIN_DEN: 0.0343911, MRR: 0.1531314, NDCG: nan, F1: 0.0536344, HIT_RATE: 0.3123213, ARHR_ALL_HITS: 0.1809715, NOVELTY: 0.0052172, AVERAGE_POPULARITY: 0.2333189, DIVERSITY_MEAN_INTER_LIST: 0.8846921, DIVERSITY_HERFINDAHL: 0.9884671, COVERAGE_ITEM: 0.7359144, COVERAGE_ITEM_HIT: 0.0606724, ITEMS_IN_GT: 0.9984717, COVERAGE_USER: 0.9831848, COVERAGE_USER_HIT: 0.3070696, USERS_IN_GT: 0.9831848, DIVERSITY_GINI: 0.0573294, SHANNON_ENTROPY: 8.6678164, RATIO_DIVERSITY_HERFINDAHL: 0.9888900, RATIO_DIVERSITY_GINI: 0.1154011, RATIO_SHANNON_ENTROPY: 0.6598159, RATIO_AVERAGE_POPULARITY: 4.3306669, RATIO_NOVELTY: 0.4009712, \n",
      "\n",
      "Iteration No: 97 ended. Search finished for the next optimal point.\n",
      "Time taken: 27.1102\n",
      "Function value obtained: -0.0217\n",
      "Current minimum: -0.0217\n",
      "Iteration No: 98 started. Searching for the next optimal point.\n",
      "SearchBayesianSkopt: Testing config: {'topK': 236, 'beta': 0.3635362818322568, 'alpha': 0.11616698155699168, 'normalize_similarity': True, 'implicit': True}\n",
      "RP3betaRecommender: Similarity column 19630 (100.0%), 3234.90 column/sec. Elapsed time 6.07 sec\n"
     ]
    },
    {
     "name": "stderr",
     "output_type": "stream",
     "text": [
      "/Users/luistavares/Desktop/recommender-systems/Evaluation/metrics.py:276: RuntimeWarning: overflow encountered in power\n",
      "  return np.sum(np.divide(np.power(2, scores) - 1, np.log2(np.arange(scores.shape[0], dtype=np.float64) + 2)),\n",
      "/Users/luistavares/Desktop/recommender-systems/Evaluation/metrics.py:270: RuntimeWarning: invalid value encountered in double_scalars\n",
      "  ndcg_ = rank_dcg / ideal_dcg\n"
     ]
    },
    {
     "name": "stdout",
     "output_type": "stream",
     "text": [
      "EvaluatorHoldout: Processed 40929 (100.0%) in 15.99 sec. Users per second: 2559\n",
      "SearchBayesianSkopt: New best config found. Config 97: {'topK': 236, 'beta': 0.3635362818322568, 'alpha': 0.11616698155699168, 'normalize_similarity': True, 'implicit': True} - results: PRECISION: 0.0448777, PRECISION_RECALL_MIN_DEN: 0.0720478, RECALL: 0.0665552, MAP: 0.0217162, MAP_MIN_DEN: 0.0343677, MRR: 0.1527985, NDCG: nan, F1: 0.0536080, HIT_RATE: 0.3112707, ARHR_ALL_HITS: 0.1808834, NOVELTY: 0.0052852, AVERAGE_POPULARITY: 0.2224895, DIVERSITY_MEAN_INTER_LIST: 0.8959105, DIVERSITY_HERFINDAHL: 0.9895889, COVERAGE_ITEM: 0.7738156, COVERAGE_ITEM_HIT: 0.0632705, ITEMS_IN_GT: 0.9984717, COVERAGE_USER: 0.9831848, COVERAGE_USER_HIT: 0.3060367, USERS_IN_GT: 0.9831848, DIVERSITY_GINI: 0.0662408, SHANNON_ENTROPY: 8.8877752, RATIO_DIVERSITY_HERFINDAHL: 0.9900123, RATIO_DIVERSITY_GINI: 0.1333393, RATIO_SHANNON_ENTROPY: 0.6765597, RATIO_AVERAGE_POPULARITY: 4.1296611, RATIO_NOVELTY: 0.4061989, \n",
      "\n",
      "Iteration No: 98 ended. Search finished for the next optimal point.\n",
      "Time taken: 26.4226\n",
      "Function value obtained: -0.0217\n",
      "Current minimum: -0.0217\n",
      "Iteration No: 99 started. Searching for the next optimal point.\n",
      "SearchBayesianSkopt: Testing config: {'topK': 236, 'beta': 0.3371932491614555, 'alpha': 0.12261502878600405, 'normalize_similarity': True, 'implicit': False}\n",
      "RP3betaRecommender: Similarity column 19630 (100.0%), 3233.84 column/sec. Elapsed time 6.07 sec\n"
     ]
    },
    {
     "name": "stderr",
     "output_type": "stream",
     "text": [
      "/Users/luistavares/Desktop/recommender-systems/Evaluation/metrics.py:276: RuntimeWarning: overflow encountered in power\n",
      "  return np.sum(np.divide(np.power(2, scores) - 1, np.log2(np.arange(scores.shape[0], dtype=np.float64) + 2)),\n",
      "/Users/luistavares/Desktop/recommender-systems/Evaluation/metrics.py:270: RuntimeWarning: invalid value encountered in double_scalars\n",
      "  ndcg_ = rank_dcg / ideal_dcg\n"
     ]
    },
    {
     "name": "stdout",
     "output_type": "stream",
     "text": [
      "EvaluatorHoldout: Processed 40929 (100.0%) in 15.91 sec. Users per second: 2573\n",
      "SearchBayesianSkopt: Config 98 is suboptimal. Config: {'topK': 236, 'beta': 0.3371932491614555, 'alpha': 0.12261502878600405, 'normalize_similarity': True, 'implicit': False} - results: PRECISION: 0.0447898, PRECISION_RECALL_MIN_DEN: 0.0721198, RECALL: 0.0666415, MAP: 0.0216821, MAP_MIN_DEN: 0.0343806, MRR: 0.1529692, NDCG: nan, F1: 0.0535731, HIT_RATE: 0.3114662, ARHR_ALL_HITS: 0.1808496, NOVELTY: 0.0052456, AVERAGE_POPULARITY: 0.2281103, DIVERSITY_MEAN_INTER_LIST: 0.8902143, DIVERSITY_HERFINDAHL: 0.9890193, COVERAGE_ITEM: 0.7501274, COVERAGE_ITEM_HIT: 0.0614875, ITEMS_IN_GT: 0.9984717, COVERAGE_USER: 0.9831848, COVERAGE_USER_HIT: 0.3062288, USERS_IN_GT: 0.9831848, DIVERSITY_GINI: 0.0604790, SHANNON_ENTROPY: 8.7605796, RATIO_DIVERSITY_HERFINDAHL: 0.9894425, RATIO_DIVERSITY_GINI: 0.1217411, RATIO_SHANNON_ENTROPY: 0.6668773, RATIO_AVERAGE_POPULARITY: 4.2339882, RATIO_NOVELTY: 0.4031584, \n",
      "\n",
      "Iteration No: 99 ended. Search finished for the next optimal point.\n",
      "Time taken: 26.2882\n",
      "Function value obtained: -0.0217\n",
      "Current minimum: -0.0217\n",
      "Iteration No: 100 started. Searching for the next optimal point.\n",
      "SearchBayesianSkopt: Testing config: {'topK': 229, 'beta': 0.3848500000314843, 'alpha': 0.1284645235452362, 'normalize_similarity': True, 'implicit': True}\n",
      "RP3betaRecommender: Similarity column 19630 (100.0%), 3254.30 column/sec. Elapsed time 6.03 sec\n"
     ]
    },
    {
     "name": "stderr",
     "output_type": "stream",
     "text": [
      "/Users/luistavares/Desktop/recommender-systems/Evaluation/metrics.py:276: RuntimeWarning: overflow encountered in power\n",
      "  return np.sum(np.divide(np.power(2, scores) - 1, np.log2(np.arange(scores.shape[0], dtype=np.float64) + 2)),\n",
      "/Users/luistavares/Desktop/recommender-systems/Evaluation/metrics.py:270: RuntimeWarning: invalid value encountered in double_scalars\n",
      "  ndcg_ = rank_dcg / ideal_dcg\n"
     ]
    },
    {
     "name": "stdout",
     "output_type": "stream",
     "text": [
      "EvaluatorHoldout: Processed 40929 (100.0%) in 16.03 sec. Users per second: 2553\n",
      "SearchBayesianSkopt: Config 99 is suboptimal. Config: {'topK': 229, 'beta': 0.3848500000314843, 'alpha': 0.1284645235452362, 'normalize_similarity': True, 'implicit': True} - results: PRECISION: 0.0448631, PRECISION_RECALL_MIN_DEN: 0.0720089, RECALL: 0.0665133, MAP: 0.0216603, MAP_MIN_DEN: 0.0342392, MRR: 0.1521911, NDCG: nan, F1: 0.0535839, HIT_RATE: 0.3110020, ARHR_ALL_HITS: 0.1802713, NOVELTY: 0.0053181, AVERAGE_POPULARITY: 0.2176534, DIVERSITY_MEAN_INTER_LIST: 0.9006012, DIVERSITY_HERFINDAHL: 0.9900579, COVERAGE_ITEM: 0.7892511, COVERAGE_ITEM_HIT: 0.0642384, ITEMS_IN_GT: 0.9984717, COVERAGE_USER: 0.9831848, COVERAGE_USER_HIT: 0.3057724, USERS_IN_GT: 0.9831848, DIVERSITY_GINI: 0.0708456, SHANNON_ENTROPY: 8.9908917, RATIO_DIVERSITY_HERFINDAHL: 0.9904816, RATIO_DIVERSITY_GINI: 0.1426085, RATIO_SHANNON_ENTROPY: 0.6844092, RATIO_AVERAGE_POPULARITY: 4.0398975, RATIO_NOVELTY: 0.4087304, \n",
      "\n",
      "Iteration No: 100 ended. Search finished for the next optimal point.\n",
      "Time taken: 26.3655\n",
      "Function value obtained: -0.0217\n",
      "Current minimum: -0.0217\n",
      "SearchBayesianSkopt: Search complete. Best config is 97: {'topK': 236, 'beta': 0.3635362818322568, 'alpha': 0.11616698155699168, 'normalize_similarity': True, 'implicit': True}\n",
      "\n",
      "RP3betaRecommender: URM Detected 700 ( 1.7%) users with no interactions.\n",
      "RP3betaRecommender: URM Detected 30 ( 0.2%) items with no interactions.\n",
      "SearchBayesianSkopt: Evaluation with constructor data for final test. Using best config: {'topK': 236, 'beta': 0.3635362818322568, 'alpha': 0.11616698155699168, 'normalize_similarity': True, 'implicit': True}\n",
      "RP3betaRecommender: Similarity column 19630 (100.0%), 6233.47 column/sec. Elapsed time 3.15 sec\n",
      "SearchBayesianSkopt: Saving model in result_experiments_4/RP3betaRecommender\n",
      "\n",
      "RP3betaRecommender: Saving model in file 'result_experiments_4/RP3betaRecommender_best_model_last'\n",
      "RP3betaRecommender: Saving complete\n"
     ]
    }
   ],
   "source": [
    "# importing this library so the seed stays the same\n",
    "import os\n",
    "from HyperparameterTuning.SearchAbstractClass import SearchInputRecommenderArgs\n",
    "from skopt.space import Real, Integer, Categorical\n",
    "from HyperparameterTuning.SearchBayesianSkopt import SearchBayesianSkopt\n",
    "from Data_manager.split_functions.split_train_validation_random_holdout import split_train_in_two_percentage_global_sample, split_train_in_two_percentage_user_wise\n",
    "import Utils.not_random\n",
    "from Data.RecSys2022 import RecSys2022, RecSys2022URMType\n",
    "from Data_manager.split_functions.split_train_validation_random_holdout import (\n",
    "    split_train_in_two_percentage_global_sample,\n",
    "    split_train_in_two_percentage_user_wise)\n",
    "from Evaluation.Evaluator import EvaluatorHoldout\n",
    "from Recommenders.GraphBased.RP3betaRecommender import RP3betaRecommender\n",
    "\n",
    "# building the dataset\n",
    "# later we can call the build method to get different URM\n",
    "dataset = RecSys2022()\n",
    "dataset.build(type=RecSys2022URMType.SUM)\n",
    "\n",
    "urm = dataset.get_urm()\n",
    "icm = dataset.get_icm()\n",
    "\n",
    "urm_train_validation, urm_test = split_train_in_two_percentage_global_sample(\n",
    "    urm, train_percentage=0.80)\n",
    "urm_train, urm_validation = split_train_in_two_percentage_global_sample(urm_train_validation, train_percentage = 0.80)\n",
    "\n",
    "evaluator_validation = EvaluatorHoldout(urm_validation, cutoff_list=[10])\n",
    "evaluator_test = EvaluatorHoldout(urm_test, cutoff_list=[10])\n",
    "\n",
    "recommender_class = RP3betaRecommender\n",
    "\n",
    "hyperparameterSearch = SearchBayesianSkopt(recommender_class,\n",
    "                                           evaluator_validation=evaluator_test)\n",
    "\n",
    "hyperparameters_range_dictionary = {\n",
    "    \"topK\": Integer(170, 350),\n",
    "    \"beta\": Real(0.31, 0.4),\n",
    "    \"alpha\": Real(0.09, 0.13),\n",
    "    \"normalize_similarity\": Categorical([True]),\n",
    "    \"implicit\": Categorical([True, False]),\n",
    "}\n",
    "\n",
    "recommender_input_args = SearchInputRecommenderArgs(\n",
    "    # For a CBF model simply put [URM_train, ICM_train]\n",
    "    CONSTRUCTOR_POSITIONAL_ARGS=[urm_train],\n",
    "    CONSTRUCTOR_KEYWORD_ARGS={},\n",
    "    FIT_POSITIONAL_ARGS=[],\n",
    "    FIT_KEYWORD_ARGS={\n",
    "        'min_rating': 0\n",
    "    },\n",
    "    EARLYSTOPPING_KEYWORD_ARGS={},\n",
    ")\n",
    "\n",
    "recommender_input_args_last_test = SearchInputRecommenderArgs(\n",
    "    # For a CBF model simply put [URM_train_validation, ICM_train]\n",
    "    CONSTRUCTOR_POSITIONAL_ARGS=[urm_test],\n",
    "    CONSTRUCTOR_KEYWORD_ARGS={},\n",
    "    FIT_POSITIONAL_ARGS=[],\n",
    "    FIT_KEYWORD_ARGS={\n",
    "        'min_rating': 0\n",
    "    },\n",
    "    EARLYSTOPPING_KEYWORD_ARGS={},\n",
    ")\n",
    "\n",
    "\n",
    "output_folder_path = \"result_experiments_4/\"\n",
    "\n",
    "# If directory does not exist, create\n",
    "if not os.path.exists(output_folder_path):\n",
    "    os.makedirs(output_folder_path)\n",
    "\n",
    "n_cases = 100  # using 10 as an example\n",
    "n_random_starts = int(n_cases*0.3)\n",
    "metric_to_optimize = \"MAP\"\n",
    "cutoff_to_optimize = 10\n",
    "\n",
    "hyperparameterSearch.search(recommender_input_args,\n",
    "                            recommender_input_args_last_test=recommender_input_args_last_test,\n",
    "                            hyperparameter_search_space=hyperparameters_range_dictionary,\n",
    "                            n_cases=n_cases,\n",
    "                            n_random_starts=n_random_starts,\n",
    "                            save_model=\"last\",\n",
    "                            output_folder_path=output_folder_path,  # Where to save the results\n",
    "                            output_file_name_root=recommender_class.RECOMMENDER_NAME,  # How to call the files\n",
    "                            metric_to_optimize=metric_to_optimize,\n",
    "                            cutoff_to_optimize=cutoff_to_optimize,\n",
    "                            )\n"
   ]
  },
  {
   "cell_type": "code",
   "execution_count": 17,
   "metadata": {},
   "outputs": [
    {
     "data": {
      "text/html": [
       "<div>\n",
       "<style scoped>\n",
       "    .dataframe tbody tr th:only-of-type {\n",
       "        vertical-align: middle;\n",
       "    }\n",
       "\n",
       "    .dataframe tbody tr th {\n",
       "        vertical-align: top;\n",
       "    }\n",
       "\n",
       "    .dataframe thead th {\n",
       "        text-align: right;\n",
       "    }\n",
       "</style>\n",
       "<table border=\"1\" class=\"dataframe\">\n",
       "  <thead>\n",
       "    <tr style=\"text-align: right;\">\n",
       "      <th></th>\n",
       "      <th>topK</th>\n",
       "      <th>beta</th>\n",
       "      <th>alpha</th>\n",
       "      <th>normalize_similarity</th>\n",
       "      <th>implicit</th>\n",
       "    </tr>\n",
       "  </thead>\n",
       "  <tbody>\n",
       "    <tr>\n",
       "      <th>0</th>\n",
       "      <td>241</td>\n",
       "      <td>0.354672</td>\n",
       "      <td>0.116928</td>\n",
       "      <td>True</td>\n",
       "      <td>False</td>\n",
       "    </tr>\n",
       "    <tr>\n",
       "      <th>1</th>\n",
       "      <td>228</td>\n",
       "      <td>0.362581</td>\n",
       "      <td>0.105248</td>\n",
       "      <td>True</td>\n",
       "      <td>False</td>\n",
       "    </tr>\n",
       "    <tr>\n",
       "      <th>2</th>\n",
       "      <td>201</td>\n",
       "      <td>0.330738</td>\n",
       "      <td>0.108665</td>\n",
       "      <td>True</td>\n",
       "      <td>False</td>\n",
       "    </tr>\n",
       "    <tr>\n",
       "      <th>3</th>\n",
       "      <td>296</td>\n",
       "      <td>0.354428</td>\n",
       "      <td>0.109498</td>\n",
       "      <td>True</td>\n",
       "      <td>True</td>\n",
       "    </tr>\n",
       "    <tr>\n",
       "      <th>4</th>\n",
       "      <td>224</td>\n",
       "      <td>0.369823</td>\n",
       "      <td>0.090462</td>\n",
       "      <td>True</td>\n",
       "      <td>True</td>\n",
       "    </tr>\n",
       "    <tr>\n",
       "      <th>...</th>\n",
       "      <td>...</td>\n",
       "      <td>...</td>\n",
       "      <td>...</td>\n",
       "      <td>...</td>\n",
       "      <td>...</td>\n",
       "    </tr>\n",
       "    <tr>\n",
       "      <th>95</th>\n",
       "      <td>268</td>\n",
       "      <td>0.392582</td>\n",
       "      <td>0.111366</td>\n",
       "      <td>True</td>\n",
       "      <td>False</td>\n",
       "    </tr>\n",
       "    <tr>\n",
       "      <th>96</th>\n",
       "      <td>259</td>\n",
       "      <td>0.323476</td>\n",
       "      <td>0.099535</td>\n",
       "      <td>True</td>\n",
       "      <td>False</td>\n",
       "    </tr>\n",
       "    <tr>\n",
       "      <th>97</th>\n",
       "      <td>236</td>\n",
       "      <td>0.363536</td>\n",
       "      <td>0.116167</td>\n",
       "      <td>True</td>\n",
       "      <td>True</td>\n",
       "    </tr>\n",
       "    <tr>\n",
       "      <th>98</th>\n",
       "      <td>236</td>\n",
       "      <td>0.337193</td>\n",
       "      <td>0.122615</td>\n",
       "      <td>True</td>\n",
       "      <td>False</td>\n",
       "    </tr>\n",
       "    <tr>\n",
       "      <th>99</th>\n",
       "      <td>229</td>\n",
       "      <td>0.38485</td>\n",
       "      <td>0.128465</td>\n",
       "      <td>True</td>\n",
       "      <td>True</td>\n",
       "    </tr>\n",
       "  </tbody>\n",
       "</table>\n",
       "<p>100 rows × 5 columns</p>\n",
       "</div>"
      ],
      "text/plain": [
       "   topK      beta     alpha normalize_similarity implicit\n",
       "0   241  0.354672  0.116928                 True    False\n",
       "1   228  0.362581  0.105248                 True    False\n",
       "2   201  0.330738  0.108665                 True    False\n",
       "3   296  0.354428  0.109498                 True     True\n",
       "4   224  0.369823  0.090462                 True     True\n",
       "..  ...       ...       ...                  ...      ...\n",
       "95  268  0.392582  0.111366                 True    False\n",
       "96  259  0.323476  0.099535                 True    False\n",
       "97  236  0.363536  0.116167                 True     True\n",
       "98  236  0.337193  0.122615                 True    False\n",
       "99  229   0.38485  0.128465                 True     True\n",
       "\n",
       "[100 rows x 5 columns]"
      ]
     },
     "execution_count": 17,
     "metadata": {},
     "output_type": "execute_result"
    }
   ],
   "source": [
    "from Recommenders.DataIO import DataIO\n",
    "\n",
    "data_loader = DataIO(folder_path = output_folder_path)\n",
    "search_metadata = data_loader.load_data(recommender_class.RECOMMENDER_NAME + \"_metadata.zip\")\n",
    "\n",
    "hyperparameters_df = search_metadata[\"hyperparameters_df\"]\n",
    "hyperparameters_df"
   ]
  },
  {
   "cell_type": "code",
   "execution_count": 18,
   "metadata": {},
   "outputs": [
    {
     "data": {
      "text/html": [
       "<div>\n",
       "<style scoped>\n",
       "    .dataframe tbody tr th:only-of-type {\n",
       "        vertical-align: middle;\n",
       "    }\n",
       "\n",
       "    .dataframe tbody tr th {\n",
       "        vertical-align: top;\n",
       "    }\n",
       "\n",
       "    .dataframe thead th {\n",
       "        text-align: right;\n",
       "    }\n",
       "</style>\n",
       "<table border=\"1\" class=\"dataframe\">\n",
       "  <thead>\n",
       "    <tr style=\"text-align: right;\">\n",
       "      <th></th>\n",
       "      <th></th>\n",
       "      <th>PRECISION</th>\n",
       "      <th>PRECISION_RECALL_MIN_DEN</th>\n",
       "      <th>RECALL</th>\n",
       "      <th>MAP</th>\n",
       "      <th>MAP_MIN_DEN</th>\n",
       "      <th>MRR</th>\n",
       "      <th>NDCG</th>\n",
       "      <th>F1</th>\n",
       "      <th>HIT_RATE</th>\n",
       "      <th>ARHR_ALL_HITS</th>\n",
       "      <th>...</th>\n",
       "      <th>COVERAGE_USER</th>\n",
       "      <th>COVERAGE_USER_HIT</th>\n",
       "      <th>USERS_IN_GT</th>\n",
       "      <th>DIVERSITY_GINI</th>\n",
       "      <th>SHANNON_ENTROPY</th>\n",
       "      <th>RATIO_DIVERSITY_HERFINDAHL</th>\n",
       "      <th>RATIO_DIVERSITY_GINI</th>\n",
       "      <th>RATIO_SHANNON_ENTROPY</th>\n",
       "      <th>RATIO_AVERAGE_POPULARITY</th>\n",
       "      <th>RATIO_NOVELTY</th>\n",
       "    </tr>\n",
       "    <tr>\n",
       "      <th></th>\n",
       "      <th>cutoff</th>\n",
       "      <th></th>\n",
       "      <th></th>\n",
       "      <th></th>\n",
       "      <th></th>\n",
       "      <th></th>\n",
       "      <th></th>\n",
       "      <th></th>\n",
       "      <th></th>\n",
       "      <th></th>\n",
       "      <th></th>\n",
       "      <th></th>\n",
       "      <th></th>\n",
       "      <th></th>\n",
       "      <th></th>\n",
       "      <th></th>\n",
       "      <th></th>\n",
       "      <th></th>\n",
       "      <th></th>\n",
       "      <th></th>\n",
       "      <th></th>\n",
       "      <th></th>\n",
       "    </tr>\n",
       "  </thead>\n",
       "  <tbody>\n",
       "    <tr>\n",
       "      <th>0</th>\n",
       "      <th>10</th>\n",
       "      <td>0.044839</td>\n",
       "      <td>0.07204</td>\n",
       "      <td>0.066548</td>\n",
       "      <td>0.021672</td>\n",
       "      <td>0.03433</td>\n",
       "      <td>0.152646</td>\n",
       "      <td>NaN</td>\n",
       "      <td>0.053578</td>\n",
       "      <td>0.311197</td>\n",
       "      <td>0.180612</td>\n",
       "      <td>...</td>\n",
       "      <td>0.983185</td>\n",
       "      <td>0.305965</td>\n",
       "      <td>0.983185</td>\n",
       "      <td>0.064163</td>\n",
       "      <td>8.833638</td>\n",
       "      <td>0.989726</td>\n",
       "      <td>0.129156</td>\n",
       "      <td>0.672439</td>\n",
       "      <td>4.177427</td>\n",
       "      <td>0.404929</td>\n",
       "    </tr>\n",
       "    <tr>\n",
       "      <th>1</th>\n",
       "      <th>10</th>\n",
       "      <td>0.044819</td>\n",
       "      <td>0.071978</td>\n",
       "      <td>0.066483</td>\n",
       "      <td>0.021686</td>\n",
       "      <td>0.034329</td>\n",
       "      <td>0.15273</td>\n",
       "      <td>NaN</td>\n",
       "      <td>0.053543</td>\n",
       "      <td>0.311026</td>\n",
       "      <td>0.180705</td>\n",
       "      <td>...</td>\n",
       "      <td>0.983185</td>\n",
       "      <td>0.305796</td>\n",
       "      <td>0.983185</td>\n",
       "      <td>0.06638</td>\n",
       "      <td>8.915199</td>\n",
       "      <td>0.990249</td>\n",
       "      <td>0.133619</td>\n",
       "      <td>0.678647</td>\n",
       "      <td>4.091523</td>\n",
       "      <td>0.406789</td>\n",
       "    </tr>\n",
       "    <tr>\n",
       "      <th>2</th>\n",
       "      <th>10</th>\n",
       "      <td>0.044785</td>\n",
       "      <td>0.071933</td>\n",
       "      <td>0.066468</td>\n",
       "      <td>0.02162</td>\n",
       "      <td>0.034187</td>\n",
       "      <td>0.15254</td>\n",
       "      <td>NaN</td>\n",
       "      <td>0.053513</td>\n",
       "      <td>0.311344</td>\n",
       "      <td>0.180346</td>\n",
       "      <td>...</td>\n",
       "      <td>0.983185</td>\n",
       "      <td>0.306109</td>\n",
       "      <td>0.983185</td>\n",
       "      <td>0.060847</td>\n",
       "      <td>8.850459</td>\n",
       "      <td>0.99028</td>\n",
       "      <td>0.122482</td>\n",
       "      <td>0.673719</td>\n",
       "      <td>4.101855</td>\n",
       "      <td>0.405111</td>\n",
       "    </tr>\n",
       "    <tr>\n",
       "      <th>3</th>\n",
       "      <th>10</th>\n",
       "      <td>0.044931</td>\n",
       "      <td>0.07234</td>\n",
       "      <td>0.066855</td>\n",
       "      <td>0.021714</td>\n",
       "      <td>0.034443</td>\n",
       "      <td>0.153306</td>\n",
       "      <td>NaN</td>\n",
       "      <td>0.053744</td>\n",
       "      <td>0.31259</td>\n",
       "      <td>0.181216</td>\n",
       "      <td>...</td>\n",
       "      <td>0.983185</td>\n",
       "      <td>0.307334</td>\n",
       "      <td>0.983185</td>\n",
       "      <td>0.064198</td>\n",
       "      <td>8.740374</td>\n",
       "      <td>0.988812</td>\n",
       "      <td>0.129227</td>\n",
       "      <td>0.665339</td>\n",
       "      <td>4.326572</td>\n",
       "      <td>0.402825</td>\n",
       "    </tr>\n",
       "    <tr>\n",
       "      <th>4</th>\n",
       "      <th>10</th>\n",
       "      <td>0.044797</td>\n",
       "      <td>0.07195</td>\n",
       "      <td>0.066458</td>\n",
       "      <td>0.021692</td>\n",
       "      <td>0.034338</td>\n",
       "      <td>0.152829</td>\n",
       "      <td>NaN</td>\n",
       "      <td>0.053519</td>\n",
       "      <td>0.310733</td>\n",
       "      <td>0.180799</td>\n",
       "      <td>...</td>\n",
       "      <td>0.983185</td>\n",
       "      <td>0.305508</td>\n",
       "      <td>0.983185</td>\n",
       "      <td>0.068209</td>\n",
       "      <td>8.974556</td>\n",
       "      <td>0.990576</td>\n",
       "      <td>0.1373</td>\n",
       "      <td>0.683166</td>\n",
       "      <td>4.034461</td>\n",
       "      <td>0.408168</td>\n",
       "    </tr>\n",
       "    <tr>\n",
       "      <th>...</th>\n",
       "      <th>...</th>\n",
       "      <td>...</td>\n",
       "      <td>...</td>\n",
       "      <td>...</td>\n",
       "      <td>...</td>\n",
       "      <td>...</td>\n",
       "      <td>...</td>\n",
       "      <td>...</td>\n",
       "      <td>...</td>\n",
       "      <td>...</td>\n",
       "      <td>...</td>\n",
       "      <td>...</td>\n",
       "      <td>...</td>\n",
       "      <td>...</td>\n",
       "      <td>...</td>\n",
       "      <td>...</td>\n",
       "      <td>...</td>\n",
       "      <td>...</td>\n",
       "      <td>...</td>\n",
       "      <td>...</td>\n",
       "      <td>...</td>\n",
       "      <td>...</td>\n",
       "    </tr>\n",
       "    <tr>\n",
       "      <th>95</th>\n",
       "      <th>10</th>\n",
       "      <td>0.044853</td>\n",
       "      <td>0.07208</td>\n",
       "      <td>0.066595</td>\n",
       "      <td>0.021697</td>\n",
       "      <td>0.034317</td>\n",
       "      <td>0.152567</td>\n",
       "      <td>NaN</td>\n",
       "      <td>0.053603</td>\n",
       "      <td>0.3111</td>\n",
       "      <td>0.180685</td>\n",
       "      <td>...</td>\n",
       "      <td>0.983185</td>\n",
       "      <td>0.305869</td>\n",
       "      <td>0.983185</td>\n",
       "      <td>0.072634</td>\n",
       "      <td>8.972278</td>\n",
       "      <td>0.990117</td>\n",
       "      <td>0.146209</td>\n",
       "      <td>0.682992</td>\n",
       "      <td>4.098003</td>\n",
       "      <td>0.408376</td>\n",
       "    </tr>\n",
       "    <tr>\n",
       "      <th>96</th>\n",
       "      <th>10</th>\n",
       "      <td>0.044836</td>\n",
       "      <td>0.072221</td>\n",
       "      <td>0.066729</td>\n",
       "      <td>0.021684</td>\n",
       "      <td>0.034391</td>\n",
       "      <td>0.153131</td>\n",
       "      <td>NaN</td>\n",
       "      <td>0.053634</td>\n",
       "      <td>0.312321</td>\n",
       "      <td>0.180971</td>\n",
       "      <td>...</td>\n",
       "      <td>0.983185</td>\n",
       "      <td>0.30707</td>\n",
       "      <td>0.983185</td>\n",
       "      <td>0.057329</td>\n",
       "      <td>8.667816</td>\n",
       "      <td>0.98889</td>\n",
       "      <td>0.115401</td>\n",
       "      <td>0.659816</td>\n",
       "      <td>4.330667</td>\n",
       "      <td>0.400971</td>\n",
       "    </tr>\n",
       "    <tr>\n",
       "      <th>97</th>\n",
       "      <th>10</th>\n",
       "      <td>0.044878</td>\n",
       "      <td>0.072048</td>\n",
       "      <td>0.066555</td>\n",
       "      <td>0.021716</td>\n",
       "      <td>0.034368</td>\n",
       "      <td>0.152799</td>\n",
       "      <td>NaN</td>\n",
       "      <td>0.053608</td>\n",
       "      <td>0.311271</td>\n",
       "      <td>0.180883</td>\n",
       "      <td>...</td>\n",
       "      <td>0.983185</td>\n",
       "      <td>0.306037</td>\n",
       "      <td>0.983185</td>\n",
       "      <td>0.066241</td>\n",
       "      <td>8.887775</td>\n",
       "      <td>0.990012</td>\n",
       "      <td>0.133339</td>\n",
       "      <td>0.67656</td>\n",
       "      <td>4.129661</td>\n",
       "      <td>0.406199</td>\n",
       "    </tr>\n",
       "    <tr>\n",
       "      <th>98</th>\n",
       "      <th>10</th>\n",
       "      <td>0.04479</td>\n",
       "      <td>0.07212</td>\n",
       "      <td>0.066641</td>\n",
       "      <td>0.021682</td>\n",
       "      <td>0.034381</td>\n",
       "      <td>0.152969</td>\n",
       "      <td>NaN</td>\n",
       "      <td>0.053573</td>\n",
       "      <td>0.311466</td>\n",
       "      <td>0.18085</td>\n",
       "      <td>...</td>\n",
       "      <td>0.983185</td>\n",
       "      <td>0.306229</td>\n",
       "      <td>0.983185</td>\n",
       "      <td>0.060479</td>\n",
       "      <td>8.76058</td>\n",
       "      <td>0.989442</td>\n",
       "      <td>0.121741</td>\n",
       "      <td>0.666877</td>\n",
       "      <td>4.233988</td>\n",
       "      <td>0.403158</td>\n",
       "    </tr>\n",
       "    <tr>\n",
       "      <th>99</th>\n",
       "      <th>10</th>\n",
       "      <td>0.044863</td>\n",
       "      <td>0.072009</td>\n",
       "      <td>0.066513</td>\n",
       "      <td>0.02166</td>\n",
       "      <td>0.034239</td>\n",
       "      <td>0.152191</td>\n",
       "      <td>NaN</td>\n",
       "      <td>0.053584</td>\n",
       "      <td>0.311002</td>\n",
       "      <td>0.180271</td>\n",
       "      <td>...</td>\n",
       "      <td>0.983185</td>\n",
       "      <td>0.305772</td>\n",
       "      <td>0.983185</td>\n",
       "      <td>0.070846</td>\n",
       "      <td>8.990892</td>\n",
       "      <td>0.990482</td>\n",
       "      <td>0.142609</td>\n",
       "      <td>0.684409</td>\n",
       "      <td>4.039897</td>\n",
       "      <td>0.40873</td>\n",
       "    </tr>\n",
       "  </tbody>\n",
       "</table>\n",
       "<p>100 rows × 27 columns</p>\n",
       "</div>"
      ],
      "text/plain": [
       "          PRECISION PRECISION_RECALL_MIN_DEN    RECALL       MAP MAP_MIN_DEN  \\\n",
       "   cutoff                                                                      \n",
       "0  10      0.044839                  0.07204  0.066548  0.021672     0.03433   \n",
       "1  10      0.044819                 0.071978  0.066483  0.021686    0.034329   \n",
       "2  10      0.044785                 0.071933  0.066468   0.02162    0.034187   \n",
       "3  10      0.044931                  0.07234  0.066855  0.021714    0.034443   \n",
       "4  10      0.044797                  0.07195  0.066458  0.021692    0.034338   \n",
       "...             ...                      ...       ...       ...         ...   \n",
       "95 10      0.044853                  0.07208  0.066595  0.021697    0.034317   \n",
       "96 10      0.044836                 0.072221  0.066729  0.021684    0.034391   \n",
       "97 10      0.044878                 0.072048  0.066555  0.021716    0.034368   \n",
       "98 10       0.04479                  0.07212  0.066641  0.021682    0.034381   \n",
       "99 10      0.044863                 0.072009  0.066513   0.02166    0.034239   \n",
       "\n",
       "                MRR NDCG        F1  HIT_RATE ARHR_ALL_HITS  ... COVERAGE_USER  \\\n",
       "   cutoff                                                   ...                 \n",
       "0  10      0.152646  NaN  0.053578  0.311197      0.180612  ...      0.983185   \n",
       "1  10       0.15273  NaN  0.053543  0.311026      0.180705  ...      0.983185   \n",
       "2  10       0.15254  NaN  0.053513  0.311344      0.180346  ...      0.983185   \n",
       "3  10      0.153306  NaN  0.053744   0.31259      0.181216  ...      0.983185   \n",
       "4  10      0.152829  NaN  0.053519  0.310733      0.180799  ...      0.983185   \n",
       "...             ...  ...       ...       ...           ...  ...           ...   \n",
       "95 10      0.152567  NaN  0.053603    0.3111      0.180685  ...      0.983185   \n",
       "96 10      0.153131  NaN  0.053634  0.312321      0.180971  ...      0.983185   \n",
       "97 10      0.152799  NaN  0.053608  0.311271      0.180883  ...      0.983185   \n",
       "98 10      0.152969  NaN  0.053573  0.311466       0.18085  ...      0.983185   \n",
       "99 10      0.152191  NaN  0.053584  0.311002      0.180271  ...      0.983185   \n",
       "\n",
       "          COVERAGE_USER_HIT USERS_IN_GT DIVERSITY_GINI SHANNON_ENTROPY  \\\n",
       "   cutoff                                                                \n",
       "0  10              0.305965    0.983185       0.064163        8.833638   \n",
       "1  10              0.305796    0.983185        0.06638        8.915199   \n",
       "2  10              0.306109    0.983185       0.060847        8.850459   \n",
       "3  10              0.307334    0.983185       0.064198        8.740374   \n",
       "4  10              0.305508    0.983185       0.068209        8.974556   \n",
       "...                     ...         ...            ...             ...   \n",
       "95 10              0.305869    0.983185       0.072634        8.972278   \n",
       "96 10               0.30707    0.983185       0.057329        8.667816   \n",
       "97 10              0.306037    0.983185       0.066241        8.887775   \n",
       "98 10              0.306229    0.983185       0.060479         8.76058   \n",
       "99 10              0.305772    0.983185       0.070846        8.990892   \n",
       "\n",
       "          RATIO_DIVERSITY_HERFINDAHL RATIO_DIVERSITY_GINI  \\\n",
       "   cutoff                                                   \n",
       "0  10                       0.989726             0.129156   \n",
       "1  10                       0.990249             0.133619   \n",
       "2  10                        0.99028             0.122482   \n",
       "3  10                       0.988812             0.129227   \n",
       "4  10                       0.990576               0.1373   \n",
       "...                              ...                  ...   \n",
       "95 10                       0.990117             0.146209   \n",
       "96 10                        0.98889             0.115401   \n",
       "97 10                       0.990012             0.133339   \n",
       "98 10                       0.989442             0.121741   \n",
       "99 10                       0.990482             0.142609   \n",
       "\n",
       "          RATIO_SHANNON_ENTROPY RATIO_AVERAGE_POPULARITY RATIO_NOVELTY  \n",
       "   cutoff                                                               \n",
       "0  10                  0.672439                 4.177427      0.404929  \n",
       "1  10                  0.678647                 4.091523      0.406789  \n",
       "2  10                  0.673719                 4.101855      0.405111  \n",
       "3  10                  0.665339                 4.326572      0.402825  \n",
       "4  10                  0.683166                 4.034461      0.408168  \n",
       "...                         ...                      ...           ...  \n",
       "95 10                  0.682992                 4.098003      0.408376  \n",
       "96 10                  0.659816                 4.330667      0.400971  \n",
       "97 10                   0.67656                 4.129661      0.406199  \n",
       "98 10                  0.666877                 4.233988      0.403158  \n",
       "99 10                  0.684409                 4.039897       0.40873  \n",
       "\n",
       "[100 rows x 27 columns]"
      ]
     },
     "execution_count": 18,
     "metadata": {},
     "output_type": "execute_result"
    }
   ],
   "source": [
    "result_on_validation_df = search_metadata[\"result_on_validation_df\"]\n",
    "result_on_validation_df"
   ]
  },
  {
   "cell_type": "code",
   "execution_count": 19,
   "metadata": {},
   "outputs": [
    {
     "data": {
      "text/plain": [
       "{'topK': 236,\n",
       " 'beta': 0.3635362818322568,\n",
       " 'alpha': 0.11616698155699168,\n",
       " 'normalize_similarity': True,\n",
       " 'implicit': True}"
      ]
     },
     "execution_count": 19,
     "metadata": {},
     "output_type": "execute_result"
    }
   ],
   "source": [
    "best_hyperparameters = search_metadata[\"hyperparameters_best\"]\n",
    "best_hyperparameters"
   ]
  },
  {
   "cell_type": "code",
   "execution_count": 20,
   "metadata": {},
   "outputs": [],
   "source": [
    "import pandas as pd"
   ]
  },
  {
   "cell_type": "code",
   "execution_count": 21,
   "metadata": {},
   "outputs": [
    {
     "data": {
      "text/html": [
       "<div>\n",
       "<style scoped>\n",
       "    .dataframe tbody tr th:only-of-type {\n",
       "        vertical-align: middle;\n",
       "    }\n",
       "\n",
       "    .dataframe tbody tr th {\n",
       "        vertical-align: top;\n",
       "    }\n",
       "\n",
       "    .dataframe thead th {\n",
       "        text-align: right;\n",
       "    }\n",
       "</style>\n",
       "<table border=\"1\" class=\"dataframe\">\n",
       "  <thead>\n",
       "    <tr style=\"text-align: right;\">\n",
       "      <th></th>\n",
       "      <th>topK</th>\n",
       "      <th>beta</th>\n",
       "      <th>alpha</th>\n",
       "      <th>normalize_similarity</th>\n",
       "      <th>implicit</th>\n",
       "      <th>MAP</th>\n",
       "    </tr>\n",
       "  </thead>\n",
       "  <tbody>\n",
       "    <tr>\n",
       "      <th>97</th>\n",
       "      <td>236</td>\n",
       "      <td>0.363536</td>\n",
       "      <td>0.116167</td>\n",
       "      <td>True</td>\n",
       "      <td>True</td>\n",
       "      <td>0.021716</td>\n",
       "    </tr>\n",
       "    <tr>\n",
       "      <th>3</th>\n",
       "      <td>296</td>\n",
       "      <td>0.354428</td>\n",
       "      <td>0.109498</td>\n",
       "      <td>True</td>\n",
       "      <td>True</td>\n",
       "      <td>0.021714</td>\n",
       "    </tr>\n",
       "    <tr>\n",
       "      <th>61</th>\n",
       "      <td>302</td>\n",
       "      <td>0.373393</td>\n",
       "      <td>0.112264</td>\n",
       "      <td>True</td>\n",
       "      <td>False</td>\n",
       "      <td>0.021708</td>\n",
       "    </tr>\n",
       "    <tr>\n",
       "      <th>72</th>\n",
       "      <td>294</td>\n",
       "      <td>0.379515</td>\n",
       "      <td>0.092709</td>\n",
       "      <td>True</td>\n",
       "      <td>True</td>\n",
       "      <td>0.021705</td>\n",
       "    </tr>\n",
       "    <tr>\n",
       "      <th>8</th>\n",
       "      <td>228</td>\n",
       "      <td>0.365111</td>\n",
       "      <td>0.121685</td>\n",
       "      <td>True</td>\n",
       "      <td>False</td>\n",
       "      <td>0.021705</td>\n",
       "    </tr>\n",
       "    <tr>\n",
       "      <th>7</th>\n",
       "      <td>307</td>\n",
       "      <td>0.350671</td>\n",
       "      <td>0.108011</td>\n",
       "      <td>True</td>\n",
       "      <td>True</td>\n",
       "      <td>0.021704</td>\n",
       "    </tr>\n",
       "    <tr>\n",
       "      <th>34</th>\n",
       "      <td>302</td>\n",
       "      <td>0.368666</td>\n",
       "      <td>0.09</td>\n",
       "      <td>True</td>\n",
       "      <td>False</td>\n",
       "      <td>0.021704</td>\n",
       "    </tr>\n",
       "    <tr>\n",
       "      <th>93</th>\n",
       "      <td>232</td>\n",
       "      <td>0.380288</td>\n",
       "      <td>0.09</td>\n",
       "      <td>True</td>\n",
       "      <td>True</td>\n",
       "      <td>0.021703</td>\n",
       "    </tr>\n",
       "    <tr>\n",
       "      <th>5</th>\n",
       "      <td>256</td>\n",
       "      <td>0.36099</td>\n",
       "      <td>0.122925</td>\n",
       "      <td>True</td>\n",
       "      <td>True</td>\n",
       "      <td>0.021703</td>\n",
       "    </tr>\n",
       "    <tr>\n",
       "      <th>94</th>\n",
       "      <td>316</td>\n",
       "      <td>0.378944</td>\n",
       "      <td>0.109332</td>\n",
       "      <td>True</td>\n",
       "      <td>False</td>\n",
       "      <td>0.021703</td>\n",
       "    </tr>\n",
       "    <tr>\n",
       "      <th>26</th>\n",
       "      <td>236</td>\n",
       "      <td>0.373402</td>\n",
       "      <td>0.113545</td>\n",
       "      <td>True</td>\n",
       "      <td>True</td>\n",
       "      <td>0.021701</td>\n",
       "    </tr>\n",
       "    <tr>\n",
       "      <th>77</th>\n",
       "      <td>332</td>\n",
       "      <td>0.374198</td>\n",
       "      <td>0.090503</td>\n",
       "      <td>True</td>\n",
       "      <td>False</td>\n",
       "      <td>0.021698</td>\n",
       "    </tr>\n",
       "    <tr>\n",
       "      <th>95</th>\n",
       "      <td>268</td>\n",
       "      <td>0.392582</td>\n",
       "      <td>0.111366</td>\n",
       "      <td>True</td>\n",
       "      <td>False</td>\n",
       "      <td>0.021697</td>\n",
       "    </tr>\n",
       "    <tr>\n",
       "      <th>25</th>\n",
       "      <td>333</td>\n",
       "      <td>0.378495</td>\n",
       "      <td>0.12587</td>\n",
       "      <td>True</td>\n",
       "      <td>True</td>\n",
       "      <td>0.021697</td>\n",
       "    </tr>\n",
       "    <tr>\n",
       "      <th>90</th>\n",
       "      <td>310</td>\n",
       "      <td>0.38288</td>\n",
       "      <td>0.09</td>\n",
       "      <td>True</td>\n",
       "      <td>False</td>\n",
       "      <td>0.021696</td>\n",
       "    </tr>\n",
       "    <tr>\n",
       "      <th>63</th>\n",
       "      <td>283</td>\n",
       "      <td>0.384847</td>\n",
       "      <td>0.09</td>\n",
       "      <td>True</td>\n",
       "      <td>False</td>\n",
       "      <td>0.021696</td>\n",
       "    </tr>\n",
       "    <tr>\n",
       "      <th>70</th>\n",
       "      <td>250</td>\n",
       "      <td>0.364609</td>\n",
       "      <td>0.106397</td>\n",
       "      <td>True</td>\n",
       "      <td>False</td>\n",
       "      <td>0.021695</td>\n",
       "    </tr>\n",
       "    <tr>\n",
       "      <th>53</th>\n",
       "      <td>303</td>\n",
       "      <td>0.355017</td>\n",
       "      <td>0.103845</td>\n",
       "      <td>True</td>\n",
       "      <td>True</td>\n",
       "      <td>0.021695</td>\n",
       "    </tr>\n",
       "    <tr>\n",
       "      <th>23</th>\n",
       "      <td>309</td>\n",
       "      <td>0.397165</td>\n",
       "      <td>0.094542</td>\n",
       "      <td>True</td>\n",
       "      <td>True</td>\n",
       "      <td>0.021693</td>\n",
       "    </tr>\n",
       "    <tr>\n",
       "      <th>4</th>\n",
       "      <td>224</td>\n",
       "      <td>0.369823</td>\n",
       "      <td>0.090462</td>\n",
       "      <td>True</td>\n",
       "      <td>True</td>\n",
       "      <td>0.021692</td>\n",
       "    </tr>\n",
       "    <tr>\n",
       "      <th>14</th>\n",
       "      <td>328</td>\n",
       "      <td>0.393273</td>\n",
       "      <td>0.098681</td>\n",
       "      <td>True</td>\n",
       "      <td>True</td>\n",
       "      <td>0.021691</td>\n",
       "    </tr>\n",
       "    <tr>\n",
       "      <th>48</th>\n",
       "      <td>300</td>\n",
       "      <td>0.354128</td>\n",
       "      <td>0.09</td>\n",
       "      <td>True</td>\n",
       "      <td>True</td>\n",
       "      <td>0.021691</td>\n",
       "    </tr>\n",
       "    <tr>\n",
       "      <th>64</th>\n",
       "      <td>307</td>\n",
       "      <td>0.394322</td>\n",
       "      <td>0.106224</td>\n",
       "      <td>True</td>\n",
       "      <td>True</td>\n",
       "      <td>0.021689</td>\n",
       "    </tr>\n",
       "    <tr>\n",
       "      <th>54</th>\n",
       "      <td>308</td>\n",
       "      <td>0.350453</td>\n",
       "      <td>0.099285</td>\n",
       "      <td>True</td>\n",
       "      <td>False</td>\n",
       "      <td>0.021688</td>\n",
       "    </tr>\n",
       "    <tr>\n",
       "      <th>51</th>\n",
       "      <td>313</td>\n",
       "      <td>0.35703</td>\n",
       "      <td>0.121133</td>\n",
       "      <td>True</td>\n",
       "      <td>True</td>\n",
       "      <td>0.021688</td>\n",
       "    </tr>\n",
       "    <tr>\n",
       "      <th>47</th>\n",
       "      <td>245</td>\n",
       "      <td>0.318469</td>\n",
       "      <td>0.092961</td>\n",
       "      <td>True</td>\n",
       "      <td>True</td>\n",
       "      <td>0.021688</td>\n",
       "    </tr>\n",
       "    <tr>\n",
       "      <th>1</th>\n",
       "      <td>228</td>\n",
       "      <td>0.362581</td>\n",
       "      <td>0.105248</td>\n",
       "      <td>True</td>\n",
       "      <td>False</td>\n",
       "      <td>0.021686</td>\n",
       "    </tr>\n",
       "    <tr>\n",
       "      <th>41</th>\n",
       "      <td>219</td>\n",
       "      <td>0.376478</td>\n",
       "      <td>0.13</td>\n",
       "      <td>True</td>\n",
       "      <td>True</td>\n",
       "      <td>0.021684</td>\n",
       "    </tr>\n",
       "    <tr>\n",
       "      <th>96</th>\n",
       "      <td>259</td>\n",
       "      <td>0.323476</td>\n",
       "      <td>0.099535</td>\n",
       "      <td>True</td>\n",
       "      <td>False</td>\n",
       "      <td>0.021684</td>\n",
       "    </tr>\n",
       "    <tr>\n",
       "      <th>30</th>\n",
       "      <td>294</td>\n",
       "      <td>0.334794</td>\n",
       "      <td>0.09048</td>\n",
       "      <td>True</td>\n",
       "      <td>False</td>\n",
       "      <td>0.021683</td>\n",
       "    </tr>\n",
       "  </tbody>\n",
       "</table>\n",
       "</div>"
      ],
      "text/plain": [
       "   topK      beta     alpha normalize_similarity implicit       MAP\n",
       "97  236  0.363536  0.116167                 True     True  0.021716\n",
       "3   296  0.354428  0.109498                 True     True  0.021714\n",
       "61  302  0.373393  0.112264                 True    False  0.021708\n",
       "72  294  0.379515  0.092709                 True     True  0.021705\n",
       "8   228  0.365111  0.121685                 True    False  0.021705\n",
       "7   307  0.350671  0.108011                 True     True  0.021704\n",
       "34  302  0.368666      0.09                 True    False  0.021704\n",
       "93  232  0.380288      0.09                 True     True  0.021703\n",
       "5   256   0.36099  0.122925                 True     True  0.021703\n",
       "94  316  0.378944  0.109332                 True    False  0.021703\n",
       "26  236  0.373402  0.113545                 True     True  0.021701\n",
       "77  332  0.374198  0.090503                 True    False  0.021698\n",
       "95  268  0.392582  0.111366                 True    False  0.021697\n",
       "25  333  0.378495   0.12587                 True     True  0.021697\n",
       "90  310   0.38288      0.09                 True    False  0.021696\n",
       "63  283  0.384847      0.09                 True    False  0.021696\n",
       "70  250  0.364609  0.106397                 True    False  0.021695\n",
       "53  303  0.355017  0.103845                 True     True  0.021695\n",
       "23  309  0.397165  0.094542                 True     True  0.021693\n",
       "4   224  0.369823  0.090462                 True     True  0.021692\n",
       "14  328  0.393273  0.098681                 True     True  0.021691\n",
       "48  300  0.354128      0.09                 True     True  0.021691\n",
       "64  307  0.394322  0.106224                 True     True  0.021689\n",
       "54  308  0.350453  0.099285                 True    False  0.021688\n",
       "51  313   0.35703  0.121133                 True     True  0.021688\n",
       "47  245  0.318469  0.092961                 True     True  0.021688\n",
       "1   228  0.362581  0.105248                 True    False  0.021686\n",
       "41  219  0.376478      0.13                 True     True  0.021684\n",
       "96  259  0.323476  0.099535                 True    False  0.021684\n",
       "30  294  0.334794   0.09048                 True    False  0.021683"
      ]
     },
     "execution_count": 21,
     "metadata": {},
     "output_type": "execute_result"
    }
   ],
   "source": [
    "pd.merge(search_metadata[\"hyperparameters_df\"], pd.Series(pd.Series(search_metadata[\"result_on_validation_df\"][\"MAP\"]).reset_index()[\"MAP\"]), left_index=True, right_index=True).sort_values(by=[\"MAP\"], ascending=False).head(30)"
   ]
  },
  {
   "cell_type": "code",
   "execution_count": 22,
   "metadata": {},
   "outputs": [],
   "source": [
    "params = {'topK': 236,\n",
    " 'beta': 0.3635362818322568,\n",
    " 'alpha': 0.11616698155699168,\n",
    " 'normalize_similarity': True,\n",
    " 'implicit': True}\n",
    "\n"
   ]
  },
  {
   "cell_type": "code",
   "execution_count": null,
   "metadata": {},
   "outputs": [],
   "source": [
    "recommender = RP3betaRecommender(urm_train_summed)\n",
    "\n",
    "evaluator_test_"
   ]
  }
 ],
 "metadata": {
  "kernelspec": {
   "display_name": "RecSysFramework",
   "language": "python",
   "name": "python3"
  },
  "language_info": {
   "codemirror_mode": {
    "name": "ipython",
    "version": 3
   },
   "file_extension": ".py",
   "mimetype": "text/x-python",
   "name": "python",
   "nbconvert_exporter": "python",
   "pygments_lexer": "ipython3",
   "version": "3.8.15"
  },
  "orig_nbformat": 4,
  "vscode": {
   "interpreter": {
    "hash": "ad0eb6aa0a3b2e85d26f04c6d71f6f545c28d89316397cbee5e74840224886a7"
   }
  }
 },
 "nbformat": 4,
 "nbformat_minor": 2
}
