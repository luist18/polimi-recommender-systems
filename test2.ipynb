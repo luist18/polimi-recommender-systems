{
 "cells": [
  {
   "cell_type": "code",
   "execution_count": 5,
   "metadata": {},
   "outputs": [
    {
     "name": "stdout",
     "output_type": "stream",
     "text": [
      "Unzipping dataset...\n",
      "Loading interactions...\n",
      "Loading features...\n",
      "Loading target ids...\n",
      "Cleaning up...\n",
      "Building URM and ICM with criteria ONE_INTERACTED...\n",
      "Warning: 1 (0.00 %) of 41629 users have no train items\n",
      "Warning: 731 (1.76 %) of 41629 users have no sampled items\n",
      "EvaluatorHoldout: Ignoring 731 ( 1.8%) Users that have less than 1 test interactions\n",
      "Dataset loaded successfully with URM type: ONE_INTERACTED\n",
      "SLIMElasticNetRecommender: URM Detected 1 ( 0.0%) users with no interactions.\n",
      "Fitting model MultiThreadSLIM_SLIMElasticNetRecommender...\n",
      "Fit params: {'topK': 20000, 'l1_ratio': 1.0, 'alpha': 0.0002, 'workers': 8}\n"
     ]
    },
    {
     "name": "stderr",
     "output_type": "stream",
     "text": [
      "100%|█████████▉| 19624/19630 [01:21<00:00, 241.03it/s]\n"
     ]
    },
    {
     "name": "stdout",
     "output_type": "stream",
     "text": [
      "Computing evaluation...\n",
      "EvaluatorHoldout: Processed 40898 (100.0%) in 16.66 sec. Users per second: 2455\n",
      "MAP@10: 0.0308620\n"
     ]
    }
   ],
   "source": [
    "# importing this library so the seed stays the same\n",
    "import inspect\n",
    "\n",
    "import Utils.not_random\n",
    "import Utils.submission as submission\n",
    "from Data.RecSys2022 import RecSys2022, RecSys2022URMType\n",
    "from Data_manager.split_functions.split_train_validation_random_holdout import \\\n",
    "    split_train_in_two_percentage_global_sample\n",
    "from Evaluation.Evaluator import EvaluatorHoldout\n",
    "from Recommenders.SLIM.SLIMElasticNetRecommender import \\\n",
    "    MultiThreadSLIM_SLIMElasticNetRecommender\n",
    "\n",
    "dataset = RecSys2022(feature_dummies=False)\n",
    "dataset.build(type=RecSys2022URMType.ONE_INTERACTED)\n",
    "\n",
    "urm = dataset.get_urm()\n",
    "icm = dataset.get_icm()\n",
    "\n",
    "urm_type = dataset.get_urm_type()\n",
    "\n",
    "urm_train, urm_validation = split_train_in_two_percentage_global_sample(\n",
    "    urm, train_percentage=0.8)\n",
    "\n",
    "evaluator_validation = EvaluatorHoldout(urm_validation, cutoff_list=[10])\n",
    "\n",
    "print('Dataset loaded successfully with URM type:', urm_type.name)\n",
    "\n",
    "model = MultiThreadSLIM_SLIMElasticNetRecommender(urm_train)\n",
    "\n",
    "fit_params = {'topK': 25000, 'l1_ratio': 1.0, 'alpha': 2e-4, 'workers': 8}\n",
    "\n",
    "print(f'Fitting model {model.__class__.__name__}...')\n",
    "print(f'Fit params: {fit_params}')\n",
    "model.fit(**fit_params)\n",
    "\n",
    "print('Computing evaluation...')\n",
    "\n",
    "result_df, _ = evaluator_validation.evaluateRecommender(model)\n",
    "\n",
    "map_value = result_df.loc[10][\"MAP\"]\n",
    "print(f'MAP@10: {map_value:.7f}')\n"
   ]
  },
  {
   "cell_type": "code",
   "execution_count": null,
   "metadata": {},
   "outputs": [],
   "source": []
  }
 ],
 "metadata": {
  "kernelspec": {
   "display_name": "RecSysFramework",
   "language": "python",
   "name": "python3"
  },
  "language_info": {
   "codemirror_mode": {
    "name": "ipython",
    "version": 3
   },
   "file_extension": ".py",
   "mimetype": "text/x-python",
   "name": "python",
   "nbconvert_exporter": "python",
   "pygments_lexer": "ipython3",
   "version": "3.8.15 (default, Nov 10 2022, 13:17:42) \n[Clang 14.0.6 ]"
  },
  "orig_nbformat": 4,
  "vscode": {
   "interpreter": {
    "hash": "ad0eb6aa0a3b2e85d26f04c6d71f6f545c28d89316397cbee5e74840224886a7"
   }
  }
 },
 "nbformat": 4,
 "nbformat_minor": 2
}
