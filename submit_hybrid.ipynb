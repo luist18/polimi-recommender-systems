{
 "cells": [
  {
   "cell_type": "code",
   "execution_count": 2,
   "metadata": {},
   "outputs": [
    {
     "name": "stdout",
     "output_type": "stream",
     "text": [
      "Unzipping dataset...\n",
      "Loading interactions...\n",
      "Loading features...\n",
      "Loading target ids...\n",
      "Cleaning up...\n",
      "Building URM and ICM with criteria ONE_INTERACTED...\n",
      "Warning: 773 (1.86 %) of 41629 users have no sampled items\n",
      "EvaluatorHoldout: Ignoring 773 ( 1.9%) Users that have less than 1 test interactions\n",
      "Ignoring 773 ( 1.9%) Users that have less than 1 test interactions\n",
      "Dataset loaded successfully with URM type: ONE_INTERACTED\n",
      "RP3betaRecommender: Similarity column 19630 (100.0%), 4432.86 column/sec. Elapsed time 4.43 sec\n"
     ]
    },
    {
     "name": "stderr",
     "output_type": "stream",
     "text": []
    },
    {
     "name": "stdout",
     "output_type": "stream",
     "text": [
      "Fitting model Hybrid...\n",
      "Fit params: {'epsilon': 0.55, 'norm': inf}\n",
      "Computing evaluation...\n"
     ]
    },
    {
     "name": "stderr",
     "output_type": "stream",
     "text": [
      "100%|█████████▉| 19624/19630 [01:07<00:00, 290.19it/s]\n",
      "100%|█████████▉| 19624/19630 [03:49<00:00, 85.61it/s] \n"
     ]
    },
    {
     "name": "stdout",
     "output_type": "stream",
     "text": [
      "EvaluatorHoldout: Processed 40856 (100.0%) in 19.55 sec. Users per second: 2090\n"
     ]
    },
    {
     "name": "stderr",
     "output_type": "stream",
     "text": [
      "  0%|          | 165/40856 [00:00<00:24, 1642.97it/s]"
     ]
    },
    {
     "name": "stdout",
     "output_type": "stream",
     "text": [
      "MAP@10: 0.0310489\n"
     ]
    },
    {
     "name": "stderr",
     "output_type": "stream",
     "text": [
      "100%|██████████| 40856/40856 [00:24<00:00, 1697.02it/s]"
     ]
    },
    {
     "name": "stdout",
     "output_type": "stream",
     "text": [
      "MAP@10 ev2: 0.0310190\n"
     ]
    },
    {
     "name": "stderr",
     "output_type": "stream",
     "text": [
      "\n"
     ]
    }
   ],
   "source": [
    "import Utils.not_random\n",
    "from Data.RecSys2022 import RecSys2022URMType\n",
    "from hybrid import Hybrid\n",
    "from run_algorithm import run_algorithm, test_algorithm\n",
    "\n",
    "import numpy as np\n",
    "\n",
    "model_class = Hybrid\n",
    "model_params = {'epsilon': 0.55, 'norm': np.inf}\n",
    "\n",
    "test_algorithm(model_class, fit_params=model_params, urm_type=RecSys2022URMType.ONE_INTERACTED, dummies=False)"
   ]
  },
  {
   "cell_type": "code",
   "execution_count": null,
   "metadata": {},
   "outputs": [],
   "source": []
  }
 ],
 "metadata": {
  "kernelspec": {
   "display_name": "recsys2022",
   "language": "python",
   "name": "python3"
  },
  "language_info": {
   "codemirror_mode": {
    "name": "ipython",
    "version": 3
   },
   "file_extension": ".py",
   "mimetype": "text/x-python",
   "name": "python",
   "nbconvert_exporter": "python",
   "pygments_lexer": "ipython3",
   "version": "3.8.15"
  },
  "orig_nbformat": 4,
  "vscode": {
   "interpreter": {
    "hash": "3f9aa6f7ad69de8dc8f39b12c896330b86175efbd73be4d672e3a40e0e66fc97"
   }
  }
 },
 "nbformat": 4,
 "nbformat_minor": 2
}
