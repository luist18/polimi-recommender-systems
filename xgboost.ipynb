{
 "cells": [
  {
   "cell_type": "code",
   "execution_count": 22,
   "metadata": {},
   "outputs": [],
   "source": [
    "import Utils.not_random\n",
    "import Utils.submission as submission\n",
    "from Data.RecSys2022 import RecSys2022, RecSys2022URMType\n",
    "from Data_manager.split_functions.split_train_validation_random_holdout import \\\n",
    "    split_train_in_two_percentage_global_sample\n",
    "from Evaluation.Evaluator import EvaluatorHoldout"
   ]
  },
  {
   "cell_type": "code",
   "execution_count": 23,
   "metadata": {},
   "outputs": [
    {
     "name": "stdout",
     "output_type": "stream",
     "text": [
      "Unzipping dataset...\n",
      "Loading interactions...\n",
      "Loading features...\n",
      "Loading target ids...\n",
      "Cleaning up...\n",
      "Building URM and ICM with criteria ONE_INTERACTED...\n"
     ]
    }
   ],
   "source": [
    "dataset = RecSys2022(feature_dummies=True)\n",
    "dataset.build(type=RecSys2022URMType.ONE_INTERACTED)\n",
    "\n",
    "urm = dataset.get_urm()\n",
    "icm = dataset.get_icm()"
   ]
  },
  {
   "cell_type": "code",
   "execution_count": 24,
   "metadata": {},
   "outputs": [
    {
     "name": "stdout",
     "output_type": "stream",
     "text": [
      "Warning: 733 (1.76 %) of 41629 users have no sampled items\n"
     ]
    }
   ],
   "source": [
    "urm_train, urm_test = split_train_in_two_percentage_global_sample(urm, train_percentage = 0.8)\n",
    "#urm_train, urm_validation = split_train_in_two_percentage_global_sample(urm_train, train_percentage = 0.8)"
   ]
  },
  {
   "cell_type": "code",
   "execution_count": 25,
   "metadata": {},
   "outputs": [
    {
     "name": "stdout",
     "output_type": "stream",
     "text": [
      "EvaluatorHoldout: Ignoring 733 ( 1.8%) Users that have less than 1 test interactions\n"
     ]
    }
   ],
   "source": [
    "from Evaluation.Evaluator import EvaluatorHoldout\n",
    "\n",
    "cutoff_list=[10]\n",
    "\n",
    "#evaluator_validation = EvaluatorHoldout(urm_validation, cutoff_list=cutoff_list)\n",
    "evaluator_test = EvaluatorHoldout(urm_test, cutoff_list=cutoff_list)"
   ]
  },
  {
   "cell_type": "code",
   "execution_count": 26,
   "metadata": {},
   "outputs": [
    {
     "name": "stderr",
     "output_type": "stream",
     "text": [
      "100%|█████████▉| 19536/19630 [00:55<00:00, 621.64it/s]"
     ]
    }
   ],
   "source": [
    "import scipy.sparse as sps\n",
    "from Recommenders.SLIM.SLIMElasticNetRecommender import MultiThreadSLIM_SLIMElasticNetRecommender\n",
    "\n",
    "candidate_generator_recommender = MultiThreadSLIM_SLIMElasticNetRecommender(urm_train)\n",
    "candidate_generator_recommender.fit(topK=25000, l1_ratio=1.0, alpha=2e-4, workers=8)"
   ]
  },
  {
   "cell_type": "code",
   "execution_count": 27,
   "metadata": {},
   "outputs": [
    {
     "name": "stderr",
     "output_type": "stream",
     "text": [
      "100%|█████████▉| 19624/19630 [00:59<00:00, 331.25it/s]\n"
     ]
    },
    {
     "name": "stdout",
     "output_type": "stream",
     "text": [
      "EvaluatorHoldout: Processed 40896 (100.0%) in 15.29 sec. Users per second: 2674\n",
      "MAP@10: 0.03123412155028788\n"
     ]
    }
   ],
   "source": [
    "result_df, _ = evaluator_test.evaluateRecommender(candidate_generator_recommender)\n",
    "print(f'MAP@10: {result_df.loc[10][\"MAP\"]}')"
   ]
  },
  {
   "cell_type": "code",
   "execution_count": 28,
   "metadata": {},
   "outputs": [
    {
     "name": "stdout",
     "output_type": "stream",
     "text": [
      "Requirement already satisfied: xgboost in /Users/luistavares/opt/anaconda3/envs/recsys2022/lib/python3.8/site-packages (1.7.3)\n",
      "Requirement already satisfied: scipy in /Users/luistavares/opt/anaconda3/envs/recsys2022/lib/python3.8/site-packages (from xgboost) (1.6.2)\n",
      "Requirement already satisfied: numpy in /Users/luistavares/opt/anaconda3/envs/recsys2022/lib/python3.8/site-packages (from xgboost) (1.21.5)\n",
      "Note: you may need to restart the kernel to use updated packages.\n"
     ]
    }
   ],
   "source": [
    "%pip install xgboost"
   ]
  },
  {
   "cell_type": "code",
   "execution_count": 29,
   "metadata": {},
   "outputs": [],
   "source": [
    "import pandas as pd\n",
    "from tqdm import tqdm\n",
    "import scipy.sparse as sps\n",
    "import numpy as np\n",
    "from xgboost import XGBRanker\n",
    "\n",
    "from Recommenders.GraphBased.RP3betaRecommender import RP3betaRecommender\n",
    "from Recommenders.KNN.ItemKNN_CFCBF_Hybrid_Recommender import ItemKNN_CFCBF_Hybrid_Recommender"
   ]
  },
  {
   "cell_type": "code",
   "execution_count": 33,
   "metadata": {},
   "outputs": [],
   "source": [
    "\n",
    "from Recommenders.BaseRecommender import BaseRecommender\n",
    "\n",
    "class XGBoostRecommender(BaseRecommender):\n",
    "    \n",
    "    def __init__(self, urm, urm_test, icm):\n",
    "        super(XGBoostRecommender, self).__init__(urm, verbose = True)\n",
    "        \n",
    "        urm_train = self.URM_train\n",
    "        \n",
    "        candidate_generator_recommender = MultiThreadSLIM_SLIMElasticNetRecommender(urm_train)\n",
    "        candidate_generator_recommender.fit(topK=25000, l1_ratio=1.0, alpha=2e-4, workers=8)\n",
    "        \n",
    "        n_users, n_items = urm_train.shape\n",
    "\n",
    "        training_dataframe = pd.DataFrame(index=range(0,n_users), columns = [\"ItemID\"])\n",
    "        training_dataframe.index.name='UserID'\n",
    "        \n",
    "        for user_id in tqdm(range(n_users)):    \n",
    "            recommendations = candidate_generator_recommender.recommend(user_id, cutoff = 20)\n",
    "            training_dataframe.loc[user_id, \"ItemID\"] = recommendations\n",
    "        \n",
    "        recommendations_dataframe = training_dataframe.copy()\n",
    "        training_dataframe = training_dataframe.explode(\"ItemID\")\n",
    "        urm_validation_coo = sps.coo_matrix(urm_test)\n",
    "\n",
    "        correct_recommendations = pd.DataFrame({\"UserID\": urm_validation_coo.row,\n",
    "                                                \"ItemID\": urm_validation_coo.col})\n",
    "        \n",
    "        training_dataframe = pd.merge(training_dataframe, correct_recommendations, on=['UserID','ItemID'], how='left', indicator='Exist')\n",
    "        \n",
    "        training_dataframe[\"Label\"] = training_dataframe[\"Exist\"] == \"both\"\n",
    "        training_dataframe.drop(columns = ['Exist'], inplace=True)\n",
    "        \n",
    "        rp3 = RP3betaRecommender(urm_train)\n",
    "        rp3.fit(alpha=0.719514, beta=0.229898, min_rating=0, topK=80, implicit=True, normalize_similarity=True)\n",
    "\n",
    "        knn = ItemKNN_CFCBF_Hybrid_Recommender(urm_train, icm)\n",
    "        knn.fit(topK=100, shrink=75, normalize=True, feature_weighting='TF-IDF', ICM_bias=0.5)\n",
    "\n",
    "        other_algorithms = {\n",
    "            \"rp3\": rp3,\n",
    "            \"knn\": knn,\n",
    "        }\n",
    "        \n",
    "        training_dataframe = training_dataframe.set_index('UserID')\n",
    "\n",
    "        for user_id in tqdm(range(n_users)):  \n",
    "            for rec_label, rec_instance in other_algorithms.items():\n",
    "                \n",
    "                item_list = training_dataframe.loc[user_id, \"ItemID\"].values.tolist()\n",
    "                \n",
    "                all_item_scores = rec_instance._compute_item_score([user_id], items_to_compute = item_list)\n",
    "\n",
    "                training_dataframe.loc[user_id, rec_label] = all_item_scores[0, item_list] \n",
    "\n",
    "        training_dataframe = training_dataframe.reset_index()\n",
    "        training_dataframe = training_dataframe.rename(columns = {\"index\": \"UserID\"})\n",
    "        \n",
    "        item_popularity = np.ediff1d(sps.csc_matrix(urm_train).indptr)\n",
    "\n",
    "        training_dataframe['item_popularity'] = item_popularity[training_dataframe[\"ItemID\"].values.astype(int)]\n",
    "\n",
    "        user_popularity = np.ediff1d(sps.csr_matrix(urm_train).indptr)\n",
    "\n",
    "        training_dataframe['user_profile_len'] = user_popularity[training_dataframe[\"UserID\"].values.astype(int)]\n",
    "\n",
    "        #features_df = pd.DataFrame.sparse.from_spmatrix(icm)\n",
    "        \n",
    "        #training_dataframe = training_dataframe.set_index('ItemID').join(features_df, how='inner')\n",
    "        #training_dataframe = training_dataframe.reset_index()\n",
    "        #training_dataframe = training_dataframe.rename(columns = {\"index\": \"ItemID\"})\n",
    "        training_dataframe = training_dataframe.sort_values(\"UserID\").reset_index()\n",
    "        training_dataframe.drop(columns = ['index'], inplace=True)\n",
    "        \n",
    "        groups = training_dataframe.groupby(\"UserID\").size().values\n",
    "        \n",
    "        y_train = training_dataframe[\"Label\"]\n",
    "        X_train = training_dataframe.drop(columns=[\"Label\"])\n",
    "        \n",
    "        X_train[\"UserID\"] = X_train[\"UserID\"].astype(\"category\")\n",
    "        X_train[\"ItemID\"] = X_train[\"ItemID\"].astype(\"category\")\n",
    "        \n",
    "        self.groups = groups\n",
    "        self.y_train = y_train\n",
    "        self.X_train = X_train\n",
    "        self.recommendations_dataframe = recommendations_dataframe\n",
    "        \n",
    "    def fit(self):\n",
    "        n_estimators = 50\n",
    "        learning_rate = 1e-1\n",
    "        reg_alpha = 1e-1\n",
    "        reg_lambda = 1e-1\n",
    "        max_depth = 5\n",
    "        max_leaves = 0\n",
    "        grow_policy = \"depthwise\"\n",
    "        objective = \"pairwise\"\n",
    "        booster = \"gbtree\"\n",
    "        use_user_profile = False\n",
    "        random_seed = None\n",
    "\n",
    "        XGB_model = XGBRanker(objective='rank:{}'.format(objective),\n",
    "                            n_estimators = int(n_estimators),\n",
    "                            random_state = random_seed,\n",
    "                            learning_rate = learning_rate,\n",
    "                            reg_alpha = reg_alpha,\n",
    "                            reg_lambda = reg_lambda,\n",
    "                            max_depth = int(max_depth),\n",
    "                            max_leaves = int(max_leaves),\n",
    "                            grow_policy = grow_policy,\n",
    "                            verbosity = 2, # 2 if self.verbose else 0,\n",
    "                            booster = booster,\n",
    "                            enable_categorical = True,\n",
    "                            tree_method = \"hist\",  # Supported tree methods are `gpu_hist`, `approx`, and `hist`.\n",
    "                            )\n",
    "\n",
    "        XGB_model.fit(self.X_train,\n",
    "                self.y_train,\n",
    "                group=self.groups,\n",
    "                verbose=True)\n",
    "        \n",
    "        self.model = XGB_model\n",
    "    \n",
    "    def _get_item_values(self, user_id, model, recommendations_dataframe, X_train):\n",
    "        values = model.predict(X_train[X_train[\"UserID\"] == user_id])\n",
    "        \n",
    "        items = []\n",
    "        \n",
    "        while len(items) < 10:\n",
    "            index = np.argmax(values)\n",
    "            item = recommendations_dataframe.loc[user_id, \"ItemID\"][index]\n",
    "            items.append(item)\n",
    "            values[index] = -np.inf\n",
    "\n",
    "        return items\n",
    "    \n",
    "    def recommend(self, user_id_array, cutoff = None, remove_seen_flag=True, items_to_compute = None,\n",
    "                  remove_top_pop_flag = False, remove_custom_items_flag = False, return_scores = False):\n",
    "        recommendations = []\n",
    "        \n",
    "        for user_id in user_id_array:\n",
    "            items = self._get_item_values(user_id, self.model, self.recommendations_dataframe, self.X_train)\n",
    "            recommendations.append(items)\n",
    "        \n",
    "        return recommendations"
   ]
  },
  {
   "cell_type": "code",
   "execution_count": 34,
   "metadata": {},
   "outputs": [
    {
     "name": "stderr",
     "output_type": "stream",
     "text": [
      "100%|█████████▉| 19624/19630 [00:57<00:00, 340.94it/s]\n",
      "100%|██████████| 41629/41629 [00:15<00:00, 2755.70it/s]\n"
     ]
    },
    {
     "name": "stdout",
     "output_type": "stream",
     "text": [
      "RP3betaRecommender: Similarity column 19630 (100.0%), 4655.47 column/sec. Elapsed time 4.22 sec\n",
      "Similarity column 19630 (100.0%), 4255.95 column/sec. Elapsed time 4.61 sec\n"
     ]
    },
    {
     "name": "stderr",
     "output_type": "stream",
     "text": [
      "100%|██████████| 41629/41629 [02:31<00:00, 275.53it/s]\n"
     ]
    }
   ],
   "source": [
    "xgmodel = XGBoostRecommender(urm_train, urm_test, icm)"
   ]
  },
  {
   "cell_type": "code",
   "execution_count": 37,
   "metadata": {},
   "outputs": [
    {
     "name": "stdout",
     "output_type": "stream",
     "text": [
      "[01:09:25] INFO: /Users/runner/work/xgboost/xgboost/python-package/build/temp.macosx-10.9-x86_64-cpython-38/xgboost/src/gbm/gbtree.cc:179: Tree method is selected to be 'hist', which uses a single updater grow_quantile_histmaker.\n",
      "[01:09:25] INFO: /Users/runner/work/xgboost/xgboost/python-package/build/temp.macosx-10.9-x86_64-cpython-38/xgboost/src/gbm/gbtree.cc:179: Tree method is selected to be 'hist', which uses a single updater grow_quantile_histmaker.\n",
      "[01:09:25] INFO: /Users/runner/work/xgboost/xgboost/python-package/build/temp.macosx-10.9-x86_64-cpython-38/xgboost/src/gbm/gbtree.cc:179: Tree method is selected to be 'hist', which uses a single updater grow_quantile_histmaker.\n",
      "[01:09:25] INFO: /Users/runner/work/xgboost/xgboost/python-package/build/temp.macosx-10.9-x86_64-cpython-38/xgboost/src/gbm/gbtree.cc:179: Tree method is selected to be 'hist', which uses a single updater grow_quantile_histmaker.\n",
      "[01:09:25] INFO: /Users/runner/work/xgboost/xgboost/python-package/build/temp.macosx-10.9-x86_64-cpython-38/xgboost/src/gbm/gbtree.cc:179: Tree method is selected to be 'hist', which uses a single updater grow_quantile_histmaker.\n",
      "[01:09:25] INFO: /Users/runner/work/xgboost/xgboost/python-package/build/temp.macosx-10.9-x86_64-cpython-38/xgboost/src/gbm/gbtree.cc:179: Tree method is selected to be 'hist', which uses a single updater grow_quantile_histmaker.\n",
      "[01:09:25] INFO: /Users/runner/work/xgboost/xgboost/python-package/build/temp.macosx-10.9-x86_64-cpython-38/xgboost/src/gbm/gbtree.cc:179: Tree method is selected to be 'hist', which uses a single updater grow_quantile_histmaker.\n",
      "[01:09:25] INFO: /Users/runner/work/xgboost/xgboost/python-package/build/temp.macosx-10.9-x86_64-cpython-38/xgboost/src/gbm/gbtree.cc:179: Tree method is selected to be 'hist', which uses a single updater grow_quantile_histmaker.\n",
      "[01:09:25] INFO: /Users/runner/work/xgboost/xgboost/python-package/build/temp.macosx-10.9-x86_64-cpython-38/xgboost/src/gbm/gbtree.cc:179: Tree method is selected to be 'hist', which uses a single updater grow_quantile_histmaker.\n",
      "[01:09:26] INFO: /Users/runner/work/xgboost/xgboost/python-package/build/temp.macosx-10.9-x86_64-cpython-38/xgboost/src/gbm/gbtree.cc:179: Tree method is selected to be 'hist', which uses a single updater grow_quantile_histmaker.\n",
      "[01:09:26] INFO: /Users/runner/work/xgboost/xgboost/python-package/build/temp.macosx-10.9-x86_64-cpython-38/xgboost/src/gbm/gbtree.cc:179: Tree method is selected to be 'hist', which uses a single updater grow_quantile_histmaker.\n",
      "[01:09:26] INFO: /Users/runner/work/xgboost/xgboost/python-package/build/temp.macosx-10.9-x86_64-cpython-38/xgboost/src/gbm/gbtree.cc:179: Tree method is selected to be 'hist', which uses a single updater grow_quantile_histmaker.\n",
      "[01:09:26] INFO: /Users/runner/work/xgboost/xgboost/python-package/build/temp.macosx-10.9-x86_64-cpython-38/xgboost/src/gbm/gbtree.cc:179: Tree method is selected to be 'hist', which uses a single updater grow_quantile_histmaker.\n",
      "[01:09:26] INFO: /Users/runner/work/xgboost/xgboost/python-package/build/temp.macosx-10.9-x86_64-cpython-38/xgboost/src/gbm/gbtree.cc:179: Tree method is selected to be 'hist', which uses a single updater grow_quantile_histmaker.\n",
      "[01:09:26] INFO: /Users/runner/work/xgboost/xgboost/python-package/build/temp.macosx-10.9-x86_64-cpython-38/xgboost/src/gbm/gbtree.cc:179: Tree method is selected to be 'hist', which uses a single updater grow_quantile_histmaker.\n",
      "[01:09:26] INFO: /Users/runner/work/xgboost/xgboost/python-package/build/temp.macosx-10.9-x86_64-cpython-38/xgboost/src/gbm/gbtree.cc:179: Tree method is selected to be 'hist', which uses a single updater grow_quantile_histmaker.\n",
      "[01:09:26] INFO: /Users/runner/work/xgboost/xgboost/python-package/build/temp.macosx-10.9-x86_64-cpython-38/xgboost/src/gbm/gbtree.cc:179: Tree method is selected to be 'hist', which uses a single updater grow_quantile_histmaker.\n",
      "[01:09:26] INFO: /Users/runner/work/xgboost/xgboost/python-package/build/temp.macosx-10.9-x86_64-cpython-38/xgboost/src/gbm/gbtree.cc:179: Tree method is selected to be 'hist', which uses a single updater grow_quantile_histmaker.\n",
      "[01:09:26] INFO: /Users/runner/work/xgboost/xgboost/python-package/build/temp.macosx-10.9-x86_64-cpython-38/xgboost/src/gbm/gbtree.cc:179: Tree method is selected to be 'hist', which uses a single updater grow_quantile_histmaker.\n",
      "[01:09:26] INFO: /Users/runner/work/xgboost/xgboost/python-package/build/temp.macosx-10.9-x86_64-cpython-38/xgboost/src/gbm/gbtree.cc:179: Tree method is selected to be 'hist', which uses a single updater grow_quantile_histmaker.\n",
      "[01:09:26] INFO: /Users/runner/work/xgboost/xgboost/python-package/build/temp.macosx-10.9-x86_64-cpython-38/xgboost/src/gbm/gbtree.cc:179: Tree method is selected to be 'hist', which uses a single updater grow_quantile_histmaker.\n",
      "[01:09:26] INFO: /Users/runner/work/xgboost/xgboost/python-package/build/temp.macosx-10.9-x86_64-cpython-38/xgboost/src/gbm/gbtree.cc:179: Tree method is selected to be 'hist', which uses a single updater grow_quantile_histmaker.\n",
      "[01:09:26] INFO: /Users/runner/work/xgboost/xgboost/python-package/build/temp.macosx-10.9-x86_64-cpython-38/xgboost/src/gbm/gbtree.cc:179: Tree method is selected to be 'hist', which uses a single updater grow_quantile_histmaker.\n",
      "[01:09:26] INFO: /Users/runner/work/xgboost/xgboost/python-package/build/temp.macosx-10.9-x86_64-cpython-38/xgboost/src/gbm/gbtree.cc:179: Tree method is selected to be 'hist', which uses a single updater grow_quantile_histmaker.\n",
      "[01:09:26] INFO: /Users/runner/work/xgboost/xgboost/python-package/build/temp.macosx-10.9-x86_64-cpython-38/xgboost/src/gbm/gbtree.cc:179: Tree method is selected to be 'hist', which uses a single updater grow_quantile_histmaker.\n",
      "[01:09:26] INFO: /Users/runner/work/xgboost/xgboost/python-package/build/temp.macosx-10.9-x86_64-cpython-38/xgboost/src/gbm/gbtree.cc:179: Tree method is selected to be 'hist', which uses a single updater grow_quantile_histmaker.\n",
      "[01:09:26] INFO: /Users/runner/work/xgboost/xgboost/python-package/build/temp.macosx-10.9-x86_64-cpython-38/xgboost/src/gbm/gbtree.cc:179: Tree method is selected to be 'hist', which uses a single updater grow_quantile_histmaker.\n",
      "[01:09:26] INFO: /Users/runner/work/xgboost/xgboost/python-package/build/temp.macosx-10.9-x86_64-cpython-38/xgboost/src/gbm/gbtree.cc:179: Tree method is selected to be 'hist', which uses a single updater grow_quantile_histmaker.\n",
      "[01:09:26] INFO: /Users/runner/work/xgboost/xgboost/python-package/build/temp.macosx-10.9-x86_64-cpython-38/xgboost/src/gbm/gbtree.cc:179: Tree method is selected to be 'hist', which uses a single updater grow_quantile_histmaker.\n",
      "[01:09:26] INFO: /Users/runner/work/xgboost/xgboost/python-package/build/temp.macosx-10.9-x86_64-cpython-38/xgboost/src/gbm/gbtree.cc:179: Tree method is selected to be 'hist', which uses a single updater grow_quantile_histmaker.\n",
      "[01:09:26] INFO: /Users/runner/work/xgboost/xgboost/python-package/build/temp.macosx-10.9-x86_64-cpython-38/xgboost/src/gbm/gbtree.cc:179: Tree method is selected to be 'hist', which uses a single updater grow_quantile_histmaker.\n",
      "[01:09:26] INFO: /Users/runner/work/xgboost/xgboost/python-package/build/temp.macosx-10.9-x86_64-cpython-38/xgboost/src/gbm/gbtree.cc:179: Tree method is selected to be 'hist', which uses a single updater grow_quantile_histmaker.\n",
      "[01:09:27] INFO: /Users/runner/work/xgboost/xgboost/python-package/build/temp.macosx-10.9-x86_64-cpython-38/xgboost/src/gbm/gbtree.cc:179: Tree method is selected to be 'hist', which uses a single updater grow_quantile_histmaker.\n",
      "[01:09:27] INFO: /Users/runner/work/xgboost/xgboost/python-package/build/temp.macosx-10.9-x86_64-cpython-38/xgboost/src/gbm/gbtree.cc:179: Tree method is selected to be 'hist', which uses a single updater grow_quantile_histmaker.\n",
      "[01:09:27] INFO: /Users/runner/work/xgboost/xgboost/python-package/build/temp.macosx-10.9-x86_64-cpython-38/xgboost/src/gbm/gbtree.cc:179: Tree method is selected to be 'hist', which uses a single updater grow_quantile_histmaker.\n",
      "[01:09:27] INFO: /Users/runner/work/xgboost/xgboost/python-package/build/temp.macosx-10.9-x86_64-cpython-38/xgboost/src/gbm/gbtree.cc:179: Tree method is selected to be 'hist', which uses a single updater grow_quantile_histmaker.\n",
      "[01:09:27] INFO: /Users/runner/work/xgboost/xgboost/python-package/build/temp.macosx-10.9-x86_64-cpython-38/xgboost/src/gbm/gbtree.cc:179: Tree method is selected to be 'hist', which uses a single updater grow_quantile_histmaker.\n",
      "[01:09:27] INFO: /Users/runner/work/xgboost/xgboost/python-package/build/temp.macosx-10.9-x86_64-cpython-38/xgboost/src/gbm/gbtree.cc:179: Tree method is selected to be 'hist', which uses a single updater grow_quantile_histmaker.\n",
      "[01:09:27] INFO: /Users/runner/work/xgboost/xgboost/python-package/build/temp.macosx-10.9-x86_64-cpython-38/xgboost/src/gbm/gbtree.cc:179: Tree method is selected to be 'hist', which uses a single updater grow_quantile_histmaker.\n",
      "[01:09:27] INFO: /Users/runner/work/xgboost/xgboost/python-package/build/temp.macosx-10.9-x86_64-cpython-38/xgboost/src/gbm/gbtree.cc:179: Tree method is selected to be 'hist', which uses a single updater grow_quantile_histmaker.\n",
      "[01:09:27] INFO: /Users/runner/work/xgboost/xgboost/python-package/build/temp.macosx-10.9-x86_64-cpython-38/xgboost/src/gbm/gbtree.cc:179: Tree method is selected to be 'hist', which uses a single updater grow_quantile_histmaker.\n",
      "[01:09:27] INFO: /Users/runner/work/xgboost/xgboost/python-package/build/temp.macosx-10.9-x86_64-cpython-38/xgboost/src/gbm/gbtree.cc:179: Tree method is selected to be 'hist', which uses a single updater grow_quantile_histmaker.\n",
      "[01:09:27] INFO: /Users/runner/work/xgboost/xgboost/python-package/build/temp.macosx-10.9-x86_64-cpython-38/xgboost/src/gbm/gbtree.cc:179: Tree method is selected to be 'hist', which uses a single updater grow_quantile_histmaker.\n",
      "[01:09:27] INFO: /Users/runner/work/xgboost/xgboost/python-package/build/temp.macosx-10.9-x86_64-cpython-38/xgboost/src/gbm/gbtree.cc:179: Tree method is selected to be 'hist', which uses a single updater grow_quantile_histmaker.\n",
      "[01:09:27] INFO: /Users/runner/work/xgboost/xgboost/python-package/build/temp.macosx-10.9-x86_64-cpython-38/xgboost/src/gbm/gbtree.cc:179: Tree method is selected to be 'hist', which uses a single updater grow_quantile_histmaker.\n",
      "[01:09:27] INFO: /Users/runner/work/xgboost/xgboost/python-package/build/temp.macosx-10.9-x86_64-cpython-38/xgboost/src/gbm/gbtree.cc:179: Tree method is selected to be 'hist', which uses a single updater grow_quantile_histmaker.\n",
      "[01:09:27] INFO: /Users/runner/work/xgboost/xgboost/python-package/build/temp.macosx-10.9-x86_64-cpython-38/xgboost/src/gbm/gbtree.cc:179: Tree method is selected to be 'hist', which uses a single updater grow_quantile_histmaker.\n",
      "[01:09:27] INFO: /Users/runner/work/xgboost/xgboost/python-package/build/temp.macosx-10.9-x86_64-cpython-38/xgboost/src/gbm/gbtree.cc:179: Tree method is selected to be 'hist', which uses a single updater grow_quantile_histmaker.\n",
      "[01:09:27] INFO: /Users/runner/work/xgboost/xgboost/python-package/build/temp.macosx-10.9-x86_64-cpython-38/xgboost/src/gbm/gbtree.cc:179: Tree method is selected to be 'hist', which uses a single updater grow_quantile_histmaker.\n",
      "[01:09:27] INFO: /Users/runner/work/xgboost/xgboost/python-package/build/temp.macosx-10.9-x86_64-cpython-38/xgboost/src/gbm/gbtree.cc:179: Tree method is selected to be 'hist', which uses a single updater grow_quantile_histmaker.\n",
      "[01:09:27] INFO: /Users/runner/work/xgboost/xgboost/python-package/build/temp.macosx-10.9-x86_64-cpython-38/xgboost/src/gbm/gbtree.cc:179: Tree method is selected to be 'hist', which uses a single updater grow_quantile_histmaker.\n"
     ]
    }
   ],
   "source": [
    "xgmodel.fit()"
   ]
  },
  {
   "cell_type": "code",
   "execution_count": 38,
   "metadata": {},
   "outputs": [],
   "source": [
    "from Evaluator import Evaluator\n"
   ]
  },
  {
   "cell_type": "code",
   "execution_count": 39,
   "metadata": {},
   "outputs": [
    {
     "name": "stderr",
     "output_type": "stream",
     "text": [
      "  0%|          | 26/40896 [00:00<02:37, 259.42it/s]"
     ]
    },
    {
     "name": "stdout",
     "output_type": "stream",
     "text": [
      "Ignoring 733 ( 1.8%) Users that have less than 1 test interactions\n",
      "[01:09:39] INFO: /Users/runner/work/xgboost/xgboost/python-package/build/temp.macosx-10.9-x86_64-cpython-38/xgboost/src/gbm/gbtree.cc:179: Tree method is selected to be 'hist', which uses a single updater grow_quantile_histmaker.\n"
     ]
    },
    {
     "name": "stderr",
     "output_type": "stream",
     "text": [
      "100%|██████████| 40896/40896 [02:49<00:00, 241.06it/s]\n"
     ]
    },
    {
     "data": {
      "text/plain": [
       "0.011171974943798658"
      ]
     },
     "execution_count": 39,
     "metadata": {},
     "output_type": "execute_result"
    }
   ],
   "source": [
    "evaluator_custom = Evaluator(urm_test)\n",
    "\n",
    "evaluator_custom.calculate_map(xgmodel)"
   ]
  },
  {
   "cell_type": "code",
   "execution_count": null,
   "metadata": {},
   "outputs": [],
   "source": []
  }
 ],
 "metadata": {
  "kernelspec": {
   "display_name": "recsys2022",
   "language": "python",
   "name": "python3"
  },
  "language_info": {
   "codemirror_mode": {
    "name": "ipython",
    "version": 3
   },
   "file_extension": ".py",
   "mimetype": "text/x-python",
   "name": "python",
   "nbconvert_exporter": "python",
   "pygments_lexer": "ipython3",
   "version": "3.8.15"
  },
  "orig_nbformat": 4,
  "vscode": {
   "interpreter": {
    "hash": "3f9aa6f7ad69de8dc8f39b12c896330b86175efbd73be4d672e3a40e0e66fc97"
   }
  }
 },
 "nbformat": 4,
 "nbformat_minor": 2
}
